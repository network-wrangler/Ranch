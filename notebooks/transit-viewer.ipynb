{
 "cells": [
  {
   "cell_type": "code",
   "execution_count": 23,
   "metadata": {},
   "outputs": [],
   "source": [
    "import pandas as pd\n",
    "import geopandas as gpd\n",
    "import numpy as np\n",
    "import os\n",
    "\n",
    "from shapely.geometry import LineString"
   ]
  },
  {
   "cell_type": "markdown",
   "metadata": {},
   "source": [
    "# remote i/o"
   ]
  },
  {
   "cell_type": "code",
   "execution_count": 24,
   "metadata": {},
   "outputs": [],
   "source": [
    "# project directory\n",
    "root_dir = os.path.join(\"D:/github/ranch\")\n",
    "\n",
    "external_dir = os.path.join(root_dir, \"data\", \"external\")\n",
    "interim_dir = os.path.join(root_dir, \"data\", \"interim\")"
   ]
  },
  {
   "cell_type": "code",
   "execution_count": 65,
   "metadata": {},
   "outputs": [],
   "source": [
    "routing_result_dir = os.path.join(root_dir, 'tests', 'scratch', 'test_vta_more_routes')"
   ]
  },
  {
   "cell_type": "code",
   "execution_count": 66,
   "metadata": {},
   "outputs": [],
   "source": [
    "gtfs_input_dir = os.path.join(external_dir, 'gtfs', 'vta', 'VTA_2015_8_27')"
   ]
  },
  {
   "cell_type": "markdown",
   "metadata": {},
   "source": [
    "# read gtfs and routing results"
   ]
  },
  {
   "cell_type": "code",
   "execution_count": 67,
   "metadata": {},
   "outputs": [
    {
     "name": "stderr",
     "output_type": "stream",
     "text": [
      "C:\\Users\\wangs1\\AppData\\Local\\Continuum\\anaconda3\\envs\\ranch\\lib\\site-packages\\IPython\\core\\interactiveshell.py:3444: DtypeWarning: Columns (1,2) have mixed types.Specify dtype option on import or set low_memory=False.\n",
      "  exec(code_obj, self.user_global_ns, self.user_ns)\n"
     ]
    }
   ],
   "source": [
    "routing_df = gpd.read_file(os.path.join(routing_result_dir, 'bus_routing.geojson'))\n",
    "routing_df.rename(columns = {'source':'routing_method'}, inplace = True)\n",
    "\n",
    "stop_times_df = pd.read_csv(\n",
    "    os.path.join(gtfs_input_dir, 'stop_times.txt'), dtype = {'trip_id':object}\n",
    ")\n",
    "\n",
    "stops_df = pd.read_csv(\n",
    "    os.path.join(gtfs_input_dir, 'stops.txt')\n",
    ")\n",
    "\n",
    "routes_df = pd.read_csv(\n",
    "    os.path.join(gtfs_input_dir, 'routes.txt')\n",
    ")\n",
    "\n",
    "trips_df = pd.read_csv(\n",
    "    os.path.join(gtfs_input_dir, 'trips.txt'), dtype = {'trip_id':object, 'shape_id':object}\n",
    ")\n",
    "\n",
    "shapes_df = pd.read_csv(\n",
    "    os.path.join(gtfs_input_dir, 'shapes.txt'), dtype = {'shape_id':object}\n",
    ")"
   ]
  },
  {
   "cell_type": "code",
   "execution_count": 68,
   "metadata": {
    "scrolled": true
   },
   "outputs": [
    {
     "data": {
      "text/html": [
       "<div>\n",
       "<style scoped>\n",
       "    .dataframe tbody tr th:only-of-type {\n",
       "        vertical-align: middle;\n",
       "    }\n",
       "\n",
       "    .dataframe tbody tr th {\n",
       "        vertical-align: top;\n",
       "    }\n",
       "\n",
       "    .dataframe thead th {\n",
       "        text-align: right;\n",
       "    }\n",
       "</style>\n",
       "<table border=\"1\" class=\"dataframe\">\n",
       "  <thead>\n",
       "    <tr style=\"text-align: right;\">\n",
       "      <th></th>\n",
       "      <th>stop_id</th>\n",
       "      <th>stop_code</th>\n",
       "      <th>stop_name</th>\n",
       "      <th>stop_desc</th>\n",
       "      <th>stop_lat</th>\n",
       "      <th>stop_lon</th>\n",
       "      <th>zone_id</th>\n",
       "    </tr>\n",
       "  </thead>\n",
       "  <tbody>\n",
       "    <tr>\n",
       "      <th>0</th>\n",
       "      <td>4785</td>\n",
       "      <td>64785</td>\n",
       "      <td>SANTA TERESA STATION (1)</td>\n",
       "      <td>NaN</td>\n",
       "      <td>37.235966</td>\n",
       "      <td>-121.789491</td>\n",
       "      <td>1</td>\n",
       "    </tr>\n",
       "    <tr>\n",
       "      <th>1</th>\n",
       "      <td>4735</td>\n",
       "      <td>64735</td>\n",
       "      <td>ALMADEN STATION (1)</td>\n",
       "      <td>NaN</td>\n",
       "      <td>37.244565</td>\n",
       "      <td>-121.870711</td>\n",
       "      <td>1</td>\n",
       "    </tr>\n",
       "    <tr>\n",
       "      <th>2</th>\n",
       "      <td>4733</td>\n",
       "      <td>64733</td>\n",
       "      <td>OHLONE-CHYNOWETH STATION (1)</td>\n",
       "      <td>NaN</td>\n",
       "      <td>37.257423</td>\n",
       "      <td>-121.860279</td>\n",
       "      <td>1</td>\n",
       "    </tr>\n",
       "    <tr>\n",
       "      <th>3</th>\n",
       "      <td>4780</td>\n",
       "      <td>64780</td>\n",
       "      <td>CAPITOL STATION (1)</td>\n",
       "      <td>NaN</td>\n",
       "      <td>37.273901</td>\n",
       "      <td>-121.862964</td>\n",
       "      <td>1</td>\n",
       "    </tr>\n",
       "    <tr>\n",
       "      <th>4</th>\n",
       "      <td>4778</td>\n",
       "      <td>64778</td>\n",
       "      <td>TAMIEN STATION (1)</td>\n",
       "      <td>NaN</td>\n",
       "      <td>37.311257</td>\n",
       "      <td>-121.884300</td>\n",
       "      <td>1</td>\n",
       "    </tr>\n",
       "    <tr>\n",
       "      <th>...</th>\n",
       "      <td>...</td>\n",
       "      <td>...</td>\n",
       "      <td>...</td>\n",
       "      <td>...</td>\n",
       "      <td>...</td>\n",
       "      <td>...</td>\n",
       "      <td>...</td>\n",
       "    </tr>\n",
       "    <tr>\n",
       "      <th>3861</th>\n",
       "      <td>5662</td>\n",
       "      <td>65662</td>\n",
       "      <td>CAMINO ARROYO &amp; GILROY CROSSING</td>\n",
       "      <td>NaN</td>\n",
       "      <td>37.001771</td>\n",
       "      <td>-121.550668</td>\n",
       "      <td>1</td>\n",
       "    </tr>\n",
       "    <tr>\n",
       "      <th>3862</th>\n",
       "      <td>5422</td>\n",
       "      <td>65422</td>\n",
       "      <td>CAMINO ARROYO &amp; LINDSTEADT</td>\n",
       "      <td>NaN</td>\n",
       "      <td>37.007519</td>\n",
       "      <td>-121.553642</td>\n",
       "      <td>1</td>\n",
       "    </tr>\n",
       "    <tr>\n",
       "      <th>3863</th>\n",
       "      <td>5423</td>\n",
       "      <td>65423</td>\n",
       "      <td>CAMINO ARROYO &amp; RENZ</td>\n",
       "      <td>NaN</td>\n",
       "      <td>37.005830</td>\n",
       "      <td>-121.551771</td>\n",
       "      <td>1</td>\n",
       "    </tr>\n",
       "    <tr>\n",
       "      <th>3864</th>\n",
       "      <td>5659</td>\n",
       "      <td>65659</td>\n",
       "      <td>CAMINO ARROYO &amp; RENZ</td>\n",
       "      <td>NaN</td>\n",
       "      <td>37.006689</td>\n",
       "      <td>-121.552359</td>\n",
       "      <td>1</td>\n",
       "    </tr>\n",
       "    <tr>\n",
       "      <th>3865</th>\n",
       "      <td>5660</td>\n",
       "      <td>65660</td>\n",
       "      <td>CAMINO ARROYO &amp; LINDSTEADT</td>\n",
       "      <td>NaN</td>\n",
       "      <td>37.008344</td>\n",
       "      <td>-121.554007</td>\n",
       "      <td>1</td>\n",
       "    </tr>\n",
       "  </tbody>\n",
       "</table>\n",
       "<p>3866 rows × 7 columns</p>\n",
       "</div>"
      ],
      "text/plain": [
       "      stop_id  stop_code                        stop_name  stop_desc  \\\n",
       "0        4785      64785         SANTA TERESA STATION (1)        NaN   \n",
       "1        4735      64735              ALMADEN STATION (1)        NaN   \n",
       "2        4733      64733     OHLONE-CHYNOWETH STATION (1)        NaN   \n",
       "3        4780      64780              CAPITOL STATION (1)        NaN   \n",
       "4        4778      64778               TAMIEN STATION (1)        NaN   \n",
       "...       ...        ...                              ...        ...   \n",
       "3861     5662      65662  CAMINO ARROYO & GILROY CROSSING        NaN   \n",
       "3862     5422      65422       CAMINO ARROYO & LINDSTEADT        NaN   \n",
       "3863     5423      65423             CAMINO ARROYO & RENZ        NaN   \n",
       "3864     5659      65659             CAMINO ARROYO & RENZ        NaN   \n",
       "3865     5660      65660       CAMINO ARROYO & LINDSTEADT        NaN   \n",
       "\n",
       "       stop_lat    stop_lon  zone_id  \n",
       "0     37.235966 -121.789491        1  \n",
       "1     37.244565 -121.870711        1  \n",
       "2     37.257423 -121.860279        1  \n",
       "3     37.273901 -121.862964        1  \n",
       "4     37.311257 -121.884300        1  \n",
       "...         ...         ...      ...  \n",
       "3861  37.001771 -121.550668        1  \n",
       "3862  37.007519 -121.553642        1  \n",
       "3863  37.005830 -121.551771        1  \n",
       "3864  37.006689 -121.552359        1  \n",
       "3865  37.008344 -121.554007        1  \n",
       "\n",
       "[3866 rows x 7 columns]"
      ]
     },
     "execution_count": 68,
     "metadata": {},
     "output_type": "execute_result"
    }
   ],
   "source": [
    "stops_df"
   ]
  },
  {
   "cell_type": "code",
   "execution_count": 69,
   "metadata": {},
   "outputs": [
    {
     "name": "stdout",
     "output_type": "stream",
     "text": [
      "<class 'geopandas.geodataframe.GeoDataFrame'>\n",
      "RangeIndex: 29775 entries, 0 to 29774\n",
      "Data columns (total 12 columns):\n",
      " #   Column              Non-Null Count  Dtype   \n",
      "---  ------              --------------  -----   \n",
      " 0   u                   29775 non-null  float64 \n",
      " 1   v                   29775 non-null  float64 \n",
      " 2   agency_raw_name     29775 non-null  object  \n",
      " 3   shape_id            29775 non-null  object  \n",
      " 4   trip_id             29775 non-null  object  \n",
      " 5   fromIntersectionId  29775 non-null  object  \n",
      " 6   toIntersectionId    29775 non-null  object  \n",
      " 7   shstReferenceId     29775 non-null  object  \n",
      " 8   shstGeometryId      29775 non-null  object  \n",
      " 9   agency_shape_id     29775 non-null  object  \n",
      " 10  method              29775 non-null  object  \n",
      " 11  geometry            29775 non-null  geometry\n",
      "dtypes: float64(2), geometry(1), object(9)\n",
      "memory usage: 2.7+ MB\n"
     ]
    }
   ],
   "source": [
    "routing_df.info()"
   ]
  },
  {
   "cell_type": "markdown",
   "metadata": {},
   "source": [
    "# add route name to trips"
   ]
  },
  {
   "cell_type": "code",
   "execution_count": 70,
   "metadata": {},
   "outputs": [],
   "source": [
    "# add route names to trips\n",
    "\n",
    "trips_df = pd.merge(\n",
    "    trips_df,\n",
    "    routes_df[['route_id', 'route_short_name', 'route_long_name']],\n",
    "    how = 'left',\n",
    "    on = ['route_id']\n",
    ")"
   ]
  },
  {
   "cell_type": "code",
   "execution_count": 71,
   "metadata": {},
   "outputs": [
    {
     "name": "stdout",
     "output_type": "stream",
     "text": [
      "<class 'pandas.core.frame.DataFrame'>\n",
      "Int64Index: 8606 entries, 0 to 8605\n",
      "Data columns (total 9 columns):\n",
      " #   Column            Non-Null Count  Dtype \n",
      "---  ------            --------------  ----- \n",
      " 0   route_id          8606 non-null   int64 \n",
      " 1   service_id        8606 non-null   object\n",
      " 2   trip_id           8606 non-null   object\n",
      " 3   trip_headsign     8606 non-null   object\n",
      " 4   direction_id      8606 non-null   int64 \n",
      " 5   block_id          8606 non-null   int64 \n",
      " 6   shape_id          8606 non-null   object\n",
      " 7   route_short_name  8606 non-null   int64 \n",
      " 8   route_long_name   8606 non-null   object\n",
      "dtypes: int64(4), object(5)\n",
      "memory usage: 672.3+ KB\n"
     ]
    }
   ],
   "source": [
    "trips_df.info()"
   ]
  },
  {
   "cell_type": "markdown",
   "metadata": {},
   "source": [
    "# add trip info to ranch routing result"
   ]
  },
  {
   "cell_type": "code",
   "execution_count": 72,
   "metadata": {},
   "outputs": [],
   "source": [
    "# add trip info to routing result\n",
    "\n",
    "routing_df = pd.merge(\n",
    "    routing_df,\n",
    "    trips_df[['trip_id', 'shape_id', 'route_id', 'direction_id', 'route_short_name', 'route_long_name']],\n",
    "    how='left',\n",
    "    on =['trip_id', 'shape_id']\n",
    ")\n",
    "\n",
    "routing_df['source'] = 'routing'"
   ]
  },
  {
   "cell_type": "code",
   "execution_count": 73,
   "metadata": {},
   "outputs": [
    {
     "name": "stdout",
     "output_type": "stream",
     "text": [
      "<class 'geopandas.geodataframe.GeoDataFrame'>\n",
      "Int64Index: 29775 entries, 0 to 29774\n",
      "Data columns (total 17 columns):\n",
      " #   Column              Non-Null Count  Dtype   \n",
      "---  ------              --------------  -----   \n",
      " 0   u                   29775 non-null  float64 \n",
      " 1   v                   29775 non-null  float64 \n",
      " 2   agency_raw_name     29775 non-null  object  \n",
      " 3   shape_id            29775 non-null  object  \n",
      " 4   trip_id             29775 non-null  object  \n",
      " 5   fromIntersectionId  29775 non-null  object  \n",
      " 6   toIntersectionId    29775 non-null  object  \n",
      " 7   shstReferenceId     29775 non-null  object  \n",
      " 8   shstGeometryId      29775 non-null  object  \n",
      " 9   agency_shape_id     29775 non-null  object  \n",
      " 10  method              29775 non-null  object  \n",
      " 11  geometry            29775 non-null  geometry\n",
      " 12  route_id            29775 non-null  int64   \n",
      " 13  direction_id        29775 non-null  int64   \n",
      " 14  route_short_name    29775 non-null  int64   \n",
      " 15  route_long_name     29775 non-null  object  \n",
      " 16  source              29775 non-null  object  \n",
      "dtypes: float64(2), geometry(1), int64(3), object(11)\n",
      "memory usage: 4.1+ MB\n"
     ]
    }
   ],
   "source": [
    "routing_df.info()"
   ]
  },
  {
   "cell_type": "code",
   "execution_count": 74,
   "metadata": {},
   "outputs": [],
   "source": [
    "trips_df = trips_df[trips_df.trip_id.isin(routing_df.trip_id.unique())]"
   ]
  },
  {
   "cell_type": "code",
   "execution_count": 75,
   "metadata": {},
   "outputs": [
    {
     "name": "stdout",
     "output_type": "stream",
     "text": [
      "<class 'pandas.core.frame.DataFrame'>\n",
      "Int64Index: 107 entries, 0 to 2185\n",
      "Data columns (total 9 columns):\n",
      " #   Column            Non-Null Count  Dtype \n",
      "---  ------            --------------  ----- \n",
      " 0   route_id          107 non-null    int64 \n",
      " 1   service_id        107 non-null    object\n",
      " 2   trip_id           107 non-null    object\n",
      " 3   trip_headsign     107 non-null    object\n",
      " 4   direction_id      107 non-null    int64 \n",
      " 5   block_id          107 non-null    int64 \n",
      " 6   shape_id          107 non-null    object\n",
      " 7   route_short_name  107 non-null    int64 \n",
      " 8   route_long_name   107 non-null    object\n",
      "dtypes: int64(4), object(5)\n",
      "memory usage: 8.4+ KB\n"
     ]
    }
   ],
   "source": [
    "trips_df.info()"
   ]
  },
  {
   "cell_type": "markdown",
   "metadata": {},
   "source": [
    "# create stop time shapes from gtfs"
   ]
  },
  {
   "cell_type": "code",
   "execution_count": 76,
   "metadata": {},
   "outputs": [],
   "source": [
    "stop_times_df = pd.merge(\n",
    "    stop_times_df,\n",
    "    stops_df[['stop_id', 'stop_lat', 'stop_lon']],\n",
    "    how='left',\n",
    "    on =['stop_id']\n",
    ")\n",
    "\n",
    "stop_times_gdf = gpd.GeoDataFrame(\n",
    "    stop_times_df,\n",
    "    geometry = gpd.points_from_xy(stop_times_df['stop_lon'], stop_times_df['stop_lat']),\n",
    "    crs = routing_df.crs\n",
    ")\n",
    "\n",
    "stop_times_line_gdf = stop_times_gdf.sort_values(by=['stop_sequence']).groupby(['trip_id'])['geometry'].apply(\n",
    "    lambda x: LineString(x.tolist())\n",
    ")\n",
    "\n",
    "stop_times_line_gdf = gpd.GeoDataFrame(stop_times_line_gdf, geometry = 'geometry')\n",
    "\n",
    "stop_times_line_gdf = pd.merge(\n",
    "    stop_times_line_gdf,\n",
    "    trips_df[['trip_id', 'shape_id', 'route_id', 'direction_id', 'route_short_name', 'route_long_name']],\n",
    "    how='inner',\n",
    "    on =['trip_id']\n",
    ")\n",
    "\n",
    "stop_times_line_gdf['source'] = 'stop_times'"
   ]
  },
  {
   "cell_type": "markdown",
   "metadata": {},
   "source": [
    "shapes_df = pd.merge(\n",
    "    shapes_df,\n",
    "    trips_df[['trip_id', 'shape_id', 'route_id', 'direction_id', 'route_short_name', 'route_long_name']],\n",
    "    how = 'inner',\n",
    "    on = ['shape_id']\n",
    ")"
   ]
  },
  {
   "cell_type": "markdown",
   "metadata": {},
   "source": [
    "# create shapes from gtfs"
   ]
  },
  {
   "cell_type": "code",
   "execution_count": 77,
   "metadata": {},
   "outputs": [],
   "source": [
    "shapes_gdf = gpd.GeoDataFrame(\n",
    "    shapes_df,\n",
    "    geometry = gpd.points_from_xy(shapes_df['shape_pt_lon'], shapes_df['shape_pt_lat']),\n",
    "    crs = routing_df.crs\n",
    ")\n",
    "\n",
    "shapes_line_gdf = shapes_gdf.sort_values(by=['shape_pt_sequence']).groupby(['shape_id'])['geometry'].apply(\n",
    "    lambda x: LineString(x.tolist())\n",
    ")\n",
    "\n",
    "shapes_line_gdf = gpd.GeoDataFrame(shapes_line_gdf, geometry = 'geometry')\n",
    "\n",
    "shapes_line_gdf = pd.merge(\n",
    "    shapes_line_gdf,\n",
    "    trips_df[['trip_id', 'shape_id', 'route_id', 'direction_id', 'route_short_name', 'route_long_name']],\n",
    "    how = 'inner',\n",
    "    on = ['shape_id']\n",
    ")\n",
    "\n",
    "shapes_line_gdf['source'] ='shapes'"
   ]
  },
  {
   "cell_type": "markdown",
   "metadata": {},
   "source": [
    "# combining the 3 data"
   ]
  },
  {
   "cell_type": "code",
   "execution_count": 78,
   "metadata": {},
   "outputs": [
    {
     "name": "stdout",
     "output_type": "stream",
     "text": [
      "Index(['u', 'v', 'agency_raw_name', 'shape_id', 'trip_id',\n",
      "       'fromIntersectionId', 'toIntersectionId', 'shstReferenceId',\n",
      "       'shstGeometryId', 'agency_shape_id', 'method', 'geometry', 'route_id',\n",
      "       'direction_id', 'route_short_name', 'route_long_name', 'source'],\n",
      "      dtype='object')\n",
      "Index(['trip_id', 'geometry', 'shape_id', 'route_id', 'direction_id',\n",
      "       'route_short_name', 'route_long_name', 'source'],\n",
      "      dtype='object')\n",
      "Index(['shape_id', 'geometry', 'trip_id', 'route_id', 'direction_id',\n",
      "       'route_short_name', 'route_long_name', 'source'],\n",
      "      dtype='object')\n"
     ]
    }
   ],
   "source": [
    "print(routing_df.columns)\n",
    "print(stop_times_line_gdf.columns)\n",
    "print(shapes_line_gdf.columns)"
   ]
  },
  {
   "cell_type": "code",
   "execution_count": 79,
   "metadata": {},
   "outputs": [
    {
     "data": {
      "text/plain": [
       "107"
      ]
     },
     "execution_count": 79,
     "metadata": {},
     "output_type": "execute_result"
    }
   ],
   "source": [
    "routing_df.trip_id.nunique()"
   ]
  },
  {
   "cell_type": "code",
   "execution_count": 80,
   "metadata": {},
   "outputs": [
    {
     "data": {
      "text/plain": [
       "107"
      ]
     },
     "execution_count": 80,
     "metadata": {},
     "output_type": "execute_result"
    }
   ],
   "source": [
    "stop_times_line_gdf.trip_id.nunique()"
   ]
  },
  {
   "cell_type": "code",
   "execution_count": 81,
   "metadata": {},
   "outputs": [
    {
     "data": {
      "text/plain": [
       "107"
      ]
     },
     "execution_count": 81,
     "metadata": {},
     "output_type": "execute_result"
    }
   ],
   "source": [
    "shapes_line_gdf.trip_id.nunique()"
   ]
  },
  {
   "cell_type": "code",
   "execution_count": 82,
   "metadata": {},
   "outputs": [
    {
     "data": {
      "text/plain": [
       "33"
      ]
     },
     "execution_count": 82,
     "metadata": {},
     "output_type": "execute_result"
    }
   ],
   "source": [
    "shapes_line_gdf.shape_id.nunique()"
   ]
  },
  {
   "cell_type": "code",
   "execution_count": 83,
   "metadata": {},
   "outputs": [
    {
     "data": {
      "text/plain": [
       "33"
      ]
     },
     "execution_count": 83,
     "metadata": {},
     "output_type": "execute_result"
    }
   ],
   "source": [
    "routing_df.shape_id.nunique()"
   ]
  },
  {
   "cell_type": "code",
   "execution_count": 84,
   "metadata": {},
   "outputs": [],
   "source": [
    "out_df = pd.concat(\n",
    "    [routing_df, stop_times_line_gdf, shapes_line_gdf],\n",
    "    sort = False,\n",
    "    ignore_index = True\n",
    ")"
   ]
  },
  {
   "cell_type": "markdown",
   "metadata": {},
   "source": [
    "# write out tableau data"
   ]
  },
  {
   "cell_type": "code",
   "execution_count": 85,
   "metadata": {},
   "outputs": [],
   "source": [
    "out_df.to_file(os.path.join(routing_result_dir, 'routing-reivew.geojson'), driver = 'GeoJSON')"
   ]
  },
  {
   "cell_type": "code",
   "execution_count": null,
   "metadata": {},
   "outputs": [],
   "source": []
  }
 ],
 "metadata": {
  "kernelspec": {
   "display_name": "Python 3 (ipykernel)",
   "language": "python",
   "name": "python3"
  },
  "language_info": {
   "codemirror_mode": {
    "name": "ipython",
    "version": 3
   },
   "file_extension": ".py",
   "mimetype": "text/x-python",
   "name": "python",
   "nbconvert_exporter": "python",
   "pygments_lexer": "ipython3",
   "version": "3.7.10"
  }
 },
 "nbformat": 4,
 "nbformat_minor": 2
}
