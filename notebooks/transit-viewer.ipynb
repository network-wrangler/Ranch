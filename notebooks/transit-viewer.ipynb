{
 "cells": [
  {
   "cell_type": "code",
   "execution_count": 1,
   "metadata": {},
   "outputs": [],
   "source": [
    "import pandas as pd\n",
    "import geopandas as gpd\n",
    "import numpy as np\n",
    "import os\n",
    "\n",
    "from shapely.geometry import LineString"
   ]
  },
  {
   "cell_type": "code",
   "execution_count": 2,
   "metadata": {},
   "outputs": [],
   "source": [
    "# project directory\n",
    "root_dir = os.path.join(\"D:/merced\")\n",
    "\n",
    "external_dir = os.path.join(root_dir, \"data\", \"external\")\n",
    "interim_dir = os.path.join(root_dir, \"data\", \"interim\")\n",
    "\n",
    "# software directory\n",
    "ranch_dir = os.path.join(\"D:/github/Ranch\")\n",
    "\n",
    "# the folder where SharedStreets extractions live\n",
    "\n",
    "shst_extract_dir = os.path.join(external_dir, \"sharedstreets_extract\")\n",
    "\n",
    "# the folder where OSMNX extractions live\n",
    "\n",
    "osm_extract_dir = os.path.join(external_dir, \"osmnx_extract\")"
   ]
  },
  {
   "cell_type": "code",
   "execution_count": 3,
   "metadata": {},
   "outputs": [],
   "source": [
    "routing_df = gpd.read_file(os.path.join(interim_dir, 'bus_routing.geojson'))\n",
    "routing_df.rename(columns = {'source':'routing_method'}, inplace = True)\n",
    "\n",
    "stop_times_df = pd.read_csv(os.path.join(external_dir, 'gtfs', '2021', 'The Bus', 'stop_times.txt'),\n",
    "                           dtype = {'trip_id':object})\n",
    "stops_df = pd.read_csv(os.path.join(external_dir, 'gtfs', '2021', 'The Bus', 'stops.txt'))\n",
    "routes_df = pd.read_csv(os.path.join(external_dir, 'gtfs', '2021', 'The Bus', 'routes.txt'))\n",
    "trips_df = pd.read_csv(os.path.join(external_dir, 'gtfs', '2021', 'The Bus', 'trips.txt'),\n",
    "                           dtype = {'trip_id':object, 'shape_id':object})\n",
    "shapes_df = pd.read_csv(os.path.join(external_dir, 'gtfs', '2021', 'The Bus', 'shapes.txt'),\n",
    "                           dtype = {'shape_id':object})"
   ]
  },
  {
   "cell_type": "code",
   "execution_count": 4,
   "metadata": {
    "scrolled": true
   },
   "outputs": [
    {
     "data": {
      "text/html": [
       "<div>\n",
       "<style scoped>\n",
       "    .dataframe tbody tr th:only-of-type {\n",
       "        vertical-align: middle;\n",
       "    }\n",
       "\n",
       "    .dataframe tbody tr th {\n",
       "        vertical-align: top;\n",
       "    }\n",
       "\n",
       "    .dataframe thead th {\n",
       "        text-align: right;\n",
       "    }\n",
       "</style>\n",
       "<table border=\"1\" class=\"dataframe\">\n",
       "  <thead>\n",
       "    <tr style=\"text-align: right;\">\n",
       "      <th></th>\n",
       "      <th>stop_id</th>\n",
       "      <th>stop_code</th>\n",
       "      <th>platform_code</th>\n",
       "      <th>stop_name</th>\n",
       "      <th>stop_desc</th>\n",
       "      <th>stop_lat</th>\n",
       "      <th>stop_lon</th>\n",
       "      <th>zone_id</th>\n",
       "      <th>stop_url</th>\n",
       "      <th>location_type</th>\n",
       "      <th>parent_station</th>\n",
       "      <th>stop_timezone</th>\n",
       "      <th>position</th>\n",
       "      <th>direction</th>\n",
       "      <th>wheelchair_boarding</th>\n",
       "      <th>tts_stop_name</th>\n",
       "      <th>area_id</th>\n",
       "    </tr>\n",
       "  </thead>\n",
       "  <tbody>\n",
       "    <tr>\n",
       "      <th>0</th>\n",
       "      <td>2584569</td>\n",
       "      <td>NaN</td>\n",
       "      <td>NaN</td>\n",
       "      <td>San Luis Plaza (Eastbound)</td>\n",
       "      <td>NaN</td>\n",
       "      <td>37.055539</td>\n",
       "      <td>-120.865785</td>\n",
       "      <td>NaN</td>\n",
       "      <td>NaN</td>\n",
       "      <td>0</td>\n",
       "      <td>NaN</td>\n",
       "      <td>America/Los_Angeles</td>\n",
       "      <td>NaN</td>\n",
       "      <td>NaN</td>\n",
       "      <td>0</td>\n",
       "      <td>NaN</td>\n",
       "      <td>NaN</td>\n",
       "    </tr>\n",
       "    <tr>\n",
       "      <th>1</th>\n",
       "      <td>2584570</td>\n",
       "      <td>NaN</td>\n",
       "      <td>NaN</td>\n",
       "      <td>Dos Palos Y Cafe 33 (to Merced)</td>\n",
       "      <td>NaN</td>\n",
       "      <td>37.048181</td>\n",
       "      <td>-120.635910</td>\n",
       "      <td>NaN</td>\n",
       "      <td>NaN</td>\n",
       "      <td>0</td>\n",
       "      <td>NaN</td>\n",
       "      <td>America/Los_Angeles</td>\n",
       "      <td>NaN</td>\n",
       "      <td>NaN</td>\n",
       "      <td>0</td>\n",
       "      <td>NaN</td>\n",
       "      <td>NaN</td>\n",
       "    </tr>\n",
       "    <tr>\n",
       "      <th>2</th>\n",
       "      <td>2584571</td>\n",
       "      <td>NaN</td>\n",
       "      <td>NaN</td>\n",
       "      <td>Dos Palos Cafe 33 (to Los Banos)</td>\n",
       "      <td>NaN</td>\n",
       "      <td>37.048215</td>\n",
       "      <td>-120.635942</td>\n",
       "      <td>NaN</td>\n",
       "      <td>NaN</td>\n",
       "      <td>0</td>\n",
       "      <td>NaN</td>\n",
       "      <td>America/Los_Angeles</td>\n",
       "      <td>NaN</td>\n",
       "      <td>NaN</td>\n",
       "      <td>0</td>\n",
       "      <td>NaN</td>\n",
       "      <td>NaN</td>\n",
       "    </tr>\n",
       "    <tr>\n",
       "      <th>3</th>\n",
       "      <td>2584573</td>\n",
       "      <td>NaN</td>\n",
       "      <td>NaN</td>\n",
       "      <td>Foster Farms (To Merced)</td>\n",
       "      <td>NaN</td>\n",
       "      <td>37.391376</td>\n",
       "      <td>-120.722635</td>\n",
       "      <td>NaN</td>\n",
       "      <td>NaN</td>\n",
       "      <td>0</td>\n",
       "      <td>NaN</td>\n",
       "      <td>America/Los_Angeles</td>\n",
       "      <td>NaN</td>\n",
       "      <td>NaN</td>\n",
       "      <td>0</td>\n",
       "      <td>NaN</td>\n",
       "      <td>NaN</td>\n",
       "    </tr>\n",
       "    <tr>\n",
       "      <th>4</th>\n",
       "      <td>2584574</td>\n",
       "      <td>NaN</td>\n",
       "      <td>NaN</td>\n",
       "      <td>G St @ 11th (southbound)</td>\n",
       "      <td>NaN</td>\n",
       "      <td>37.292708</td>\n",
       "      <td>-120.479035</td>\n",
       "      <td>NaN</td>\n",
       "      <td>NaN</td>\n",
       "      <td>0</td>\n",
       "      <td>NaN</td>\n",
       "      <td>America/Los_Angeles</td>\n",
       "      <td>NaN</td>\n",
       "      <td>NaN</td>\n",
       "      <td>0</td>\n",
       "      <td>NaN</td>\n",
       "      <td>NaN</td>\n",
       "    </tr>\n",
       "    <tr>\n",
       "      <th>...</th>\n",
       "      <td>...</td>\n",
       "      <td>...</td>\n",
       "      <td>...</td>\n",
       "      <td>...</td>\n",
       "      <td>...</td>\n",
       "      <td>...</td>\n",
       "      <td>...</td>\n",
       "      <td>...</td>\n",
       "      <td>...</td>\n",
       "      <td>...</td>\n",
       "      <td>...</td>\n",
       "      <td>...</td>\n",
       "      <td>...</td>\n",
       "      <td>...</td>\n",
       "      <td>...</td>\n",
       "      <td>...</td>\n",
       "      <td>...</td>\n",
       "    </tr>\n",
       "    <tr>\n",
       "      <th>480</th>\n",
       "      <td>782489</td>\n",
       "      <td>NaN</td>\n",
       "      <td>NaN</td>\n",
       "      <td>Obanion Park</td>\n",
       "      <td>NaN</td>\n",
       "      <td>36.992336</td>\n",
       "      <td>-120.626187</td>\n",
       "      <td>566.0</td>\n",
       "      <td>NaN</td>\n",
       "      <td>0</td>\n",
       "      <td>NaN</td>\n",
       "      <td>America/Los_Angeles</td>\n",
       "      <td>NaN</td>\n",
       "      <td>NaN</td>\n",
       "      <td>0</td>\n",
       "      <td>NaN</td>\n",
       "      <td>566.0</td>\n",
       "    </tr>\n",
       "    <tr>\n",
       "      <th>481</th>\n",
       "      <td>835001</td>\n",
       "      <td>NaN</td>\n",
       "      <td>NaN</td>\n",
       "      <td>Castle H.S.A.</td>\n",
       "      <td>NaN</td>\n",
       "      <td>37.361993</td>\n",
       "      <td>-120.572221</td>\n",
       "      <td>NaN</td>\n",
       "      <td>NaN</td>\n",
       "      <td>0</td>\n",
       "      <td>NaN</td>\n",
       "      <td>America/Los_Angeles</td>\n",
       "      <td>NaN</td>\n",
       "      <td>NaN</td>\n",
       "      <td>0</td>\n",
       "      <td>NaN</td>\n",
       "      <td>NaN</td>\n",
       "    </tr>\n",
       "    <tr>\n",
       "      <th>482</th>\n",
       "      <td>835719</td>\n",
       "      <td>NaN</td>\n",
       "      <td>NaN</td>\n",
       "      <td>T St. @ 3rd St.</td>\n",
       "      <td>NaN</td>\n",
       "      <td>37.291789</td>\n",
       "      <td>-120.503653</td>\n",
       "      <td>NaN</td>\n",
       "      <td>NaN</td>\n",
       "      <td>0</td>\n",
       "      <td>NaN</td>\n",
       "      <td>America/Los_Angeles</td>\n",
       "      <td>NaN</td>\n",
       "      <td>NaN</td>\n",
       "      <td>0</td>\n",
       "      <td>NaN</td>\n",
       "      <td>NaN</td>\n",
       "    </tr>\n",
       "    <tr>\n",
       "      <th>483</th>\n",
       "      <td>844203</td>\n",
       "      <td>NaN</td>\n",
       "      <td>NaN</td>\n",
       "      <td>Foster Farms (To Livingston)</td>\n",
       "      <td>NaN</td>\n",
       "      <td>37.391296</td>\n",
       "      <td>-120.722486</td>\n",
       "      <td>562.0</td>\n",
       "      <td>NaN</td>\n",
       "      <td>0</td>\n",
       "      <td>NaN</td>\n",
       "      <td>America/Los_Angeles</td>\n",
       "      <td>NaN</td>\n",
       "      <td>NaN</td>\n",
       "      <td>0</td>\n",
       "      <td>NaN</td>\n",
       "      <td>562.0</td>\n",
       "    </tr>\n",
       "    <tr>\n",
       "      <th>484</th>\n",
       "      <td>844204</td>\n",
       "      <td>NaN</td>\n",
       "      <td>NaN</td>\n",
       "      <td>Food 4 Less / Dollar Tree</td>\n",
       "      <td>NaN</td>\n",
       "      <td>37.058013</td>\n",
       "      <td>-120.822685</td>\n",
       "      <td>565.0</td>\n",
       "      <td>NaN</td>\n",
       "      <td>0</td>\n",
       "      <td>NaN</td>\n",
       "      <td>America/Los_Angeles</td>\n",
       "      <td>NaN</td>\n",
       "      <td>NaN</td>\n",
       "      <td>0</td>\n",
       "      <td>NaN</td>\n",
       "      <td>565.0</td>\n",
       "    </tr>\n",
       "  </tbody>\n",
       "</table>\n",
       "<p>485 rows × 17 columns</p>\n",
       "</div>"
      ],
      "text/plain": [
       "     stop_id  stop_code  platform_code                         stop_name  \\\n",
       "0    2584569        NaN            NaN        San Luis Plaza (Eastbound)   \n",
       "1    2584570        NaN            NaN   Dos Palos Y Cafe 33 (to Merced)   \n",
       "2    2584571        NaN            NaN  Dos Palos Cafe 33 (to Los Banos)   \n",
       "3    2584573        NaN            NaN          Foster Farms (To Merced)   \n",
       "4    2584574        NaN            NaN          G St @ 11th (southbound)   \n",
       "..       ...        ...            ...                               ...   \n",
       "480   782489        NaN            NaN                      Obanion Park   \n",
       "481   835001        NaN            NaN                     Castle H.S.A.   \n",
       "482   835719        NaN            NaN                   T St. @ 3rd St.   \n",
       "483   844203        NaN            NaN      Foster Farms (To Livingston)   \n",
       "484   844204        NaN            NaN         Food 4 Less / Dollar Tree   \n",
       "\n",
       "     stop_desc   stop_lat    stop_lon  zone_id  stop_url  location_type  \\\n",
       "0          NaN  37.055539 -120.865785      NaN       NaN              0   \n",
       "1          NaN  37.048181 -120.635910      NaN       NaN              0   \n",
       "2          NaN  37.048215 -120.635942      NaN       NaN              0   \n",
       "3          NaN  37.391376 -120.722635      NaN       NaN              0   \n",
       "4          NaN  37.292708 -120.479035      NaN       NaN              0   \n",
       "..         ...        ...         ...      ...       ...            ...   \n",
       "480        NaN  36.992336 -120.626187    566.0       NaN              0   \n",
       "481        NaN  37.361993 -120.572221      NaN       NaN              0   \n",
       "482        NaN  37.291789 -120.503653      NaN       NaN              0   \n",
       "483        NaN  37.391296 -120.722486    562.0       NaN              0   \n",
       "484        NaN  37.058013 -120.822685    565.0       NaN              0   \n",
       "\n",
       "     parent_station        stop_timezone  position  direction  \\\n",
       "0               NaN  America/Los_Angeles       NaN        NaN   \n",
       "1               NaN  America/Los_Angeles       NaN        NaN   \n",
       "2               NaN  America/Los_Angeles       NaN        NaN   \n",
       "3               NaN  America/Los_Angeles       NaN        NaN   \n",
       "4               NaN  America/Los_Angeles       NaN        NaN   \n",
       "..              ...                  ...       ...        ...   \n",
       "480             NaN  America/Los_Angeles       NaN        NaN   \n",
       "481             NaN  America/Los_Angeles       NaN        NaN   \n",
       "482             NaN  America/Los_Angeles       NaN        NaN   \n",
       "483             NaN  America/Los_Angeles       NaN        NaN   \n",
       "484             NaN  America/Los_Angeles       NaN        NaN   \n",
       "\n",
       "     wheelchair_boarding  tts_stop_name  area_id  \n",
       "0                      0            NaN      NaN  \n",
       "1                      0            NaN      NaN  \n",
       "2                      0            NaN      NaN  \n",
       "3                      0            NaN      NaN  \n",
       "4                      0            NaN      NaN  \n",
       "..                   ...            ...      ...  \n",
       "480                    0            NaN    566.0  \n",
       "481                    0            NaN      NaN  \n",
       "482                    0            NaN      NaN  \n",
       "483                    0            NaN    562.0  \n",
       "484                    0            NaN    565.0  \n",
       "\n",
       "[485 rows x 17 columns]"
      ]
     },
     "execution_count": 4,
     "metadata": {},
     "output_type": "execute_result"
    }
   ],
   "source": [
    "stops_df"
   ]
  },
  {
   "cell_type": "code",
   "execution_count": 5,
   "metadata": {},
   "outputs": [
    {
     "name": "stdout",
     "output_type": "stream",
     "text": [
      "<class 'geopandas.geodataframe.GeoDataFrame'>\n",
      "RangeIndex: 11820 entries, 0 to 11819\n",
      "Data columns (total 12 columns):\n",
      " #   Column              Non-Null Count  Dtype   \n",
      "---  ------              --------------  -----   \n",
      " 0   u                   11820 non-null  int64   \n",
      " 1   v                   11820 non-null  int64   \n",
      " 2   agency_raw_name     11820 non-null  object  \n",
      " 3   shape_id            11820 non-null  object  \n",
      " 4   trip_id             11820 non-null  object  \n",
      " 5   fromIntersectionId  11820 non-null  object  \n",
      " 6   toIntersectionId    11820 non-null  object  \n",
      " 7   shstReferenceId     11820 non-null  object  \n",
      " 8   shstGeometryId      11820 non-null  object  \n",
      " 9   agency_shape_id     11820 non-null  object  \n",
      " 10  method              11820 non-null  object  \n",
      " 11  geometry            11820 non-null  geometry\n",
      "dtypes: geometry(1), int64(2), object(9)\n",
      "memory usage: 1.1+ MB\n"
     ]
    }
   ],
   "source": [
    "routing_df.info()"
   ]
  },
  {
   "cell_type": "code",
   "execution_count": 7,
   "metadata": {},
   "outputs": [],
   "source": [
    "trips_df = pd.merge(\n",
    "    trips_df,\n",
    "    routes_df[['route_id', 'route_short_name', 'route_long_name']],\n",
    "    how = 'left',\n",
    "    on = ['route_id']\n",
    ")"
   ]
  },
  {
   "cell_type": "code",
   "execution_count": 8,
   "metadata": {},
   "outputs": [
    {
     "name": "stdout",
     "output_type": "stream",
     "text": [
      "<class 'pandas.core.frame.DataFrame'>\n",
      "Int64Index: 419 entries, 0 to 418\n",
      "Data columns (total 22 columns):\n",
      " #   Column                       Non-Null Count  Dtype  \n",
      "---  ------                       --------------  -----  \n",
      " 0   route_id                     419 non-null    int64  \n",
      " 1   service_id                   419 non-null    object \n",
      " 2   trip_id                      419 non-null    object \n",
      " 3   trip_short_name              0 non-null      float64\n",
      " 4   trip_headsign                56 non-null     object \n",
      " 5   direction_id                 419 non-null    int64  \n",
      " 6   block_id                     56 non-null     float64\n",
      " 7   shape_id                     419 non-null    object \n",
      " 8   bikes_allowed                0 non-null      float64\n",
      " 9   wheelchair_accessible        0 non-null      float64\n",
      " 10  trip_type                    0 non-null      float64\n",
      " 11  drt_max_travel_time          0 non-null      float64\n",
      " 12  drt_avg_travel_time          0 non-null      float64\n",
      " 13  drt_advance_book_min         0 non-null      float64\n",
      " 14  drt_pickup_message           0 non-null      float64\n",
      " 15  drt_drop_off_message         0 non-null      float64\n",
      " 16  continuous_pickup_message    0 non-null      float64\n",
      " 17  continuous_drop_off_message  0 non-null      float64\n",
      " 18  tts_trip_headsign            0 non-null      float64\n",
      " 19  tts_trip_short_name          0 non-null      float64\n",
      " 20  route_short_name             419 non-null    object \n",
      " 21  route_long_name              419 non-null    object \n",
      "dtypes: float64(14), int64(2), object(6)\n",
      "memory usage: 75.3+ KB\n"
     ]
    }
   ],
   "source": [
    "trips_df.info()"
   ]
  },
  {
   "cell_type": "code",
   "execution_count": 9,
   "metadata": {},
   "outputs": [],
   "source": [
    "routing_df = pd.merge(\n",
    "    routing_df,\n",
    "    trips_df[['trip_id', 'shape_id', 'route_id', 'direction_id', 'route_short_name', 'route_long_name']],\n",
    "    how='left',\n",
    "    on =['trip_id', 'shape_id']\n",
    ")\n",
    "\n",
    "routing_df['source'] = 'routing'"
   ]
  },
  {
   "cell_type": "code",
   "execution_count": 10,
   "metadata": {},
   "outputs": [
    {
     "name": "stdout",
     "output_type": "stream",
     "text": [
      "<class 'geopandas.geodataframe.GeoDataFrame'>\n",
      "Int64Index: 11820 entries, 0 to 11819\n",
      "Data columns (total 17 columns):\n",
      " #   Column              Non-Null Count  Dtype   \n",
      "---  ------              --------------  -----   \n",
      " 0   u                   11820 non-null  int64   \n",
      " 1   v                   11820 non-null  int64   \n",
      " 2   agency_raw_name     11820 non-null  object  \n",
      " 3   shape_id            11820 non-null  object  \n",
      " 4   trip_id             11820 non-null  object  \n",
      " 5   fromIntersectionId  11820 non-null  object  \n",
      " 6   toIntersectionId    11820 non-null  object  \n",
      " 7   shstReferenceId     11820 non-null  object  \n",
      " 8   shstGeometryId      11820 non-null  object  \n",
      " 9   agency_shape_id     11820 non-null  object  \n",
      " 10  method              11820 non-null  object  \n",
      " 11  geometry            11820 non-null  geometry\n",
      " 12  route_id            11820 non-null  int64   \n",
      " 13  direction_id        11820 non-null  int64   \n",
      " 14  route_short_name    11820 non-null  object  \n",
      " 15  route_long_name     11820 non-null  object  \n",
      " 16  source              11820 non-null  object  \n",
      "dtypes: geometry(1), int64(4), object(12)\n",
      "memory usage: 1.6+ MB\n"
     ]
    }
   ],
   "source": [
    "routing_df.info()"
   ]
  },
  {
   "cell_type": "code",
   "execution_count": 11,
   "metadata": {},
   "outputs": [],
   "source": [
    "trips_df = trips_df[trips_df.trip_id.isin(routing_df.trip_id.unique())]"
   ]
  },
  {
   "cell_type": "code",
   "execution_count": 12,
   "metadata": {},
   "outputs": [
    {
     "name": "stdout",
     "output_type": "stream",
     "text": [
      "<class 'pandas.core.frame.DataFrame'>\n",
      "Int64Index: 67 entries, 0 to 404\n",
      "Data columns (total 22 columns):\n",
      " #   Column                       Non-Null Count  Dtype  \n",
      "---  ------                       --------------  -----  \n",
      " 0   route_id                     67 non-null     int64  \n",
      " 1   service_id                   67 non-null     object \n",
      " 2   trip_id                      67 non-null     object \n",
      " 3   trip_short_name              0 non-null      float64\n",
      " 4   trip_headsign                15 non-null     object \n",
      " 5   direction_id                 67 non-null     int64  \n",
      " 6   block_id                     15 non-null     float64\n",
      " 7   shape_id                     67 non-null     object \n",
      " 8   bikes_allowed                0 non-null      float64\n",
      " 9   wheelchair_accessible        0 non-null      float64\n",
      " 10  trip_type                    0 non-null      float64\n",
      " 11  drt_max_travel_time          0 non-null      float64\n",
      " 12  drt_avg_travel_time          0 non-null      float64\n",
      " 13  drt_advance_book_min         0 non-null      float64\n",
      " 14  drt_pickup_message           0 non-null      float64\n",
      " 15  drt_drop_off_message         0 non-null      float64\n",
      " 16  continuous_pickup_message    0 non-null      float64\n",
      " 17  continuous_drop_off_message  0 non-null      float64\n",
      " 18  tts_trip_headsign            0 non-null      float64\n",
      " 19  tts_trip_short_name          0 non-null      float64\n",
      " 20  route_short_name             67 non-null     object \n",
      " 21  route_long_name              67 non-null     object \n",
      "dtypes: float64(14), int64(2), object(6)\n",
      "memory usage: 12.0+ KB\n"
     ]
    }
   ],
   "source": [
    "trips_df.info()"
   ]
  },
  {
   "cell_type": "markdown",
   "metadata": {},
   "source": [
    "stop_times_df = pd.merge(\n",
    "    stop_times_df,\n",
    "    trips_df[['trip_id', 'shape_id', 'route_id', 'direction_id', 'route_short_name', 'route_long_name']],\n",
    "    how='inner',\n",
    "    on =['trip_id']\n",
    ")\n",
    "\n",
    "stop_times_df = pd.merge(\n",
    "    stop_times_df,\n",
    "    stops_df[['stop_id', 'stop_lat', 'stop_lon']],\n",
    "    how='left',\n",
    "    on =['stop_id']\n",
    ")"
   ]
  },
  {
   "cell_type": "code",
   "execution_count": 13,
   "metadata": {},
   "outputs": [],
   "source": [
    "stop_times_df = pd.merge(\n",
    "    stop_times_df,\n",
    "    stops_df[['stop_id', 'stop_lat', 'stop_lon']],\n",
    "    how='left',\n",
    "    on =['stop_id']\n",
    ")\n",
    "\n",
    "stop_times_gdf = gpd.GeoDataFrame(\n",
    "    stop_times_df,\n",
    "    geometry = gpd.points_from_xy(stop_times_df['stop_lon'], stop_times_df['stop_lat']),\n",
    "    crs = routing_df.crs\n",
    ")\n",
    "\n",
    "stop_times_line_gdf = stop_times_gdf.sort_values(by=['stop_sequence']).groupby(['trip_id'])['geometry'].apply(\n",
    "    lambda x: LineString(x.tolist())\n",
    ")\n",
    "\n",
    "stop_times_line_gdf = gpd.GeoDataFrame(stop_times_line_gdf, geometry = 'geometry')\n",
    "\n",
    "stop_times_line_gdf = pd.merge(\n",
    "    stop_times_line_gdf,\n",
    "    trips_df[['trip_id', 'shape_id', 'route_id', 'direction_id', 'route_short_name', 'route_long_name']],\n",
    "    how='inner',\n",
    "    on =['trip_id']\n",
    ")\n",
    "\n",
    "stop_times_line_gdf['source'] = 'stop_times'"
   ]
  },
  {
   "cell_type": "markdown",
   "metadata": {},
   "source": [
    "shapes_df = pd.merge(\n",
    "    shapes_df,\n",
    "    trips_df[['trip_id', 'shape_id', 'route_id', 'direction_id', 'route_short_name', 'route_long_name']],\n",
    "    how = 'inner',\n",
    "    on = ['shape_id']\n",
    ")"
   ]
  },
  {
   "cell_type": "code",
   "execution_count": 14,
   "metadata": {},
   "outputs": [],
   "source": [
    "shapes_gdf = gpd.GeoDataFrame(\n",
    "    shapes_df,\n",
    "    geometry = gpd.points_from_xy(shapes_df['shape_pt_lon'], shapes_df['shape_pt_lat']),\n",
    "    crs = routing_df.crs\n",
    ")\n",
    "\n",
    "shapes_line_gdf = shapes_gdf.sort_values(by=['shape_pt_sequence']).groupby(['shape_id'])['geometry'].apply(\n",
    "    lambda x: LineString(x.tolist())\n",
    ")\n",
    "\n",
    "shapes_line_gdf = gpd.GeoDataFrame(shapes_line_gdf, geometry = 'geometry')\n",
    "\n",
    "shapes_line_gdf = pd.merge(\n",
    "    shapes_line_gdf,\n",
    "    trips_df[['trip_id', 'shape_id', 'route_id', 'direction_id', 'route_short_name', 'route_long_name']],\n",
    "    how = 'inner',\n",
    "    on = ['shape_id']\n",
    ")\n",
    "\n",
    "shapes_line_gdf['source'] ='shapes'"
   ]
  },
  {
   "cell_type": "code",
   "execution_count": 15,
   "metadata": {},
   "outputs": [
    {
     "name": "stdout",
     "output_type": "stream",
     "text": [
      "Index(['u', 'v', 'agency_raw_name', 'shape_id', 'trip_id',\n",
      "       'fromIntersectionId', 'toIntersectionId', 'shstReferenceId',\n",
      "       'shstGeometryId', 'agency_shape_id', 'method', 'geometry', 'route_id',\n",
      "       'direction_id', 'route_short_name', 'route_long_name', 'source'],\n",
      "      dtype='object')\n",
      "Index(['trip_id', 'geometry', 'shape_id', 'route_id', 'direction_id',\n",
      "       'route_short_name', 'route_long_name', 'source'],\n",
      "      dtype='object')\n",
      "Index(['shape_id', 'geometry', 'trip_id', 'route_id', 'direction_id',\n",
      "       'route_short_name', 'route_long_name', 'source'],\n",
      "      dtype='object')\n"
     ]
    }
   ],
   "source": [
    "print(routing_df.columns)\n",
    "print(stop_times_line_gdf.columns)\n",
    "print(shapes_line_gdf.columns)"
   ]
  },
  {
   "cell_type": "code",
   "execution_count": 16,
   "metadata": {},
   "outputs": [
    {
     "data": {
      "text/plain": [
       "67"
      ]
     },
     "execution_count": 16,
     "metadata": {},
     "output_type": "execute_result"
    }
   ],
   "source": [
    "routing_df.trip_id.nunique()"
   ]
  },
  {
   "cell_type": "code",
   "execution_count": 17,
   "metadata": {},
   "outputs": [
    {
     "data": {
      "text/plain": [
       "67"
      ]
     },
     "execution_count": 17,
     "metadata": {},
     "output_type": "execute_result"
    }
   ],
   "source": [
    "stop_times_line_gdf.trip_id.nunique()"
   ]
  },
  {
   "cell_type": "code",
   "execution_count": 18,
   "metadata": {},
   "outputs": [
    {
     "data": {
      "text/plain": [
       "67"
      ]
     },
     "execution_count": 18,
     "metadata": {},
     "output_type": "execute_result"
    }
   ],
   "source": [
    "shapes_line_gdf.trip_id.nunique()"
   ]
  },
  {
   "cell_type": "code",
   "execution_count": 19,
   "metadata": {},
   "outputs": [
    {
     "data": {
      "text/plain": [
       "33"
      ]
     },
     "execution_count": 19,
     "metadata": {},
     "output_type": "execute_result"
    }
   ],
   "source": [
    "shapes_line_gdf.shape_id.nunique()"
   ]
  },
  {
   "cell_type": "code",
   "execution_count": 20,
   "metadata": {},
   "outputs": [
    {
     "data": {
      "text/plain": [
       "33"
      ]
     },
     "execution_count": 20,
     "metadata": {},
     "output_type": "execute_result"
    }
   ],
   "source": [
    "routing_df.shape_id.nunique()"
   ]
  },
  {
   "cell_type": "code",
   "execution_count": 21,
   "metadata": {},
   "outputs": [],
   "source": [
    "out_df = pd.concat(\n",
    "    [routing_df, stop_times_line_gdf, shapes_line_gdf],\n",
    "    sort = False,\n",
    "    ignore_index = True\n",
    ")"
   ]
  },
  {
   "cell_type": "code",
   "execution_count": 22,
   "metadata": {},
   "outputs": [],
   "source": [
    "out_df.to_file(os.path.join(interim_dir, 'routing-reivew.geojson'), driver = 'GeoJSON')"
   ]
  },
  {
   "cell_type": "code",
   "execution_count": null,
   "metadata": {},
   "outputs": [],
   "source": []
  }
 ],
 "metadata": {
  "kernelspec": {
   "display_name": "Python 3 (ipykernel)",
   "language": "python",
   "name": "python3"
  },
  "language_info": {
   "codemirror_mode": {
    "name": "ipython",
    "version": 3
   },
   "file_extension": ".py",
   "mimetype": "text/x-python",
   "name": "python",
   "nbconvert_exporter": "python",
   "pygments_lexer": "ipython3",
   "version": "3.7.10"
  }
 },
 "nbformat": 4,
 "nbformat_minor": 2
}
