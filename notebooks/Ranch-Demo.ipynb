{
 "cells": [
  {
   "cell_type": "markdown",
   "id": "eab1caea",
   "metadata": {},
   "source": [
    "# Ranch Demo Notebook\n",
    "\n",
    "This notebook has examples of how to make Ranch calls to run through the complete network building pipeline to develop standard roadway and transit network from scratch"
   ]
  },
  {
   "cell_type": "code",
   "execution_count": 1,
   "id": "c2f80b77",
   "metadata": {},
   "outputs": [],
   "source": [
    "import os\n",
    "import pickle\n",
    "import pandas as pd\n",
    "import geopandas as gpd\n",
    "from pyproj import CRS\n",
    "import json\n",
    "import sys\n",
    "\n",
    "import ranch\n",
    "from ranch import sharedstreets\n",
    "from ranch import Roadway\n",
    "from ranch import Transit\n",
    "from ranch import Parameters\n",
    "from ranch.utils import link_df_to_geojson, point_df_to_geojson\n",
    "from ranch.logger import RanchLogger"
   ]
  },
  {
   "cell_type": "code",
   "execution_count": 2,
   "id": "1d804a6d",
   "metadata": {},
   "outputs": [],
   "source": [
    "%load_ext autoreload\n",
    "%autoreload 2"
   ]
  },
  {
   "cell_type": "markdown",
   "id": "3032c430",
   "metadata": {},
   "source": [
    "# Remote I/O\n",
    "\n",
    "User to update, project directory is not necessarily the ranch directory"
   ]
  },
  {
   "cell_type": "code",
   "execution_count": 3,
   "id": "55cf66a4",
   "metadata": {},
   "outputs": [],
   "source": [
    "# project directory\n",
    "root_dir = os.path.join(\"D:/merced\")\n",
    "\n",
    "external_dir = os.path.join(root_dir, \"data\", \"external\")\n",
    "interim_dir = os.path.join(root_dir, \"data\", \"interim\")\n",
    "\n",
    "# software directory\n",
    "ranch_dir = os.path.join(\"D:/github/Ranch\")\n",
    "\n",
    "# the folder where SharedStreets extractions live\n",
    "\n",
    "shst_extract_dir = os.path.join(external_dir, \"sharedstreets_extract\")\n",
    "\n",
    "# the folder where OSMNX extractions live\n",
    "\n",
    "osm_extract_dir = os.path.join(external_dir, \"osmnx_extract\")"
   ]
  },
  {
   "cell_type": "code",
   "execution_count": 4,
   "id": "bbce6156",
   "metadata": {},
   "outputs": [
    {
     "name": "stdout",
     "output_type": "stream",
     "text": [
      "2022-01-25 15:25:22, INFO: Lasso base directory set as: D:/github/Ranch\n"
     ]
    }
   ],
   "source": [
    "parameters = Parameters(ranch_base_dir = ranch_dir)"
   ]
  },
  {
   "cell_type": "code",
   "execution_count": 5,
   "id": "68bcdc7a",
   "metadata": {},
   "outputs": [
    {
     "data": {
      "text/plain": [
       "<Geographic 2D CRS: EPSG:4326>\n",
       "Name: WGS 84\n",
       "Axis Info [ellipsoidal]:\n",
       "- Lat[north]: Geodetic latitude (degree)\n",
       "- Lon[east]: Geodetic longitude (degree)\n",
       "Area of Use:\n",
       "- name: World.\n",
       "- bounds: (-180.0, -90.0, 180.0, 90.0)\n",
       "Datum: World Geodetic System 1984 ensemble\n",
       "- Ellipsoid: WGS 84\n",
       "- Prime Meridian: Greenwich"
      ]
     },
     "execution_count": 5,
     "metadata": {},
     "output_type": "execute_result"
    }
   ],
   "source": [
    "parameters.standard_crs"
   ]
  },
  {
   "cell_type": "code",
   "execution_count": 6,
   "id": "35e34475",
   "metadata": {},
   "outputs": [
    {
     "name": "stdout",
     "output_type": "stream",
     "text": [
      "D:/merced exists!\n",
      "D:/merced\\data\\external exists!\n",
      "D:/merced\\data\\interim exists!\n",
      "D:/merced\\data\\external\\sharedstreets_extract exists!\n",
      "D:/merced\\data\\external\\osmnx_extract exists!\n"
     ]
    }
   ],
   "source": [
    "for d in [root_dir, external_dir, interim_dir, shst_extract_dir, osm_extract_dir]:\n",
    "    if os.path.isdir(d):\n",
    "        print(f\"{d} exists!\")\n",
    "        continue\n",
    "    \n",
    "    print(f\"creating {d}\")\n",
    "    os.makedirs(d)"
   ]
  },
  {
   "cell_type": "markdown",
   "id": "4b691543",
   "metadata": {},
   "source": [
    "## Step 1 - SharedStreets Extraction\n",
    "\n",
    "Extracts sharedstreets representation of OSM links.\n",
    "The input for this step is the polygon boundary file for the area.\n",
    "The output for this step is geojson files from SharedStreets API."
   ]
  },
  {
   "cell_type": "code",
   "execution_count": 7,
   "id": "186f2501",
   "metadata": {},
   "outputs": [],
   "source": [
    "# the polygon file for the area\n",
    "\n",
    "input_polygon_file = os.path.join(\n",
    "    external_dir,\n",
    "    \"sharedstreets_extract\", \n",
    "    \"merced.shp\"\n",
    ")"
   ]
  },
  {
   "cell_type": "code",
   "execution_count": 8,
   "id": "86536141",
   "metadata": {},
   "outputs": [
    {
     "name": "stdout",
     "output_type": "stream",
     "text": [
      "2022-01-25 15:25:34, INFO: Exporting boundry file D:/merced\\data\\external\\sharedstreets_extract\\boundary.0.geojson\n",
      "2022-01-25 15:25:34, INFO: extracting for polygon 0\n"
     ]
    }
   ],
   "source": [
    "# the SharedStreets extraction file is saved to the 'output_dir' argument\n",
    "\n",
    "ranch.run_shst_extraction(\n",
    "    input_polygon_file = input_polygon_file,\n",
    "    output_dir = shst_extract_dir\n",
    ")"
   ]
  },
  {
   "cell_type": "markdown",
   "id": "8e8bb5fb",
   "metadata": {},
   "source": [
    "## Step 2 - OSMNX Extraction\n",
    "\n",
    "Extracts complete OSM attributes using OSMNX.\n",
    "The input for this step is the polygon boundary file for the area.\n",
    "The output for this step is geojson files from OSMNX."
   ]
  },
  {
   "cell_type": "code",
   "execution_count": 10,
   "id": "1ee92646",
   "metadata": {},
   "outputs": [],
   "source": [
    "# the OSMNX extraction file is saved to the 'output_dir' argument\n",
    "\n",
    "ranch.run_osmnx_extraction(\n",
    "    input_polygon_file = input_polygon_file,\n",
    "    output_dir = os.path.join(external_dir, \"osmnx_extract\")\n",
    ")"
   ]
  },
  {
   "cell_type": "markdown",
   "id": "34da42b9",
   "metadata": {},
   "source": [
    "## Step 3 - Consolidate SharedStreets and OSMNX extractions\n",
    "\n",
    "consolidates raw roadway data and create initial roadway networks"
   ]
  },
  {
   "cell_type": "code",
   "execution_count": 9,
   "id": "bad80387",
   "metadata": {
    "scrolled": false
   },
   "outputs": [
    {
     "name": "stdout",
     "output_type": "stream",
     "text": [
      "2022-01-25 15:29:00, INFO: Reading sharedstreets data\n",
      "2022-01-25 15:29:00, INFO: ----------start reading shst extraction data-------------\n",
      "2022-01-25 15:29:00, INFO: reading shst extraction data : D:/merced\\data\\external\\sharedstreets_extract\\extract.boundary.0.out.geojson\n",
      "2022-01-25 15:29:12, INFO: ----------finished reading shst extraction data-------------\n",
      "2022-01-25 15:29:12, INFO: Removing duplicates in shst extraction data\n",
      "2022-01-25 15:29:12, INFO: ...before removing duplicates, shst extraction has 52448 geometries.\n",
      "2022-01-25 15:29:12, INFO: ...after removing duplicates, shst extraction has 52448 geometries.\n",
      "2022-01-25 15:29:12, INFO: Reading osmnx data\n",
      "2022-01-25 15:30:10, INFO: Extracting corresponding osm ways for every shst geometry\n",
      "2022-01-25 15:31:08, INFO: shst extraction has 52448 geometries\n",
      "2022-01-25 15:31:08, INFO: shst extraction has 55919 osm links\n",
      "2022-01-25 15:31:08, INFO: ---joining osm shst with osmnx data---\n",
      "2022-01-25 15:31:08, INFO: shst extraction has 52946 two-way osm links\n",
      "2022-01-25 15:31:08, INFO: and they are 49941 geometrys\n",
      "2022-01-25 15:31:08, INFO: after join, ther are 108865 osm links from shst extraction,     out of which there are 65602 links that do not have osm info,     due to shst extraction (default tile 181224) contains 13928 osm ids that are not included in latest OSM extraction,     e.g. private streets, closed streets.\n",
      "2022-01-25 15:31:09, INFO: after join, there are 102389 shst referencies\n",
      "2022-01-25 15:31:09, INFO: numeric columns: ['wayId', 'u', 'v', 'osmid', 'key', 'reverse_out']\n",
      "2022-01-25 15:31:09, INFO: str columns: \n",
      "2022-01-25 15:31:09, INFO: Start aggregating osm segments to one shst link for forward links\n",
      "2022-01-25 15:31:24, INFO: Start aggregating osm segments to one shst link for backward links\n",
      "2022-01-25 15:31:39, INFO: all\n",
      "2022-01-25 15:31:42, INFO: Start creating shst nodes\n",
      "2022-01-25 15:31:50, INFO: Lasso base directory set as: D:/github/Ranch\n"
     ]
    }
   ],
   "source": [
    "# build and returns roaday network object from extraction files\n",
    "\n",
    "roadway_network = Roadway.create_roadway_network_from_extracts(\n",
    "    shst_extract_dir = shst_extract_dir,\n",
    "    osm_extract_dir = osm_extract_dir,\n",
    "    parameters = parameters,\n",
    ")"
   ]
  },
  {
   "cell_type": "code",
   "execution_count": 10,
   "id": "eeb794c1",
   "metadata": {},
   "outputs": [
    {
     "name": "stdout",
     "output_type": "stream",
     "text": [
      "2022-01-25 15:32:04, INFO: Initial network has 102371 links\n",
      "2022-01-25 15:32:04, INFO: Initial network has 38693 nodes\n",
      "2022-01-25 15:32:04, INFO: Initial network has 52441 shapes\n"
     ]
    }
   ],
   "source": [
    "RanchLogger.info(\"Initial network has {} links\".format(roadway_network.links_df.shape[0]))\n",
    "RanchLogger.info(\"Initial network has {} nodes\".format(roadway_network.nodes_df.shape[0]))\n",
    "RanchLogger.info(\"Initial network has {} shapes\".format(roadway_network.shapes_df.shape[0]))"
   ]
  },
  {
   "cell_type": "markdown",
   "id": "907845a9",
   "metadata": {},
   "source": [
    "### Optional: If the user wants to write out the roadway network in standard format, they can do the following, otherwise no need to write out. These files can also be written out after step 5.  After step 5, roadway network is trimmed to be within county boundary"
   ]
  },
  {
   "cell_type": "code",
   "execution_count": 11,
   "id": "735c87db",
   "metadata": {},
   "outputs": [
    {
     "name": "stdout",
     "output_type": "stream",
     "text": [
      "2022-01-04 23:12:51, INFO: write out shape geojson\n",
      "2022-01-04 23:13:09, INFO: write out node geojson\n",
      "2022-01-04 23:13:21, INFO: write out link json\n",
      "2022-01-04 23:13:25, INFO: write out link geojson\n"
     ]
    }
   ],
   "source": [
    "RanchLogger.info(\"write out shape geojson\")\n",
    "\n",
    "shape_prop = ['id', 'fromIntersectionId', 'toIntersectionId', 'forwardReferenceId', 'backReferenceId']\n",
    "shape_geojson = link_df_to_geojson(\n",
    "    roadway_network.shapes_df, \n",
    "    shape_prop\n",
    ")\n",
    "\n",
    "with open(os.path.join(interim_dir,\"step3_shapes.geojson\"), \"w\") as f:\n",
    "    json.dump(shape_geojson, f)\n",
    "\n",
    "RanchLogger.info(\"write out node geojson\")\n",
    "\n",
    "node_prop = roadway_network.nodes_df.drop('geometry', axis = 1).columns.tolist()\n",
    "node_geojson = point_df_to_geojson(\n",
    "    roadway_network.nodes_df, \n",
    "    node_prop\n",
    ")\n",
    "\n",
    "with open(os.path.join(interim_dir,\"step3_nodes.geojson\"), \"w\") as f:\n",
    "    json.dump(node_geojson, f)\n",
    "\n",
    "RanchLogger.info(\"write out link json\")\n",
    "\n",
    "link_prop = roadway_network.links_df.drop(\n",
    "    ['geometry'], \n",
    "    axis = 1\n",
    ").columns.tolist()\n",
    "\n",
    "out = roadway_network.links_df[link_prop].to_json(orient = \"records\")\n",
    "\n",
    "with open(os.path.join(interim_dir,\"step3_links.json\"), 'w') as f:\n",
    "    f.write(out)\n",
    "    \n",
    "# the standard format for links are links.json, without the geometry\n",
    "# here writing out links in links.geojson in case the user wants to visualize links\n",
    "\n",
    "RanchLogger.info(\"write out link geojson\")\n",
    "\n",
    "link_prop = roadway_network.links_df.drop('geometry', axis = 1).columns.tolist()\n",
    "link_geojson = link_df_to_geojson(\n",
    "    roadway_network.links_df, \n",
    "    link_prop\n",
    ")\n",
    "\n",
    "with open(os.path.join(interim_dir,\"step3_links.geojson\"), \"w\") as f:\n",
    "    json.dump(link_geojson, f)"
   ]
  },
  {
   "cell_type": "markdown",
   "id": "610b045e",
   "metadata": {},
   "source": [
    "### Optional: it's more efficient if the user writes out the intermediate network object in pickle"
   ]
  },
  {
   "cell_type": "code",
   "execution_count": 12,
   "id": "962335d2",
   "metadata": {},
   "outputs": [],
   "source": [
    "working_network_filename = os.path.join(interim_dir,\"step3_network.pickle\")\n",
    "pickle.dump(roadway_network, open(working_network_filename, 'wb'))"
   ]
  },
  {
   "cell_type": "markdown",
   "id": "891a85a4",
   "metadata": {},
   "source": [
    "## Step 4 - Third-Party Roadway Data Conflation\n",
    "\n",
    "Conflates e.g. county network with roadway network using SharedStreets.\n",
    "The input for this step is the 3rd-party geodatabases to conflate.\n",
    "The output of this step is the SharedStreets conflation outputs in geojson."
   ]
  },
  {
   "cell_type": "code",
   "execution_count": 17,
   "id": "2917cfff",
   "metadata": {},
   "outputs": [],
   "source": [
    "# define the input 3rd-party file, either shapefile or geojson\n",
    "\n",
    "input_network_file = os.path.join(external_dir, \"sjmodel\", \"Network\", \"2015\",\"TCM_MASTER_2A22_102717.shp\")"
   ]
  },
  {
   "cell_type": "code",
   "execution_count": 18,
   "id": "c4ed6493",
   "metadata": {},
   "outputs": [],
   "source": [
    "# if the CRS is undefined in the input network file, user needs to specify:\n",
    "\n",
    "input_crs = CRS(\"ESRI:102643\")"
   ]
  },
  {
   "cell_type": "code",
   "execution_count": 19,
   "id": "2670a8a2",
   "metadata": {},
   "outputs": [
    {
     "name": "stdout",
     "output_type": "stream",
     "text": [
      "2022-01-04 16:18:56, INFO: input network D:/sanjoaquin\\data\\external\\sjmodel\\Network\\2015\\TCM_MASTER_2A22_102717.shp has crs : None\n",
      "2022-01-04 16:18:58, INFO: Input network for shst match does not have unique IDs, generating unique IDs\n",
      "2022-01-04 16:18:58, INFO: Generated 49910 unique IDs for 49910 links in the input network\n",
      "2022-01-04 16:18:58, INFO: Exporting shst match input - ID-ed geometry file D:/sanjoaquin\\data\\external\\sjmodel\\shst_match\\TCM_MASTER_2A22_102717.geojson\n",
      "2022-01-04 16:19:02, INFO: Exporting ID-ed network file D:/sanjoaquin\\data\\external\\sjmodel\\shst_match\\TCM_MASTER_2A22_102717.full.geojson\n"
     ]
    }
   ],
   "source": [
    "# the output is saved to the 'output_dir' argument\n",
    "# user can specify the match option (reference here) \n",
    "# by 'custom_match_option'\n",
    "# if not specified, use the default\n",
    "# match option would vary by the input network\n",
    "\n",
    "ranch.run_shst_match(\n",
    "    input_network_file = input_network_file,\n",
    "    input_crs = input_crs,\n",
    "    output_dir = os.path.join(external_dir, \"sjmodel\", \"shst_match\"),\n",
    "    custom_match_option = '--tile-hierarchy=8 --search-radius=50 --snap-intersections'\n",
    ")"
   ]
  },
  {
   "cell_type": "markdown",
   "id": "4b20b427",
   "metadata": {},
   "source": [
    "## Step 5 - Tidy Up Roadway\n",
    "\n",
    "Trim network to be within county boundary. Identifies drive dead-ends, cul-de-secs, numbering links and nodes, etc.\n",
    "The input for this step is the polygon file with subregion identifier, e.g. county.\n",
    "This step labels each link and node with the county name."
   ]
  },
  {
   "cell_type": "code",
   "execution_count": 11,
   "id": "0858ca50",
   "metadata": {},
   "outputs": [],
   "source": [
    "# this is the input county polygon file with county names\n",
    "\n",
    "county_boundary_file = os.path.join(\n",
    "    external_dir,\n",
    "    \"sharedstreets_extract\", \n",
    "    \"merced.shp\"\n",
    ")\n",
    "\n",
    "# specify the column to look for county name\n",
    "\n",
    "county_variable_name = 'NAME'"
   ]
  },
  {
   "cell_type": "code",
   "execution_count": 12,
   "id": "c08afaad",
   "metadata": {},
   "outputs": [
    {
     "name": "stdout",
     "output_type": "stream",
     "text": [
      "2022-01-25 15:32:34, INFO: Starting Step 5 Tidy Roadway\n",
      "2022-01-25 15:32:46, INFO: Joining network with county boundary file for ['Merced'] county\n",
      "2022-01-25 15:33:01, INFO: Dropping links and nodes that are outside of ['Merced'] county\n",
      "2022-01-25 15:33:02, INFO: Droppping circular links\n",
      "2022-01-25 15:33:02, INFO: Flagging dead-end streets for drive network\n",
      "2022-01-25 15:33:02, INFO: Making dead-end streets drive_access = 0\n",
      "2022-01-25 15:33:04, INFO: Dropping alternative links between same AB nodes\n"
     ]
    }
   ],
   "source": [
    "roadway_network.tidy_roadway(\n",
    "    county_boundary_file = county_boundary_file,\n",
    "    county_variable_name = county_variable_name,\n",
    "    create_node_link_id = False\n",
    ")"
   ]
  },
  {
   "cell_type": "code",
   "execution_count": 13,
   "id": "5e16f0f9",
   "metadata": {},
   "outputs": [],
   "source": [
    "# save out the step 5 output as pickle file\n",
    "\n",
    "working_network_filename = os.path.join(interim_dir,\"step5_network.pickle\")\n",
    "pickle.dump(roadway_network, open(working_network_filename, 'wb'))"
   ]
  },
  {
   "cell_type": "markdown",
   "id": "e6f3f096",
   "metadata": {},
   "source": [
    "## Step 5.1 (Optional) - Combine County Roadway Networks Before GTFS Routing"
   ]
  },
  {
   "cell_type": "markdown",
   "id": "eccdb13d",
   "metadata": {},
   "source": [
    "If the user already has the entire roadway network in one roadway object, then skip this step."
   ]
  },
  {
   "cell_type": "markdown",
   "id": "44a9eab2",
   "metadata": {},
   "source": [
    "This step combines multiple roadway network objects into one, so that a complete roadway network can be used in step 6 - transit routing. This addresses issues like buses crossing multiple counties."
   ]
  },
  {
   "cell_type": "code",
   "execution_count": 14,
   "id": "ab3a6394",
   "metadata": {},
   "outputs": [],
   "source": [
    "# inputs are individual county network objects saved out from step 5\n",
    "\n",
    "merced_roadway_network_pickle_file_name = os.path.join(\"D:\\merced\\data\\interim\\step5_network.pickle\")\n",
    "merced_roadway_network = pickle.load(open(merced_roadway_network_pickle_file_name, 'rb'))\n",
    "\n",
    "stanislaus_roadway_network_pickle_file_name = os.path.join(\"D:\\stanislaus\\data\\interim\\step5_network.pickle\")\n",
    "stanislaus_roadway_network = pickle.load(open(stanislaus_roadway_network_pickle_file_name, 'rb'))\n",
    "\n",
    "sanjoaquin_roadway_network_pickle_file_name = os.path.join(\"D:\\sanjoaquin\\data\\interim\\step5_network.pickle\")\n",
    "sanjoaquin_roadway_network = pickle.load(open(sanjoaquin_roadway_network_pickle_file_name, 'rb'))"
   ]
  },
  {
   "cell_type": "code",
   "execution_count": 15,
   "id": "f9680643",
   "metadata": {},
   "outputs": [],
   "source": [
    "roadway_network_list = [merced_roadway_network, stanislaus_roadway_network, sanjoaquin_roadway_network]"
   ]
  },
  {
   "cell_type": "code",
   "execution_count": 16,
   "id": "1ef5f6c7",
   "metadata": {},
   "outputs": [
    {
     "name": "stdout",
     "output_type": "stream",
     "text": [
      "2022-01-25 15:33:27, INFO: Combining 3 roadway network object\n",
      "2022-01-25 15:33:29, INFO: Lasso base directory set as: D:/github/Ranch\n"
     ]
    }
   ],
   "source": [
    "# process\n",
    "\n",
    "roadway_network = ranch.roadway.combine_roadway_network_from_objects(\n",
    "    roadway_network_list = roadway_network_list,\n",
    "    parameters = parameters\n",
    ")"
   ]
  },
  {
   "cell_type": "markdown",
   "id": "a78bc9b5",
   "metadata": {},
   "source": [
    "## Step 6 - Build Transit Network from GTFS\n",
    "\n",
    "Build standard transit network from GTFS"
   ]
  },
  {
   "cell_type": "code",
   "execution_count": 17,
   "id": "30e247f2",
   "metadata": {},
   "outputs": [],
   "source": [
    "# the directory where all gtfs feeds are located\n",
    "# e.g. gtfs_dir/sjrtd_2015_0127/routes.txt\n",
    "# e.g. gtfs_dir/bart_2015_0127/routes.txt\n",
    "\n",
    "gtfs_dir = os.path.join(external_dir, \"gtfs\", \"2021\")"
   ]
  },
  {
   "cell_type": "code",
   "execution_count": 18,
   "id": "086b9af4",
   "metadata": {},
   "outputs": [
    {
     "name": "stdout",
     "output_type": "stream",
     "text": [
      "2022-01-25 15:33:39, INFO: Excluding weekend-only services\n",
      "2022-01-25 15:33:39, INFO: Read and get representative transit feed from: D:/merced\\data\\external\\gtfs\\2021\\The Bus\n",
      "2022-01-25 15:33:40, INFO: Lasso base directory set as: D:/github/Ranch\n"
     ]
    }
   ],
   "source": [
    "# read gtfs into transit object\n",
    "\n",
    "transit_network = Transit.load_all_gtfs_feeds(\n",
    "    gtfs_dir = gtfs_dir,\n",
    "    roadway_network= roadway_network,\n",
    "    parameters=parameters\n",
    ")"
   ]
  },
  {
   "cell_type": "code",
   "execution_count": 19,
   "id": "e8a48d95",
   "metadata": {
    "scrolled": true
   },
   "outputs": [
    {
     "name": "stdout",
     "output_type": "stream",
     "text": [
      "2022-01-25 15:33:43, INFO: Getting representative trip for each route by time of day and direction...\n",
      "2022-01-25 15:33:44, INFO: Snapping gtfs stops to roadway node...\n",
      "2022-01-25 15:33:51, INFO: Route bus trips using shortest path\n",
      "2022-01-25 15:33:51, INFO: Routing bus on roadway network from start to end with osmnx...\n",
      "2022-01-25 15:33:51, INFO: Setting good link dictionary\n",
      "2022-01-25 15:34:09, INFO: \tRouting agency The Bus, trip t_1962833_b_33141_tn_1\n",
      "2022-01-25 15:34:12, INFO: \tRouting agency The Bus, trip t_1962842_b_33141_tn_1\n",
      "2022-01-25 15:34:14, INFO: \tRouting agency The Bus, trip t_1962805_b_33141_tn_8\n",
      "2022-01-25 15:34:17, INFO: \tRouting agency The Bus, trip t_1962875_b_33141_tn_10\n",
      "2022-01-25 15:34:20, INFO: \tRouting agency The Bus, trip t_1962843_b_33141_tn_18\n",
      "2022-01-25 15:34:22, INFO: \tRouting agency The Bus, trip t_1962863_b_33141_tn_18\n",
      "2022-01-25 15:34:24, INFO: \tRouting agency The Bus, trip t_1963111_b_33141_tn_0\n",
      "2022-01-25 15:34:28, INFO: \tRouting agency The Bus, trip t_1962813_b_33141_tn_4\n",
      "2022-01-25 15:34:30, INFO: \tRouting agency The Bus, trip t_1963102_b_33141_tn_0\n",
      "2022-01-25 15:34:33, INFO: \tRouting agency The Bus, trip t_1962896_b_33141_tn_16\n",
      "2022-01-25 15:34:36, INFO: \tRouting agency The Bus, trip t_1963112_b_33141_tn_0\n",
      "2022-01-25 15:34:39, INFO: \tRouting agency The Bus, trip t_1962845_b_33141_tn_0\n",
      "2022-01-25 15:34:42, INFO: \tRouting agency The Bus, trip t_1962869_b_33141_tn_1\n",
      "2022-01-25 15:34:48, INFO: \tRouting agency The Bus, trip t_1962889_b_33141_tn_0\n",
      "2022-01-25 15:34:50, INFO: \tRouting agency The Bus, trip t_1962907_b_33141_tn_0\n",
      "2022-01-25 15:34:53, INFO: \tRouting agency The Bus, trip t_1962807_b_33141_tn_1\n",
      "2022-01-25 15:34:56, INFO: \tRouting agency The Bus, trip t_1962806_b_33141_tn_0\n",
      "2022-01-25 15:34:59, INFO: \tRouting agency The Bus, trip t_1962905_b_33141_tn_16\n",
      "2022-01-25 15:35:02, INFO: \tRouting agency The Bus, trip t_1962816_b_33141_tn_7\n",
      "2022-01-25 15:35:04, INFO: \tRouting agency The Bus, trip t_1962858_b_33141_tn_10\n",
      "2022-01-25 15:35:06, INFO: \tRouting agency The Bus, trip t_1962822_b_33141_tn_1\n",
      "2022-01-25 15:35:08, INFO: \tRouting agency The Bus, trip t_1962894_b_33141_tn_0\n",
      "2022-01-25 15:35:10, INFO: \tRouting agency The Bus, trip t_1962815_b_33141_tn_0\n",
      "2022-01-25 15:35:12, INFO: \tRouting agency The Bus, trip t_1962895_b_33141_tn_2\n",
      "2022-01-25 15:35:14, INFO: \tRouting agency The Bus, trip t_1962848_b_33141_tn_0\n",
      "2022-01-25 15:35:16, INFO: \tRouting agency The Bus, trip t_1962878_b_33141_tn_0\n",
      "2022-01-25 15:35:19, INFO: \tRouting agency The Bus, trip t_1962872_b_33141_tn_2\n",
      "2022-01-25 15:35:21, INFO: \tRouting agency The Bus, trip t_1962877_b_33141_tn_0\n",
      "2022-01-25 15:35:27, INFO: \tRouting agency The Bus, trip t_1962893_b_33141_tn_1\n",
      "2022-01-25 15:35:30, INFO: \tRouting agency The Bus, trip t_1962860_b_33141_tn_1\n",
      "2022-01-25 15:35:32, INFO: \tRouting agency The Bus, trip t_1963142_b_33141_tn_0\n",
      "2022-01-25 15:35:35, INFO: \tRouting agency The Bus, trip t_1963123_b_33141_tn_0\n",
      "2022-01-25 15:35:39, INFO: \tRouting agency The Bus, trip t_1963130_b_33141_tn_0\n",
      "2022-01-25 15:36:03, INFO: Routing bus on roadway network from stop to stop with osmnx...\n",
      "2022-01-25 15:36:04, INFO: \tRouting agency ['The Bus'], trip ['t_1962816_b_33141_tn_7'], between stops\n",
      "2022-01-25 15:36:06, INFO: \tRouting agency ['The Bus'], trip ['t_1962822_b_33141_tn_1'], between stops\n",
      "2022-01-25 15:36:08, INFO: \tRouting agency ['The Bus'], trip ['t_1962843_b_33141_tn_18'], between stops\n",
      "2022-01-25 15:36:11, INFO: \tRouting agency ['The Bus'], trip ['t_1962848_b_33141_tn_0'], between stops\n",
      "2022-01-25 15:36:13, INFO: \tRouting agency ['The Bus'], trip ['t_1962858_b_33141_tn_10'], between stops\n",
      "2022-01-25 15:36:15, INFO: \tRouting agency ['The Bus'], trip ['t_1962860_b_33141_tn_1'], between stops\n",
      "2022-01-25 15:36:17, INFO: \tRouting agency ['The Bus'], trip ['t_1962863_b_33141_tn_18'], between stops\n",
      "2022-01-25 15:36:20, INFO: \tRouting agency ['The Bus'], trip ['t_1962872_b_33141_tn_2'], between stops\n",
      "2022-01-25 15:36:23, INFO: \tRouting agency ['The Bus'], trip ['t_1962875_b_33141_tn_10'], between stops\n",
      "2022-01-25 15:36:25, INFO: \tRouting agency ['The Bus'], trip ['t_1962878_b_33141_tn_0'], between stops\n",
      "2022-01-25 15:36:27, INFO: \tRouting agency ['The Bus'], trip ['t_1962896_b_33141_tn_16'], between stops\n",
      "2022-01-25 15:36:29, INFO: \tRouting agency ['The Bus'], trip ['t_1962895_b_33141_tn_2'], between stops\n",
      "2022-01-25 15:36:31, INFO: \tRouting agency ['The Bus'], trip ['t_1962894_b_33141_tn_0'], between stops\n",
      "2022-01-25 15:36:34, INFO: \tRouting agency ['The Bus'], trip ['t_1962905_b_33141_tn_16'], between stops\n",
      "2022-01-25 15:36:36, INFO: \tRouting agency ['The Bus'], trip ['t_1962813_b_33141_tn_4'], between stops\n",
      "2022-01-25 15:36:38, INFO: \tRouting agency ['The Bus'], trip ['t_1962815_b_33141_tn_0'], between stops\n",
      "2022-01-25 15:36:42, INFO: \tRouting agency ['The Bus'], trip ['t_1963102_b_33141_tn_0'], between stops\n",
      "2022-01-25 15:36:46, INFO: \tRouting agency ['The Bus'], trip ['t_1963112_b_33141_tn_0'], between stops\n",
      "2022-01-25 15:36:49, INFO: \tRouting agency ['The Bus'], trip ['t_1963111_b_33141_tn_0'], between stops\n",
      "2022-01-25 15:36:52, INFO: \tRouting agency ['The Bus'], trip ['t_1962893_b_33141_tn_1'], between stops\n",
      "2022-01-25 15:36:54, INFO: \tRouting agency ['The Bus'], trip ['t_1962889_b_33141_tn_0'], between stops\n",
      "2022-01-25 15:37:01, INFO: \tRouting agency ['The Bus'], trip ['t_1962869_b_33141_tn_1'], between stops\n",
      "2022-01-25 15:37:07, INFO: \tRouting agency ['The Bus'], trip ['t_1962877_b_33141_tn_0'], between stops\n",
      "2022-01-25 15:37:10, INFO: \tRouting agency ['The Bus'], trip ['t_1962833_b_33141_tn_1'], between stops\n",
      "2022-01-25 15:37:13, INFO: \tRouting agency ['The Bus'], trip ['t_1962842_b_33141_tn_1'], between stops\n",
      "2022-01-25 15:37:16, INFO: \tRouting agency ['The Bus'], trip ['t_1962845_b_33141_tn_0'], between stops\n",
      "2022-01-25 15:37:20, INFO: \tRouting agency ['The Bus'], trip ['t_1962907_b_33141_tn_0'], between stops\n",
      "2022-01-25 15:37:23, INFO: \tRouting agency ['The Bus'], trip ['t_1963142_b_33141_tn_0'], between stops\n",
      "2022-01-25 15:37:27, INFO: \tRouting agency ['The Bus'], trip ['t_1963123_b_33141_tn_0'], between stops\n",
      "2022-01-25 15:37:31, INFO: \tRouting agency ['The Bus'], trip ['t_1963130_b_33141_tn_0'], between stops\n",
      "2022-01-25 15:37:34, INFO: \tRouting agency ['The Bus'], trip ['t_1962806_b_33141_tn_0'], between stops\n",
      "2022-01-25 15:37:38, INFO: \tRouting agency ['The Bus'], trip ['t_1962805_b_33141_tn_8'], between stops\n",
      "2022-01-25 15:37:41, INFO: \tRouting agency ['The Bus'], trip ['t_1962807_b_33141_tn_1'], between stops\n",
      "2022-01-25 15:37:43, INFO: Route bus trips using shst match\n",
      "2022-01-25 15:40:54, INFO: ----------start reading shst extraction data-------------\n",
      "2022-01-25 15:40:54, INFO: reading shst extraction data : D:/merced\\data\\external\\gtfs\\2021\\gtfs_shape_for_shst_match\\match.lines_from_shapes_TheBus_p_111356.matched.geojson\n",
      "2022-01-25 15:40:54, INFO: reading shst extraction data : D:/merced\\data\\external\\gtfs\\2021\\gtfs_shape_for_shst_match\\match.lines_from_shapes_TheBus_p_3364.matched.geojson\n",
      "2022-01-25 15:40:54, INFO: ----------finished reading shst extraction data-------------\n",
      "2022-01-25 15:40:55, INFO: representative trips include 33 bus shapes, 67 bus trips\n",
      "2022-01-25 15:40:55, INFO: shst matched 2 bus shapes, 2 bus trips\n",
      "2022-01-25 15:40:55, INFO: in the remaining gtfs shapes, shortest path method matched 31 bus shapes, 65 bus trips\n",
      "2022-01-25 15:40:55, INFO: Updating stop node matching\n",
      "2022-01-25 15:41:14, INFO: representative trips include 0 rail/ferry shapes, which are total of 0 trips\n",
      "2022-01-25 15:41:14, INFO: Creating frequency reference\n"
     ]
    }
   ],
   "source": [
    "# main activities - routing buses, creating rails\n",
    "\n",
    "transit_network.build_standard_transit_network(\n",
    "    multithread_shst_match = True,\n",
    "    multithread_shortest_path = False\n",
    ")"
   ]
  },
  {
   "cell_type": "code",
   "execution_count": 20,
   "id": "f8636212",
   "metadata": {},
   "outputs": [
    {
     "data": {
      "text/plain": [
       "[]"
      ]
     },
     "execution_count": 20,
     "metadata": {},
     "output_type": "execute_result"
    }
   ],
   "source": [
    "# check if shortest path transit builder failed any transit shapes\n",
    "\n",
    "transit_network.shortest_path_failed_shape_list"
   ]
  },
  {
   "cell_type": "code",
   "execution_count": 21,
   "id": "ddc2eb7b",
   "metadata": {},
   "outputs": [],
   "source": [
    "transit_network.write_standard_transit(\n",
    "    path = interim_dir\n",
    ")"
   ]
  },
  {
   "cell_type": "code",
   "execution_count": 22,
   "id": "0356bc5a",
   "metadata": {},
   "outputs": [],
   "source": [
    "# write out bus route for review\n",
    "bus_trip_link_df = gpd.GeoDataFrame(\n",
    "    transit_network.bus_trip_link_df, \n",
    "    crs = roadway_network.links_df.crs)\n",
    "\n",
    "bus_trip_link_df.drop('wayId', axis = 1).to_file(\n",
    "    os.path.join(interim_dir, 'bus_routing.geojson'),\n",
    "    driver = 'GeoJSON'\n",
    ")"
   ]
  },
  {
   "cell_type": "markdown",
   "id": "a1fc3395",
   "metadata": {},
   "source": [
    "## Step 7 - Build Centroid Connectors\n",
    "\n",
    "builds centroid connectors from TAZ, MAZ"
   ]
  },
  {
   "cell_type": "code",
   "execution_count": null,
   "id": "199c4e4a",
   "metadata": {},
   "outputs": [],
   "source": [
    "taz_polygon_file = os.path.join(\n",
    "    external_dir,\n",
    "    \"taz\",\n",
    "    \"SJ_TAZ_Aug2011.shp\"\n",
    ")"
   ]
  },
  {
   "cell_type": "code",
   "execution_count": null,
   "id": "576b43b6",
   "metadata": {},
   "outputs": [],
   "source": [
    "roadway_network.build_centroid_connectors(\n",
    "    build_taz_drive = True,\n",
    "    build_taz_active_modes = True,\n",
    "    input_taz_polygon_file = taz_polygon_file\n",
    ")"
   ]
  },
  {
   "cell_type": "markdown",
   "id": "19eee2ad",
   "metadata": {},
   "source": [
    "## Step 8 - Write out Standard Format"
   ]
  },
  {
   "cell_type": "code",
   "execution_count": 20,
   "id": "69df9f6c",
   "metadata": {},
   "outputs": [
    {
     "name": "stdout",
     "output_type": "stream",
     "text": [
      "2022-01-07 23:45:48, INFO: Starting Step 8 creating roadway standard format\n"
     ]
    }
   ],
   "source": [
    "roadway_network.standard_format(\n",
    "    county_boundary_file = os.path.join(external_dir,\n",
    "        \"sharedstreets_extract\", \n",
    "        \"merced.shp\"),\n",
    "    county_variable_name = 'NAME'\n",
    ")"
   ]
  },
  {
   "cell_type": "code",
   "execution_count": 21,
   "id": "6fd686ac",
   "metadata": {},
   "outputs": [
    {
     "name": "stdout",
     "output_type": "stream",
     "text": [
      "2022-01-07 23:45:54, INFO: write out shape geojson\n",
      "2022-01-07 23:45:59, INFO: write out node geojson\n",
      "2022-01-07 23:46:02, INFO: write out link json\n",
      "2022-01-07 23:46:03, INFO: write out link geojson\n"
     ]
    }
   ],
   "source": [
    "RanchLogger.info(\"write out shape geojson\")\n",
    "\n",
    "shape_prop = ['id', 'fromIntersectionId', 'toIntersectionId', 'forwardReferenceId', 'backReferenceId']\n",
    "shape_geojson = link_df_to_geojson(\n",
    "    roadway_network.shapes_df, \n",
    "    shape_prop\n",
    ")\n",
    "\n",
    "with open(os.path.join(interim_dir,\"step8_shapes.geojson\"), \"w\") as f:\n",
    "    json.dump(shape_geojson, f)\n",
    "\n",
    "RanchLogger.info(\"write out node geojson\")\n",
    "\n",
    "node_prop = roadway_network.nodes_df.drop('geometry', axis = 1).columns.tolist()\n",
    "node_geojson = point_df_to_geojson(\n",
    "    roadway_network.nodes_df, \n",
    "    node_prop\n",
    ")\n",
    "\n",
    "with open(os.path.join(interim_dir,\"step8_nodes.geojson\"), \"w\") as f:\n",
    "    json.dump(node_geojson, f)\n",
    "\n",
    "RanchLogger.info(\"write out link json\")\n",
    "\n",
    "link_prop = roadway_network.links_df.drop(\n",
    "    ['geometry'], \n",
    "    axis = 1\n",
    ").columns.tolist()\n",
    "\n",
    "out = roadway_network.links_df[link_prop].to_json(orient = \"records\")\n",
    "\n",
    "with open(os.path.join(interim_dir,\"step8_links.json\"), 'w') as f:\n",
    "    f.write(out)\n",
    "    \n",
    "# the standard format for links are links.json, without the geometry\n",
    "# here writing out links in links.geojson in case the user wants to visualize links\n",
    "\n",
    "RanchLogger.info(\"write out link geojson\")\n",
    "\n",
    "link_prop = roadway_network.links_df.drop('geometry', axis = 1).columns.tolist()\n",
    "link_geojson = link_df_to_geojson(\n",
    "    roadway_network.links_df, \n",
    "    link_prop\n",
    ")\n",
    "\n",
    "with open(os.path.join(interim_dir,\"step8_links.geojson\"), \"w\") as f:\n",
    "    json.dump(link_geojson, f)"
   ]
  },
  {
   "cell_type": "code",
   "execution_count": null,
   "id": "962f3002",
   "metadata": {},
   "outputs": [],
   "source": []
  }
 ],
 "metadata": {
  "kernelspec": {
   "display_name": "Python 3 (ipykernel)",
   "language": "python",
   "name": "python3"
  },
  "language_info": {
   "codemirror_mode": {
    "name": "ipython",
    "version": 3
   },
   "file_extension": ".py",
   "mimetype": "text/x-python",
   "name": "python",
   "nbconvert_exporter": "python",
   "pygments_lexer": "ipython3",
   "version": "3.7.10"
  }
 },
 "nbformat": 4,
 "nbformat_minor": 5
}
