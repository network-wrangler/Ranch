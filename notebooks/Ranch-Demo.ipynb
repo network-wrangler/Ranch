{
 "cells": [
  {
   "cell_type": "markdown",
   "id": "eab1caea",
   "metadata": {},
   "source": [
    "# Ranch Demo Notebook\n",
    "\n",
    "This notebook has examples of how to make Ranch calls to run through the complete network building pipeline to develop standard roadway and transit network from scratch"
   ]
  },
  {
   "cell_type": "code",
   "execution_count": 1,
   "id": "c2f80b77",
   "metadata": {},
   "outputs": [],
   "source": [
    "import os\n",
    "import pickle\n",
    "import pandas as pd\n",
    "import geopandas as gpd\n",
    "from pyproj import CRS\n",
    "import json\n",
    "import sys\n",
    "\n",
    "import ranch\n",
    "from ranch import sharedstreets\n",
    "from ranch import Roadway\n",
    "from ranch import Transit\n",
    "from ranch import Parameters\n",
    "from ranch.utils import link_df_to_geojson, point_df_to_geojson\n",
    "from ranch.logger import RanchLogger"
   ]
  },
  {
   "cell_type": "code",
   "execution_count": 2,
   "id": "1d804a6d",
   "metadata": {},
   "outputs": [],
   "source": [
    "%load_ext autoreload\n",
    "%autoreload 2"
   ]
  },
  {
   "cell_type": "markdown",
   "id": "3032c430",
   "metadata": {},
   "source": [
    "# Remote I/O\n",
    "\n",
    "User to update, project directory is not necessarily the ranch directory"
   ]
  },
  {
   "cell_type": "code",
   "execution_count": 3,
   "id": "55cf66a4",
   "metadata": {},
   "outputs": [],
   "source": [
    "# project directory\n",
    "root_dir = r\"C:\\Users\\USLP095001\\code\\NetworkWraner\\ranch_resources\\sanjoaquin\" #os.path.join(\"D:/merced\")\n",
    "\n",
    "external_dir = os.path.join(root_dir, \"data\", \"external\")\n",
    "interim_dir = os.path.join(root_dir, \"data\", \"interim\")\n",
    "\n",
    "# software directory\n",
    "ranch_dir = r\"C:\\Users\\USLP095001\\code\\NetworkWraner\\Ranch\" #os.path.join(\"D:/github/Ranch\")\n",
    "\n",
    "# the folder where SharedStreets extractions live\n",
    "\n",
    "shst_extract_dir = os.path.join(external_dir, \"sharedstreets_extract\")\n",
    "\n",
    "# the folder where OSMNX extractions live\n",
    "\n",
    "osm_extract_dir = os.path.join(external_dir, \"osmnx_extract\")"
   ]
  },
  {
   "cell_type": "code",
   "execution_count": 4,
   "id": "bbce6156",
   "metadata": {},
   "outputs": [
    {
     "name": "stdout",
     "output_type": "stream",
     "text": [
      "2024-11-14 16:29:11, INFO: Lasso base directory set as: C:\\Users\\USLP095001\\code\\NetworkWraner\\Ranch\n"
     ]
    }
   ],
   "source": [
    "parameters = Parameters(ranch_base_dir = ranch_dir)"
   ]
  },
  {
   "cell_type": "code",
   "execution_count": 5,
   "id": "68bcdc7a",
   "metadata": {},
   "outputs": [
    {
     "data": {
      "text/plain": [
       "<Geographic 2D CRS: EPSG:4326>\n",
       "Name: WGS 84\n",
       "Axis Info [ellipsoidal]:\n",
       "- Lat[north]: Geodetic latitude (degree)\n",
       "- Lon[east]: Geodetic longitude (degree)\n",
       "Area of Use:\n",
       "- name: World.\n",
       "- bounds: (-180.0, -90.0, 180.0, 90.0)\n",
       "Datum: World Geodetic System 1984 ensemble\n",
       "- Ellipsoid: WGS 84\n",
       "- Prime Meridian: Greenwich"
      ]
     },
     "execution_count": 5,
     "metadata": {},
     "output_type": "execute_result"
    }
   ],
   "source": [
    "parameters.standard_crs"
   ]
  },
  {
   "cell_type": "code",
   "execution_count": 6,
   "id": "35e34475",
   "metadata": {},
   "outputs": [
    {
     "name": "stdout",
     "output_type": "stream",
     "text": [
      "C:\\Users\\USLP095001\\code\\NetworkWraner\\ranch_resources\\sanjoaquin exists!\n",
      "C:\\Users\\USLP095001\\code\\NetworkWraner\\ranch_resources\\sanjoaquin\\data\\external exists!\n",
      "C:\\Users\\USLP095001\\code\\NetworkWraner\\ranch_resources\\sanjoaquin\\data\\interim exists!\n",
      "C:\\Users\\USLP095001\\code\\NetworkWraner\\ranch_resources\\sanjoaquin\\data\\external\\sharedstreets_extract exists!\n",
      "C:\\Users\\USLP095001\\code\\NetworkWraner\\ranch_resources\\sanjoaquin\\data\\external\\osmnx_extract exists!\n"
     ]
    }
   ],
   "source": [
    "for d in [root_dir, external_dir, interim_dir, shst_extract_dir, osm_extract_dir]:\n",
    "    if os.path.isdir(d):\n",
    "        print(f\"{d} exists!\")\n",
    "        continue\n",
    "    \n",
    "    print(f\"creating {d}\")\n",
    "    os.makedirs(d)"
   ]
  },
  {
   "cell_type": "markdown",
   "id": "4b691543",
   "metadata": {},
   "source": [
    "## Step 1 - SharedStreets Extraction\n",
    "\n",
    "Extracts sharedstreets representation of OSM links.\n",
    "The input for this step is the polygon boundary file for the area.\n",
    "The output for this step is geojson files from SharedStreets API."
   ]
  },
  {
   "cell_type": "code",
   "execution_count": null,
   "id": "186f2501",
   "metadata": {},
   "outputs": [],
   "source": [
    "# the polygon file for the area\n",
    "\n",
    "input_polygon_file = os.path.join(\n",
    "    external_dir,\n",
    "    \"sharedstreets_extract\", \n",
    "    \"merced.shp\"\n",
    ")"
   ]
  },
  {
   "cell_type": "code",
   "execution_count": null,
   "id": "86536141",
   "metadata": {},
   "outputs": [],
   "source": [
    "# the SharedStreets extraction file is saved to the 'output_dir' argument\n",
    "\n",
    "ranch.run_shst_extraction(\n",
    "    input_polygon_file = input_polygon_file,\n",
    "    output_dir = shst_extract_dir\n",
    ")"
   ]
  },
  {
   "cell_type": "markdown",
   "id": "8e8bb5fb",
   "metadata": {},
   "source": [
    "## Step 2 - OSMNX Extraction\n",
    "\n",
    "Extracts complete OSM attributes using OSMNX.\n",
    "The input for this step is the polygon boundary file for the area.\n",
    "The output for this step is geojson files from OSMNX."
   ]
  },
  {
   "cell_type": "code",
   "execution_count": null,
   "id": "1ee92646",
   "metadata": {},
   "outputs": [],
   "source": [
    "# the OSMNX extraction file is saved to the 'output_dir' argument\n",
    "\n",
    "ranch.run_osmnx_extraction(\n",
    "    input_polygon_file = input_polygon_file,\n",
    "    output_dir = os.path.join(external_dir, \"osmnx_extract\")\n",
    ")"
   ]
  },
  {
   "cell_type": "markdown",
   "id": "34da42b9",
   "metadata": {},
   "source": [
    "## Step 3 - Consolidate SharedStreets and OSMNX extractions\n",
    "\n",
    "consolidates raw roadway data and create initial roadway networks"
   ]
  },
  {
   "cell_type": "code",
   "execution_count": 7,
   "id": "bad80387",
   "metadata": {
    "scrolled": false
   },
   "outputs": [
    {
     "name": "stdout",
     "output_type": "stream",
     "text": [
      "2024-11-14 16:29:20, INFO: Reading sharedstreets data\n",
      "2024-11-14 16:29:20, INFO: ----------start reading shst extraction data-------------\n",
      "2024-11-14 16:29:20, INFO: reading shst extraction data : C:\\Users\\USLP095001\\code\\NetworkWraner\\ranch_resources\\sanjoaquin\\data\\external\\sharedstreets_extract\\extract.boundary.0.out.geojson\n",
      "2024-11-14 16:29:35, INFO: ----------finished reading shst extraction data-------------\n",
      "2024-11-14 16:29:35, INFO: Removing duplicates in shst extraction data\n",
      "2024-11-14 16:29:35, INFO: ...before removing duplicates, shst extraction has 99961 geometries.\n",
      "2024-11-14 16:29:35, INFO: ...after removing duplicates, shst extraction has 99961 geometries.\n",
      "2024-11-14 16:29:35, INFO: Reading osmnx data\n",
      "2024-11-14 16:31:30, INFO: Extracting corresponding osm ways for every shst geometry\n",
      "2024-11-14 16:32:06, INFO: shst extraction has 99961 geometries\n",
      "2024-11-14 16:32:06, INFO: shst extraction has 107067 osm links\n",
      "2024-11-14 16:32:06, INFO: ---joining osm shst with osmnx data---\n",
      "2024-11-14 16:32:06, INFO: shst extraction has 97984 two-way osm links\n",
      "2024-11-14 16:32:06, INFO: and they are 92308 geometrys\n",
      "2024-11-14 16:32:06, INFO: after join, ther are 205051 osm links from shst extraction,     out of which there are 84930 links that do not have osm info,     due to shst extraction (default tile 181224) contains 19104 osm ids that are not included in latest OSM extraction,     e.g. private streets, closed streets.\n",
      "2024-11-14 16:32:07, INFO: after join, there are 192269 shst referencies\n",
      "2024-11-14 16:32:07, INFO: numeric columns: ['wayId', 'u', 'v', 'osmid', 'key', 'reverse_out']\n",
      "2024-11-14 16:32:07, INFO: str columns: \n"
     ]
    },
    {
     "name": "stderr",
     "output_type": "stream",
     "text": [
      "c:\\users\\uslp095001\\code\\networkwraner\\ranch\\ranch\\utils.py:80: FutureWarning: A value is trying to be set on a copy of a DataFrame or Series through chained assignment using an inplace method.\n",
      "The behavior will change in pandas 3.0. This inplace method will never work because the intermediate object on which we are setting values always behaves as a copy.\n",
      "\n",
      "For example, when doing 'df[col].method(value, inplace=True)', try using 'df.method({col: value}, inplace=True)' or df[col] = df[col].method(value) instead, to perform the operation inplace on the original object.\n",
      "\n",
      "\n",
      "  df[x].fillna(\"\", inplace=True)\n",
      "c:\\users\\uslp095001\\code\\networkwraner\\ranch\\ranch\\utils.py:78: FutureWarning: A value is trying to be set on a copy of a DataFrame or Series through chained assignment using an inplace method.\n",
      "The behavior will change in pandas 3.0. This inplace method will never work because the intermediate object on which we are setting values always behaves as a copy.\n",
      "\n",
      "For example, when doing 'df[col].method(value, inplace=True)', try using 'df.method({col: value}, inplace=True)' or df[col] = df[col].method(value) instead, to perform the operation inplace on the original object.\n",
      "\n",
      "\n",
      "  df[x].fillna(0, inplace=True)\n"
     ]
    },
    {
     "name": "stdout",
     "output_type": "stream",
     "text": [
      "2024-11-14 16:32:07, INFO: Start aggregating osm segments to one shst link for forward links\n",
      "2024-11-14 16:32:32, INFO: Start aggregating osm segments to one shst link for backward links\n",
      "2024-11-14 16:32:55, INFO: all\n",
      "2024-11-14 16:32:58, INFO: Start creating shst nodes\n",
      "2024-11-14 16:33:03, INFO: Lasso base directory set as: C:\\Users\\USLP095001\\code\\NetworkWraner\\Ranch\n"
     ]
    }
   ],
   "source": [
    "# build and returns roaday network object from extraction files\n",
    "\n",
    "roadway_network = Roadway.create_roadway_network_from_extracts(\n",
    "    shst_extract_dir = shst_extract_dir,\n",
    "    osm_extract_dir = osm_extract_dir,\n",
    "    parameters = parameters,\n",
    ")"
   ]
  },
  {
   "cell_type": "code",
   "execution_count": null,
   "id": "a2b30830",
   "metadata": {},
   "outputs": [],
   "source": [
    "roadway_network.links_df[\"data_source\"].notna().sum()"
   ]
  },
  {
   "cell_type": "code",
   "execution_count": null,
   "id": "eeb794c1",
   "metadata": {},
   "outputs": [],
   "source": [
    "RanchLogger.info(\"Initial network has {} links\".format(roadway_network.links_df.shape[0]))\n",
    "RanchLogger.info(\"Initial network has {} nodes\".format(roadway_network.nodes_df.shape[0]))\n",
    "RanchLogger.info(\"Initial network has {} shapes\".format(roadway_network.shapes_df.shape[0]))"
   ]
  },
  {
   "cell_type": "markdown",
   "id": "907845a9",
   "metadata": {},
   "source": [
    "### Optional: If the user wants to write out the roadway network in standard format, they can do the following, otherwise no need to write out. These files can also be written out after step 5.  After step 5, roadway network is trimmed to be within county boundary"
   ]
  },
  {
   "cell_type": "code",
   "execution_count": null,
   "id": "735c87db",
   "metadata": {},
   "outputs": [],
   "source": [
    "RanchLogger.info(\"write out shape geojson\")\n",
    "\n",
    "shape_prop = ['id', 'fromIntersectionId', 'toIntersectionId', 'forwardReferenceId', 'backReferenceId']\n",
    "shape_geojson = link_df_to_geojson(\n",
    "    roadway_network.shapes_df, \n",
    "    shape_prop\n",
    ")\n",
    "\n",
    "with open(os.path.join(interim_dir,\"step3_shapes.geojson\"), \"w\") as f:\n",
    "    json.dump(shape_geojson, f)\n",
    "\n",
    "RanchLogger.info(\"write out node geojson\")\n",
    "\n",
    "node_prop = roadway_network.nodes_df.drop('geometry', axis = 1).columns.tolist()\n",
    "node_geojson = point_df_to_geojson(\n",
    "    roadway_network.nodes_df, \n",
    "    node_prop\n",
    ")\n",
    "\n",
    "with open(os.path.join(interim_dir,\"step3_nodes.geojson\"), \"w\") as f:\n",
    "    json.dump(node_geojson, f)\n",
    "\n",
    "RanchLogger.info(\"write out link json\")\n",
    "\n",
    "link_prop = roadway_network.links_df.drop(\n",
    "    ['geometry'], \n",
    "    axis = 1\n",
    ").columns.tolist()\n",
    "\n",
    "out = roadway_network.links_df[link_prop].to_json(orient = \"records\")\n",
    "\n",
    "with open(os.path.join(interim_dir,\"step3_links.json\"), 'w') as f:\n",
    "    f.write(out)\n",
    "    \n",
    "# the standard format for links are links.json, without the geometry\n",
    "# here writing out links in links.geojson in case the user wants to visualize links\n",
    "\n",
    "RanchLogger.info(\"write out link geojson\")\n",
    "\n",
    "link_prop = roadway_network.links_df.drop('geometry', axis = 1).columns.tolist()\n",
    "link_geojson = link_df_to_geojson(\n",
    "    roadway_network.links_df, \n",
    "    link_prop\n",
    ")\n",
    "\n",
    "with open(os.path.join(interim_dir,\"step3_links.geojson\"), \"w\") as f:\n",
    "    json.dump(link_geojson, f)"
   ]
  },
  {
   "cell_type": "markdown",
   "id": "610b045e",
   "metadata": {},
   "source": [
    "### Optional: it's more efficient if the user writes out the intermediate network object in pickle"
   ]
  },
  {
   "cell_type": "code",
   "execution_count": null,
   "id": "962335d2",
   "metadata": {},
   "outputs": [],
   "source": [
    "working_network_filename = os.path.join(interim_dir,\"step3_network.pickle\")\n",
    "pickle.dump(roadway_network, open(working_network_filename, 'wb'))"
   ]
  },
  {
   "cell_type": "markdown",
   "id": "891a85a4",
   "metadata": {},
   "source": [
    "## Step 4 - Roadway Data Conflation\n",
    "\n",
    "Conflates e.g. county network with roadway network using SharedStreets.\n",
    "The input for this step is the 3rd-party geodatabases to conflate.\n",
    "The output of this step is the SharedStreets conflation outputs in geojson."
   ]
  },
  {
   "cell_type": "code",
   "execution_count": 8,
   "id": "2917cfff",
   "metadata": {},
   "outputs": [],
   "source": [
    "# define the input 3rd-party file, either shapefile or geojson\n",
    "\n",
    "input_network_file = os.path.join(external_dir, \"sjmodel\", \"Network\", \"2015\",\"TCM_MASTER_2A22_102717.shp\")"
   ]
  },
  {
   "cell_type": "code",
   "execution_count": 9,
   "id": "c4ed6493",
   "metadata": {},
   "outputs": [],
   "source": [
    "# if the CRS is undefined in the input network file, user needs to specify:\n",
    "\n",
    "input_crs = CRS(\"ESRI:102643\")"
   ]
  },
  {
   "cell_type": "code",
   "execution_count": 26,
   "id": "ae46ca32",
   "metadata": {},
   "outputs": [],
   "source": [
    "# usually pandas can keep the crs, with the \n",
    "input_network_to_conflate = gpd.read_file(input_network_file, crs=input_crs)#, engine=\"pyogrio\")\n",
    "input_network_to_conflate = input_network_to_conflate.set_crs(input_crs)"
   ]
  },
  {
   "cell_type": "code",
   "execution_count": 27,
   "id": "1fcb68ef",
   "metadata": {},
   "outputs": [
    {
     "name": "stdout",
     "output_type": "stream",
     "text": [
      "epsg:4326\n"
     ]
    }
   ],
   "source": [
    "print(roadway_network.links_df.crs)"
   ]
  },
  {
   "cell_type": "code",
   "execution_count": 30,
   "id": "9b36666d",
   "metadata": {},
   "outputs": [
    {
     "ename": "",
     "evalue": "",
     "output_type": "error",
     "traceback": [
      "\u001b[1;31mThe Kernel crashed while executing code in the current cell or a previous cell. \n",
      "\u001b[1;31mPlease review the code in the cell(s) to identify a possible cause of the failure. \n",
      "\u001b[1;31mClick <a href='https://aka.ms/vscodeJupyterKernelCrash'>here</a> for more info. \n",
      "\u001b[1;31mView Jupyter <a href='command:jupyter.viewOutput'>log</a> for further details."
     ]
    }
   ],
   "source": [
    "from ranch import conflate_linestrings\n",
    "\n",
    "conflate_linestrings.conflate_line_segments(\n",
    "    roadway_network.links_df.to_crs(input_crs),\n",
    "    input_network_to_conflate, \n",
    "    30,\n",
    ")\n"
   ]
  },
  {
   "cell_type": "code",
   "execution_count": 17,
   "id": "4fc2671d",
   "metadata": {},
   "outputs": [],
   "source": [
    "roadway_network.links_df[\"geometry\"].to_file(r\"C:\\Users\\USLP095001\\code\\NetworkWraner\\ranch_resources\\sanjoaquin\\data\\external\\sjmodel\\shst_match\\ss\\test2.gpkg\")"
   ]
  },
  {
   "cell_type": "code",
   "execution_count": 13,
   "id": "2670a8a2",
   "metadata": {},
   "outputs": [
    {
     "name": "stdout",
     "output_type": "stream",
     "text": [
      "2024-11-14 16:51:03, INFO: Input network for shst match does not have unique IDs, generating unique IDs\n",
      "2024-11-14 16:51:03, INFO: Generated 49910 unique IDs for 49910 links in the input network\n",
      "2024-11-14 16:51:03, INFO: Exporting shst match input - ID-ed geometry file C:\\Users\\USLP095001\\code\\NetworkWraner\\ranch_resources\\sanjoaquin\\data\\external\\sjmodel\\shst_match\\TCM_MASTER_2A22_102717.geojson\n",
      "2024-11-14 16:51:05, INFO: Exporting ID-ed network file C:\\Users\\USLP095001\\code\\NetworkWraner\\ranch_resources\\sanjoaquin\\data\\external\\sjmodel\\shst_match\\TCM_MASTER_2A22_102717.full.geojson\n"
     ]
    },
    {
     "ename": "AssertionError",
     "evalue": "",
     "output_type": "error",
     "traceback": [
      "\u001b[1;31m---------------------------------------------------------------------------\u001b[0m",
      "\u001b[1;31mAssertionError\u001b[0m                            Traceback (most recent call last)",
      "Cell \u001b[1;32mIn[13], line 7\u001b[0m\n\u001b[0;32m      1\u001b[0m \u001b[38;5;66;03m# the output is saved to the 'output_dir' argument\u001b[39;00m\n\u001b[0;32m      2\u001b[0m \u001b[38;5;66;03m# user can specify the match option (reference here) \u001b[39;00m\n\u001b[0;32m      3\u001b[0m \u001b[38;5;66;03m# by 'custom_match_option'\u001b[39;00m\n\u001b[0;32m      4\u001b[0m \u001b[38;5;66;03m# if not specified, use the default\u001b[39;00m\n\u001b[0;32m      5\u001b[0m \u001b[38;5;66;03m# match option would vary by the input network\u001b[39;00m\n\u001b[1;32m----> 7\u001b[0m \u001b[43mranch\u001b[49m\u001b[38;5;241;43m.\u001b[39;49m\u001b[43mrun_shst_match\u001b[49m\u001b[43m(\u001b[49m\n\u001b[0;32m      8\u001b[0m \u001b[43m    \u001b[49m\u001b[43minput_network_file\u001b[49m\u001b[43m \u001b[49m\u001b[38;5;241;43m=\u001b[39;49m\u001b[43m \u001b[49m\u001b[43minput_network_file\u001b[49m\u001b[43m,\u001b[49m\n\u001b[0;32m      9\u001b[0m \u001b[43m    \u001b[49m\u001b[43minput_crs\u001b[49m\u001b[43m \u001b[49m\u001b[38;5;241;43m=\u001b[39;49m\u001b[43m \u001b[49m\u001b[43minput_crs\u001b[49m\u001b[43m,\u001b[49m\n\u001b[0;32m     10\u001b[0m \u001b[43m    \u001b[49m\u001b[43moutput_dir\u001b[49m\u001b[43m \u001b[49m\u001b[38;5;241;43m=\u001b[39;49m\u001b[43m \u001b[49m\u001b[43mos\u001b[49m\u001b[38;5;241;43m.\u001b[39;49m\u001b[43mpath\u001b[49m\u001b[38;5;241;43m.\u001b[39;49m\u001b[43mjoin\u001b[49m\u001b[43m(\u001b[49m\u001b[43mexternal_dir\u001b[49m\u001b[43m,\u001b[49m\u001b[43m \u001b[49m\u001b[38;5;124;43m\"\u001b[39;49m\u001b[38;5;124;43msjmodel\u001b[39;49m\u001b[38;5;124;43m\"\u001b[39;49m\u001b[43m,\u001b[49m\u001b[43m \u001b[49m\u001b[38;5;124;43m\"\u001b[39;49m\u001b[38;5;124;43mshst_match\u001b[39;49m\u001b[38;5;124;43m\"\u001b[39;49m\u001b[43m)\u001b[49m\u001b[43m,\u001b[49m\n\u001b[0;32m     11\u001b[0m \u001b[43m    \u001b[49m\u001b[43mcustom_match_option\u001b[49m\u001b[43m \u001b[49m\u001b[38;5;241;43m=\u001b[39;49m\u001b[43m \u001b[49m\u001b[38;5;124;43m'\u001b[39;49m\u001b[38;5;124;43m--tile-hierarchy=8 --search-radius=50 --snap-intersections\u001b[39;49m\u001b[38;5;124;43m'\u001b[39;49m\n\u001b[0;32m     12\u001b[0m \u001b[43m)\u001b[49m\n",
      "File \u001b[1;32mc:\\users\\uslp095001\\code\\networkwraner\\ranch\\ranch\\sharedstreets.py:216\u001b[0m, in \u001b[0;36mrun_shst_match\u001b[1;34m(input_network_file, output_dir, input_crs, input_unique_id, custom_match_option)\u001b[0m\n\u001b[0;32m    207\u001b[0m     RanchLogger\u001b[38;5;241m.\u001b[39minfo(\n\u001b[0;32m    208\u001b[0m         \u001b[38;5;124m\"\u001b[39m\u001b[38;5;124mExporting ID-ed network file \u001b[39m\u001b[38;5;132;01m{}\u001b[39;00m\u001b[38;5;124m\"\u001b[39m\u001b[38;5;241m.\u001b[39mformat(\n\u001b[0;32m    209\u001b[0m             os\u001b[38;5;241m.\u001b[39mpath\u001b[38;5;241m.\u001b[39mjoin(output_dir, filename \u001b[38;5;241m+\u001b[39m \u001b[38;5;124m\"\u001b[39m\u001b[38;5;124m.full.geojson\u001b[39m\u001b[38;5;124m\"\u001b[39m)\n\u001b[0;32m    210\u001b[0m         )\n\u001b[0;32m    211\u001b[0m     )\n\u001b[0;32m    213\u001b[0m     network_gdf\u001b[38;5;241m.\u001b[39mto_file(\n\u001b[0;32m    214\u001b[0m         os\u001b[38;5;241m.\u001b[39mpath\u001b[38;5;241m.\u001b[39mjoin(output_dir, filename \u001b[38;5;241m+\u001b[39m \u001b[38;5;124m\"\u001b[39m\u001b[38;5;124m.full.geojson\u001b[39m\u001b[38;5;124m\"\u001b[39m), driver\u001b[38;5;241m=\u001b[39m\u001b[38;5;124m\"\u001b[39m\u001b[38;5;124mGeoJSON\u001b[39m\u001b[38;5;124m\"\u001b[39m\n\u001b[0;32m    215\u001b[0m     )\n\u001b[1;32m--> 216\u001b[0m \u001b[38;5;28;01massert\u001b[39;00m \u001b[38;5;28;01mFalse\u001b[39;00m\n\u001b[0;32m    218\u001b[0m \u001b[38;5;28;01mif\u001b[39;00m custom_match_option:\n\u001b[0;32m    219\u001b[0m     match_option \u001b[38;5;241m=\u001b[39m custom_match_option\n",
      "\u001b[1;31mAssertionError\u001b[0m: "
     ]
    }
   ],
   "source": [
    "# the output is saved to the 'output_dir' argument\n",
    "# user can specify the match option (reference here) \n",
    "# by 'custom_match_option'\n",
    "# if not specified, use the default\n",
    "# match option would vary by the input network\n",
    "\n",
    "ranch.run_shst_match(\n",
    "    input_network_file = input_network_file,\n",
    "    input_crs = input_crs,\n",
    "    output_dir = os.path.join(external_dir, \"sjmodel\", \"shst_match\"),\n",
    "    custom_match_option = '--tile-hierarchy=8 --search-radius=50 --snap-intersections'\n",
    ")"
   ]
  },
  {
   "cell_type": "markdown",
   "id": "4b20b427",
   "metadata": {},
   "source": [
    "## Step 5 - Tidy Up Roadway\n",
    "\n",
    "Trim network to be within county boundary. Identifies drive dead-ends, cul-de-secs, numbering links and nodes, etc.\n",
    "The input for this step is the polygon file with subregion identifier, e.g. county.\n",
    "This step labels each link and node with the county name."
   ]
  },
  {
   "cell_type": "code",
   "execution_count": null,
   "id": "0858ca50",
   "metadata": {},
   "outputs": [],
   "source": [
    "# this is the input county polygon file with county names\n",
    "\n",
    "county_boundary_file = os.path.join(\n",
    "    external_dir,\n",
    "    \"sharedstreets_extract\", \n",
    "    \"merced.shp\"\n",
    ")\n",
    "\n",
    "# specify the column to look for county name\n",
    "\n",
    "county_variable_name = 'NAME'"
   ]
  },
  {
   "cell_type": "code",
   "execution_count": null,
   "id": "c08afaad",
   "metadata": {},
   "outputs": [],
   "source": [
    "roadway_network.tidy_roadway(\n",
    "    county_boundary_file = county_boundary_file,\n",
    "    county_variable_name = county_variable_name,\n",
    "    create_node_link_id = False\n",
    ")"
   ]
  },
  {
   "cell_type": "code",
   "execution_count": null,
   "id": "7cc6b719",
   "metadata": {},
   "outputs": [],
   "source": [
    "# save out the step 5 output as pickle file\n",
    "\n",
    "working_network_filename = os.path.join(interim_dir,\"step5_network.pickle\")\n",
    "pickle.dump(roadway_network, open(working_network_filename, 'wb'))"
   ]
  },
  {
   "cell_type": "markdown",
   "id": "5b68f073",
   "metadata": {},
   "source": [
    "## Step 5.1 (Optional) - Combine County Roadway Networks Before GTFS Routing"
   ]
  },
  {
   "cell_type": "markdown",
   "id": "e62f9b73",
   "metadata": {},
   "source": [
    "If the user already has the entire roadway network in one roadway object, then skip this step."
   ]
  },
  {
   "cell_type": "markdown",
   "id": "97175508",
   "metadata": {},
   "source": [
    "This step combines multiple roadway network objects into one, so that a complete roadway network can be used in step 6 - transit routing. This addresses issues like buses crossing multiple counties."
   ]
  },
  {
   "cell_type": "code",
   "execution_count": null,
   "id": "d62a07e7",
   "metadata": {},
   "outputs": [],
   "source": [
    "# inputs are individual county network objects saved out from step 5\n",
    "\n",
    "merced_roadway_network_pickle_file_name = os.path.join(\"D:\\merced\\data\\interim\\step5_network.pickle\")\n",
    "merced_roadway_network = pickle.load(open(merced_roadway_network_pickle_file_name, 'rb'))\n",
    "\n",
    "stanislaus_roadway_network_pickle_file_name = os.path.join(\"D:\\stanislaus\\data\\interim\\step5_network.pickle\")\n",
    "stanislaus_roadway_network = pickle.load(open(stanislaus_roadway_network_pickle_file_name, 'rb'))\n",
    "\n",
    "sanjoaquin_roadway_network_pickle_file_name = os.path.join(\"D:\\sanjoaquin\\data\\interim\\step5_network.pickle\")\n",
    "sanjoaquin_roadway_network = pickle.load(open(sanjoaquin_roadway_network_pickle_file_name, 'rb'))"
   ]
  },
  {
   "cell_type": "code",
   "execution_count": null,
   "id": "7ac27a18",
   "metadata": {},
   "outputs": [],
   "source": [
    "roadway_network_list = [merced_roadway_network, stanislaus_roadway_network, sanjoaquin_roadway_network]"
   ]
  },
  {
   "cell_type": "code",
   "execution_count": null,
   "id": "cbcdf7e4",
   "metadata": {},
   "outputs": [],
   "source": [
    "# process\n",
    "\n",
    "roadway_network = ranch.roadway.combine_roadway_network_from_objects(\n",
    "    roadway_network_list = roadway_network_list,\n",
    "    parameters = parameters\n",
    ")"
   ]
  },
  {
   "cell_type": "markdown",
   "id": "a78bc9b5",
   "metadata": {},
   "source": [
    "## Step 6 - Build Transit Network from GTFS\n",
    "\n",
    "Build standard transit network from GTFS"
   ]
  },
  {
   "cell_type": "code",
   "execution_count": null,
   "id": "96360beb",
   "metadata": {},
   "outputs": [],
   "source": [
    "# the roadway_network used for step 6 should be the entire region's network\n",
    "\n",
    "all_county_network_filename = os.path.join(\n",
    "    'D:/WSP O365/BART-TDLU - Documents/Networks', '21Counties', 'interim',\"step5_network.pickle\"\n",
    ")\n",
    "\n",
    "roadway_network = pickle.load(open(all_county_network_filename, 'rb'))"
   ]
  },
  {
   "cell_type": "code",
   "execution_count": null,
   "id": "30e247f2",
   "metadata": {},
   "outputs": [],
   "source": [
    "# the directory where all gtfs feeds are located\n",
    "# e.g. gtfs_dir/sjrtd_2015_0127/routes.txt\n",
    "# e.g. gtfs_dir/bart_2015_0127/routes.txt\n",
    "\n",
    "gtfs_dir = os.path.join(external_dir, \"gtfs\", \"2021\")"
   ]
  },
  {
   "cell_type": "code",
   "execution_count": null,
   "id": "086b9af4",
   "metadata": {},
   "outputs": [],
   "source": [
    "# read gtfs into transit object\n",
    "\n",
    "transit_network = Transit.load_all_gtfs_feeds(\n",
    "    gtfs_dir = gtfs_dir,\n",
    "    roadway_network= roadway_network,\n",
    "    parameters=parameters\n",
    ")"
   ]
  },
  {
   "cell_type": "code",
   "execution_count": null,
   "id": "e8a48d95",
   "metadata": {
    "scrolled": true
   },
   "outputs": [],
   "source": [
    "# main activities - routing buses, creating rails\n",
    "\n",
    "transit_network.build_standard_transit_network(\n",
    "    multithread_shst_match = True,\n",
    "    multithread_shortest_path = False\n",
    ")"
   ]
  },
  {
   "cell_type": "code",
   "execution_count": null,
   "id": "f8636212",
   "metadata": {},
   "outputs": [],
   "source": [
    "# check if shortest path transit builder failed any transit shapes\n",
    "\n",
    "transit_network.shortest_path_failed_shape_list"
   ]
  },
  {
   "cell_type": "code",
   "execution_count": null,
   "id": "ddc2eb7b",
   "metadata": {},
   "outputs": [],
   "source": [
    "# writes out standard transit network and rail links/nodes if present\n",
    "\n",
    "transit_network.write_standard_transit(\n",
    "    path = interim_dir\n",
    ")"
   ]
  },
  {
   "cell_type": "code",
   "execution_count": null,
   "id": "448a1395",
   "metadata": {},
   "outputs": [],
   "source": [
    "# write out bus route for review\n",
    "bus_trip_link_df = gpd.GeoDataFrame(\n",
    "    transit_network.bus_trip_link_df, \n",
    "    crs = roadway_network.links_df.crs)\n",
    "\n",
    "bus_trip_link_df.drop('wayId', axis = 1).to_file(\n",
    "    os.path.join(interim_dir, 'bus_routing.geojson'),\n",
    "    driver = 'GeoJSON'\n",
    ")"
   ]
  },
  {
   "cell_type": "markdown",
   "id": "a1fc3395",
   "metadata": {},
   "source": [
    "## Step 7 - Build Centroid Connectors\n",
    "\n",
    "builds centroid connectors from TAZ, MAZ"
   ]
  },
  {
   "cell_type": "code",
   "execution_count": null,
   "id": "199c4e4a",
   "metadata": {},
   "outputs": [],
   "source": [
    "taz_polygon_file = os.path.join(\n",
    "    external_dir,\n",
    "    \"taz\",\n",
    "    \"SJ_TAZ_Aug2011.shp\"\n",
    ")"
   ]
  },
  {
   "cell_type": "code",
   "execution_count": null,
   "id": "576b43b6",
   "metadata": {},
   "outputs": [],
   "source": [
    "roadway_network.build_centroid_connectors(\n",
    "    build_taz_drive = True,\n",
    "    build_taz_active_modes = True,\n",
    "    input_taz_polygon_file = taz_polygon_file\n",
    ")"
   ]
  },
  {
   "cell_type": "markdown",
   "id": "19eee2ad",
   "metadata": {},
   "source": [
    "## Step 8 - Write out Standard Format"
   ]
  },
  {
   "cell_type": "code",
   "execution_count": null,
   "id": "69df9f6c",
   "metadata": {},
   "outputs": [],
   "source": [
    "roadway_network.standard_format(\n",
    "    county_boundary_file = os.path.join(external_dir,\n",
    "        \"sharedstreets_extract\", \n",
    "        \"merced.shp\"),\n",
    "    county_variable_name = 'NAME'\n",
    ")"
   ]
  },
  {
   "cell_type": "code",
   "execution_count": null,
   "id": "6fd686ac",
   "metadata": {},
   "outputs": [],
   "source": [
    "RanchLogger.info(\"write out shape geojson\")\n",
    "\n",
    "shape_prop = ['id', 'fromIntersectionId', 'toIntersectionId', 'forwardReferenceId', 'backReferenceId']\n",
    "shape_geojson = link_df_to_geojson(\n",
    "    roadway_network.shapes_df, \n",
    "    shape_prop\n",
    ")\n",
    "\n",
    "with open(os.path.join(interim_dir,\"step8_shapes.geojson\"), \"w\") as f:\n",
    "    json.dump(shape_geojson, f)\n",
    "\n",
    "RanchLogger.info(\"write out node geojson\")\n",
    "\n",
    "node_prop = roadway_network.nodes_df.drop('geometry', axis = 1).columns.tolist()\n",
    "node_geojson = point_df_to_geojson(\n",
    "    roadway_network.nodes_df, \n",
    "    node_prop\n",
    ")\n",
    "\n",
    "with open(os.path.join(interim_dir,\"step8_nodes.geojson\"), \"w\") as f:\n",
    "    json.dump(node_geojson, f)\n",
    "\n",
    "RanchLogger.info(\"write out link json\")\n",
    "\n",
    "link_prop = roadway_network.links_df.drop(\n",
    "    ['geometry'], \n",
    "    axis = 1\n",
    ").columns.tolist()\n",
    "\n",
    "out = roadway_network.links_df[link_prop].to_json(orient = \"records\")\n",
    "\n",
    "with open(os.path.join(interim_dir,\"step8_links.json\"), 'w') as f:\n",
    "    f.write(out)\n",
    "    \n",
    "# the standard format for links are links.json, without the geometry\n",
    "# here writing out links in links.geojson in case the user wants to visualize links\n",
    "\n",
    "RanchLogger.info(\"write out link geojson\")\n",
    "\n",
    "link_prop = roadway_network.links_df.drop('geometry', axis = 1).columns.tolist()\n",
    "link_geojson = link_df_to_geojson(\n",
    "    roadway_network.links_df, \n",
    "    link_prop\n",
    ")\n",
    "\n",
    "with open(os.path.join(interim_dir,\"step8_links.geojson\"), \"w\") as f:\n",
    "    json.dump(link_geojson, f)"
   ]
  },
  {
   "cell_type": "code",
   "execution_count": null,
   "id": "962f3002",
   "metadata": {},
   "outputs": [],
   "source": []
  }
 ],
 "metadata": {
  "kernelspec": {
   "display_name": "nwr",
   "language": "python",
   "name": "python3"
  },
  "language_info": {
   "codemirror_mode": {
    "name": "ipython",
    "version": 3
   },
   "file_extension": ".py",
   "mimetype": "text/x-python",
   "name": "python",
   "nbconvert_exporter": "python",
   "pygments_lexer": "ipython3",
   "version": "3.10.14"
  }
 },
 "nbformat": 4,
 "nbformat_minor": 5
}
