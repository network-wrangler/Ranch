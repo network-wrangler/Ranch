{
 "cells": [
  {
   "cell_type": "markdown",
   "id": "6d048e07",
   "metadata": {},
   "source": [
    "# Ranch Demo Notebook\n",
    "\n",
    "This notebook has examples of how to make Ranch calls to run through the complete network building pipeline to develop standard roadway and transit network from scratch"
   ]
  },
  {
   "cell_type": "code",
   "execution_count": 1,
   "id": "bd1ade00",
   "metadata": {},
   "outputs": [],
   "source": [
    "import os\n",
    "import pickle\n",
    "import pandas as pd\n",
    "import geopandas as gpd\n",
    "from pyproj import CRS\n",
    "import json\n",
    "import sys\n",
    "\n",
    "import ranch\n",
    "from ranch import sharedstreets\n",
    "from ranch import Roadway\n",
    "from ranch import Transit\n",
    "from ranch import Parameters\n",
    "from ranch.utils import link_df_to_geojson, point_df_to_geojson\n",
    "from ranch.logger import RanchLogger"
   ]
  },
  {
   "cell_type": "code",
   "execution_count": 2,
   "id": "80734105",
   "metadata": {},
   "outputs": [],
   "source": [
    "%load_ext autoreload\n",
    "%autoreload 2"
   ]
  },
  {
   "cell_type": "markdown",
   "id": "aa41768f",
   "metadata": {},
   "source": [
    "# Remote I/O\n",
    "\n",
    "User to update, does not necessarily be the ranch directory"
   ]
  },
  {
   "cell_type": "code",
   "execution_count": 3,
   "id": "3040e272",
   "metadata": {},
   "outputs": [],
   "source": [
    "# project directory\n",
    "root_dir = os.path.join(\"D:/sanjoaquin\")\n",
    "\n",
    "external_dir = os.path.join(root_dir, \"data\", \"external\")\n",
    "interim_dir = os.path.join(root_dir, \"data\", \"interim\")\n",
    "\n",
    "# software directory\n",
    "ranch_dir = os.path.join(\"D:/github/Ranch\")"
   ]
  },
  {
   "cell_type": "code",
   "execution_count": 4,
   "id": "d3ff9b2b",
   "metadata": {},
   "outputs": [
    {
     "name": "stdout",
     "output_type": "stream",
     "text": [
      "2022-01-04 23:06:15, INFO: Lasso base directory set as: D:/github/Ranch\n"
     ]
    }
   ],
   "source": [
    "parameters = Parameters(ranch_base_dir = ranch_dir)"
   ]
  },
  {
   "cell_type": "markdown",
   "id": "5eaca007",
   "metadata": {},
   "source": [
    "## Step 1 - SharedStreets Extraction\n",
    "\n",
    "Extracts sharedstreets representation of OSM links.\n",
    "The input for this step is the polygon boundary file for the area.\n",
    "The output for this step is geojson files from SharedStreets API."
   ]
  },
  {
   "cell_type": "code",
   "execution_count": 6,
   "id": "30151033",
   "metadata": {},
   "outputs": [],
   "source": [
    "# the polygon file for the area\n",
    "\n",
    "input_polygon_file = os.path.join(\n",
    "    external_dir,\n",
    "    \"sharedstreets_extract\", \n",
    "    \"sanjoaquin.shp\"\n",
    ")"
   ]
  },
  {
   "cell_type": "code",
   "execution_count": 7,
   "id": "15f28917",
   "metadata": {},
   "outputs": [],
   "source": [
    "# the folder where SharedStreets extractions live\n",
    "\n",
    "shst_extract_dir = os.path.join(external_dir, \"sharedstreets_extract\")"
   ]
  },
  {
   "cell_type": "code",
   "execution_count": 8,
   "id": "7c4d7ed6",
   "metadata": {},
   "outputs": [
    {
     "name": "stdout",
     "output_type": "stream",
     "text": [
      "2022-01-04 15:43:38, INFO: Exporting boundry file D:/sanjoaquin\\data\\external\\sharedstreets_extract\\boundary.0.geojson\n",
      "2022-01-04 15:43:38, INFO: extracting for polygon 0\n"
     ]
    }
   ],
   "source": [
    "# the SharedStreets extraction file is saved to the 'output_dir' argument\n",
    "\n",
    "ranch.run_shst_extraction(\n",
    "    input_polygon_file = input_polygon_file,\n",
    "    output_dir = shst_extract_dir\n",
    ")"
   ]
  },
  {
   "cell_type": "markdown",
   "id": "378ed645",
   "metadata": {},
   "source": [
    "## Step 2 - OSMNX Extraction\n",
    "\n",
    "Extracts complete OSM attributes using OSMNX.\n",
    "The input for this step is the polygon boundary file for the area.\n",
    "The output for this step is geojson files from OSMNX."
   ]
  },
  {
   "cell_type": "code",
   "execution_count": 8,
   "id": "abeb9089",
   "metadata": {},
   "outputs": [],
   "source": [
    "# the folder where OSMNX extractions live\n",
    "\n",
    "osm_extract_dir = os.path.join(external_dir, \"osmnx_extract\")"
   ]
  },
  {
   "cell_type": "code",
   "execution_count": 10,
   "id": "8a73ee08",
   "metadata": {},
   "outputs": [],
   "source": [
    "# the OSMNX extraction file is saved to the 'output_dir' argument\n",
    "\n",
    "ranch.run_osmnx_extraction(\n",
    "    input_polygon_file = input_polygon_file,\n",
    "    output_dir = os.path.join(external_dir, \"osmnx_extract\")\n",
    ")"
   ]
  },
  {
   "cell_type": "markdown",
   "id": "f0245af7",
   "metadata": {},
   "source": [
    "## Step 3 - Consolidate SharedStreets and OSMNX extractions\n",
    "\n",
    "consolidates raw roadway data and create initial roadway networks"
   ]
  },
  {
   "cell_type": "code",
   "execution_count": 9,
   "id": "78f1101c",
   "metadata": {
    "scrolled": true
   },
   "outputs": [
    {
     "name": "stdout",
     "output_type": "stream",
     "text": [
      "2022-01-04 23:06:48, INFO: Reading sharedstreets data\n",
      "2022-01-04 23:06:48, INFO: ----------start reading shst extraction data-------------\n",
      "2022-01-04 23:06:48, INFO: reading shst extraction data : D:/sanjoaquin\\data\\external\\sharedstreets_extract\\extract.boundary.0.out.geojson\n",
      "2022-01-04 23:07:08, INFO: ----------finished reading shst extraction data-------------\n",
      "2022-01-04 23:07:08, INFO: Removing duplicates in shst extraction data\n",
      "2022-01-04 23:07:08, INFO: ...before removing duplicates, shst extraction has 99961 geometries.\n",
      "2022-01-04 23:07:08, INFO: ...after removing duplicates, shst extraction has 99961 geometries.\n",
      "2022-01-04 23:07:08, INFO: Reading osmnx data\n",
      "2022-01-04 23:08:44, INFO: Extracting corresponding osm ways for every shst geometry\n",
      "2022-01-04 23:10:36, INFO: shst extraction has 99961 geometries\n",
      "2022-01-04 23:10:36, INFO: shst extraction has 107067 osm links\n",
      "2022-01-04 23:10:36, INFO: ---joining osm shst with osmnx data---\n",
      "2022-01-04 23:10:36, INFO: shst extraction has 97984 two-way osm links\n",
      "2022-01-04 23:10:36, INFO: and they are 92308 geometrys\n",
      "2022-01-04 23:10:37, INFO: after join, ther are 205051 osm links from shst extraction,     out of which there are 84930 links that do not have osm info,     due to shst extraction (default tile 181224) contains 19104 osm ids that are not included in latest OSM extraction,     e.g. private streets, closed streets.\n",
      "2022-01-04 23:10:39, INFO: after join, there are 192269 shst referencies\n",
      "2022-01-04 23:10:39, INFO: numeric columns: ['wayId', 'u', 'v', 'osmid', 'key', 'reverse_out']\n",
      "2022-01-04 23:10:39, INFO: str columns: \n",
      "2022-01-04 23:10:39, INFO: Start aggregating osm segments to one shst link for forward links\n",
      "2022-01-04 23:11:09, INFO: Start aggregating osm segments to one shst link for backward links\n",
      "2022-01-04 23:11:37, INFO: all\n",
      "2022-01-04 23:11:45, INFO: Start creating shst nodes\n",
      "2022-01-04 23:12:13, INFO: Lasso base directory set as: D:/github/Ranch\n"
     ]
    }
   ],
   "source": [
    "# build and returns roaday network object from extraction files\n",
    "\n",
    "roadway_network = Roadway.create_roadway_network_from_extracts(\n",
    "    shst_extract_dir = shst_extract_dir,\n",
    "    osm_extract_dir = osm_extract_dir,\n",
    "    parameters = parameters,\n",
    ")"
   ]
  },
  {
   "cell_type": "code",
   "execution_count": 10,
   "id": "74cb6dea",
   "metadata": {},
   "outputs": [
    {
     "name": "stdout",
     "output_type": "stream",
     "text": [
      "2022-01-04 23:12:46, INFO: Initial network has 192247 links\n",
      "2022-01-04 23:12:46, INFO: Initial network has 73049 nodes\n",
      "2022-01-04 23:12:46, INFO: Initial network has 99961 shapes\n"
     ]
    }
   ],
   "source": [
    "RanchLogger.info(\"Initial network has {} links\".format(roadway_network.links_df.shape[0]))\n",
    "RanchLogger.info(\"Initial network has {} nodes\".format(roadway_network.nodes_df.shape[0]))\n",
    "RanchLogger.info(\"Initial network has {} shapes\".format(roadway_network.shapes_df.shape[0]))"
   ]
  },
  {
   "cell_type": "markdown",
   "id": "8915d605",
   "metadata": {},
   "source": [
    "### Optional: If the user wants to write out the roadway network in standard format, they can do the following, otherwise no need to write out"
   ]
  },
  {
   "cell_type": "code",
   "execution_count": 11,
   "id": "e9eb5e26",
   "metadata": {},
   "outputs": [
    {
     "name": "stdout",
     "output_type": "stream",
     "text": [
      "2022-01-04 23:12:51, INFO: write out shape geojson\n",
      "2022-01-04 23:13:09, INFO: write out node geojson\n",
      "2022-01-04 23:13:21, INFO: write out link json\n",
      "2022-01-04 23:13:25, INFO: write out link geojson\n"
     ]
    }
   ],
   "source": [
    "RanchLogger.info(\"write out shape geojson\")\n",
    "\n",
    "shape_prop = ['id', 'fromIntersectionId', 'toIntersectionId', 'forwardReferenceId', 'backReferenceId']\n",
    "shape_geojson = link_df_to_geojson(\n",
    "    roadway_network.shapes_df, \n",
    "    shape_prop\n",
    ")\n",
    "\n",
    "with open(os.path.join(interim_dir,\"step3_shapes.geojson\"), \"w\") as f:\n",
    "    json.dump(shape_geojson, f)\n",
    "\n",
    "RanchLogger.info(\"write out node geojson\")\n",
    "\n",
    "node_prop = roadway_network.nodes_df.drop('geometry', axis = 1).columns.tolist()\n",
    "node_geojson = point_df_to_geojson(\n",
    "    roadway_network.nodes_df, \n",
    "    node_prop\n",
    ")\n",
    "\n",
    "with open(os.path.join(interim_dir,\"step3_nodes.geojson\"), \"w\") as f:\n",
    "    json.dump(node_geojson, f)\n",
    "\n",
    "RanchLogger.info(\"write out link json\")\n",
    "\n",
    "link_prop = roadway_network.links_df.drop(\n",
    "    ['geometry'], \n",
    "    axis = 1\n",
    ").columns.tolist()\n",
    "\n",
    "out = roadway_network.links_df[link_prop].to_json(orient = \"records\")\n",
    "\n",
    "with open(os.path.join(interim_dir,\"step3_links.json\"), 'w') as f:\n",
    "    f.write(out)\n",
    "    \n",
    "# the standard format for links are links.json, without the geometry\n",
    "# here writing out links in links.geojson in case the user wants to visualize links\n",
    "\n",
    "RanchLogger.info(\"write out link geojson\")\n",
    "\n",
    "link_prop = roadway_network.links_df.drop('geometry', axis = 1).columns.tolist()\n",
    "link_geojson = link_df_to_geojson(\n",
    "    roadway_network.links_df, \n",
    "    link_prop\n",
    ")\n",
    "\n",
    "with open(os.path.join(interim_dir,\"step3_links.geojson\"), \"w\") as f:\n",
    "    json.dump(link_geojson, f)"
   ]
  },
  {
   "cell_type": "markdown",
   "id": "89adea6f",
   "metadata": {},
   "source": [
    "### Optional: it's more efficient if the user writes out the intermediate network object in pickle"
   ]
  },
  {
   "cell_type": "code",
   "execution_count": 12,
   "id": "6b873fec",
   "metadata": {},
   "outputs": [],
   "source": [
    "working_network_filename = os.path.join(interim_dir,\"step3_network.pickle\")\n",
    "pickle.dump(roadway_network, open(working_network_filename, 'wb'))"
   ]
  },
  {
   "cell_type": "markdown",
   "id": "dcebc71d",
   "metadata": {},
   "source": [
    "## Step 4 - Third-Party Roadway Data Conflation\n",
    "\n",
    "Conflates e.g. county network with roadway network using SharedStreets.\n",
    "The input for this step is the 3rd-party geodatabases to conflate.\n",
    "The output of this step is the SharedStreets conflation outputs in geojson."
   ]
  },
  {
   "cell_type": "code",
   "execution_count": 17,
   "id": "a049a775",
   "metadata": {},
   "outputs": [],
   "source": [
    "# define the input 3rd-party file, either shapefile or geojson\n",
    "\n",
    "input_network_file = os.path.join(external_dir, \"sjmodel\", \"Network\", \"2015\",\"TCM_MASTER_2A22_102717.shp\")"
   ]
  },
  {
   "cell_type": "code",
   "execution_count": 18,
   "id": "fd76d1f0",
   "metadata": {},
   "outputs": [],
   "source": [
    "# if the CRS is undefined in the input network file, user needs to specify:\n",
    "\n",
    "input_crs = CRS(\"ESRI:102643\")"
   ]
  },
  {
   "cell_type": "code",
   "execution_count": 19,
   "id": "bf684c3e",
   "metadata": {},
   "outputs": [
    {
     "name": "stdout",
     "output_type": "stream",
     "text": [
      "2022-01-04 16:18:56, INFO: input network D:/sanjoaquin\\data\\external\\sjmodel\\Network\\2015\\TCM_MASTER_2A22_102717.shp has crs : None\n",
      "2022-01-04 16:18:58, INFO: Input network for shst match does not have unique IDs, generating unique IDs\n",
      "2022-01-04 16:18:58, INFO: Generated 49910 unique IDs for 49910 links in the input network\n",
      "2022-01-04 16:18:58, INFO: Exporting shst match input - ID-ed geometry file D:/sanjoaquin\\data\\external\\sjmodel\\shst_match\\TCM_MASTER_2A22_102717.geojson\n",
      "2022-01-04 16:19:02, INFO: Exporting ID-ed network file D:/sanjoaquin\\data\\external\\sjmodel\\shst_match\\TCM_MASTER_2A22_102717.full.geojson\n"
     ]
    }
   ],
   "source": [
    "# the output is saved to the 'output_dir' argument\n",
    "# user can specify the match option (reference here) \n",
    "# by 'custom_match_option'\n",
    "# if not specified, use the default\n",
    "# match option would vary by the input network\n",
    "\n",
    "ranch.run_shst_match(\n",
    "    input_network_file = input_network_file,\n",
    "    input_crs = input_crs,\n",
    "    output_dir = os.path.join(external_dir, \"sjmodel\", \"shst_match\"),\n",
    "    custom_match_option = '--tile-hierarchy=8 --search-radius=50 --snap-intersections'\n",
    ")"
   ]
  },
  {
   "cell_type": "markdown",
   "id": "6ca53ccc",
   "metadata": {},
   "source": [
    "## Step 5 - Tidy Up Roadway\n",
    "\n",
    "Identifies drive dead-ends, cul-de-secs, numbering links and nodes, etc.\n",
    "The input for this step is the polygon file with subregion identifier, e.g. county.\n",
    "This step labels each link and node with the county name, and assign model IDs for links and nodes."
   ]
  },
  {
   "cell_type": "code",
   "execution_count": 13,
   "id": "18ed12c0",
   "metadata": {},
   "outputs": [],
   "source": [
    "# this is the input county polygon file with county names\n",
    "\n",
    "county_boundary_file = os.path.join(\n",
    "    external_dir,\n",
    "    \"cb_2018_us_county_500k\", \n",
    "    \"san_joaquin.shp\"\n",
    ")\n",
    "\n",
    "# specify the column to look for county name\n",
    "\n",
    "county_variable_name = 'NAME'"
   ]
  },
  {
   "cell_type": "code",
   "execution_count": 14,
   "id": "ff3771c7",
   "metadata": {},
   "outputs": [
    {
     "name": "stdout",
     "output_type": "stream",
     "text": [
      "2022-01-04 23:15:22, INFO: Starting Step 5 Tidy Roadway\n",
      "2022-01-04 23:15:22, INFO: Joining network with county boundary file for ['San Joaquin'] county\n",
      "2022-01-04 23:16:01, INFO: Dropping links and nodes that are outside of ['San Joaquin'] county\n",
      "2022-01-04 23:16:03, INFO: Droppping circular links\n",
      "2022-01-04 23:16:03, INFO: Flagging dead-end streets for drive network\n",
      "2022-01-04 23:16:04, INFO: Making dead-end streets drive_access = 0\n",
      "2022-01-04 23:16:09, INFO: Dropping alternative links between same AB nodes\n"
     ]
    }
   ],
   "source": [
    "roadway_network.tidy_roadway(\n",
    "    county_boundary_file = county_boundary_file,\n",
    "    county_variable_name = county_variable_name,\n",
    "    create_node_link_id = False\n",
    ")"
   ]
  },
  {
   "cell_type": "markdown",
   "id": "d995a111",
   "metadata": {},
   "source": [
    "## Step 6 - Build Transit Network from GTFS\n",
    "\n",
    "Build standard transit network from GTFS"
   ]
  },
  {
   "cell_type": "code",
   "execution_count": 15,
   "id": "207ad51d",
   "metadata": {},
   "outputs": [],
   "source": [
    "# the directory where all gtfs feeds are located\n",
    "# e.g. gtfs_dir/sjrtd_2015_0127/routes.txt\n",
    "# e.g. gtfs_dir/bart_2015_0127/routes.txt\n",
    "\n",
    "gtfs_dir = os.path.join(external_dir, \"gtfs\", \"2015\")"
   ]
  },
  {
   "cell_type": "code",
   "execution_count": 16,
   "id": "df767369",
   "metadata": {},
   "outputs": [
    {
     "name": "stdout",
     "output_type": "stream",
     "text": [
      "2022-01-04 23:17:24, INFO: Excluding weekend-only services\n",
      "2022-01-04 23:17:24, INFO: Read and get representative transit feed from: D:/sanjoaquin\\data\\external\\gtfs\\2015\\sjrtd_2015_0127\n",
      "2022-01-04 23:17:24, INFO: Lasso base directory set as: D:/github/Ranch\n"
     ]
    }
   ],
   "source": [
    "# read gtfs into transit object\n",
    "\n",
    "transit_network = Transit.load_all_gtfs_feeds(\n",
    "    gtfs_dir = gtfs_dir,\n",
    "    roadway_network= roadway_network,\n",
    "    parameters=parameters\n",
    ")"
   ]
  },
  {
   "cell_type": "code",
   "execution_count": 18,
   "id": "45fbdfb7",
   "metadata": {
    "scrolled": true
   },
   "outputs": [
    {
     "name": "stdout",
     "output_type": "stream",
     "text": [
      "2022-01-04 23:17:47, INFO: Getting representative trip for each route by time of day and direction...\n",
      "2022-01-04 23:17:48, INFO: Snapping gtfs stops to roadway node...\n",
      "2022-01-04 23:17:55, INFO: Route bus trips using shortest path\n",
      "2022-01-04 23:17:55, INFO: Routing bus on roadway network from start to end with osmnx...\n",
      "2022-01-04 23:17:55, INFO: Setting good link dictionary\n",
      "2022-01-04 23:18:08, INFO: \tRouting agency sjrtd_2015_0127, trip 202920\n",
      "2022-01-04 23:18:24, INFO: \tRouting agency sjrtd_2015_0127, trip 202370\n",
      "2022-01-04 23:18:39, INFO: \tRouting agency sjrtd_2015_0127, trip 202358\n",
      "2022-01-04 23:18:56, INFO: \tRouting agency sjrtd_2015_0127, trip 202906\n",
      "2022-01-04 23:19:11, INFO: \tRouting agency sjrtd_2015_0127, trip 202923\n",
      "2022-01-04 23:19:28, INFO: \tRouting agency sjrtd_2015_0127, trip 202427\n",
      "2022-01-04 23:19:43, INFO: \tRouting agency sjrtd_2015_0127, trip 202954\n",
      "2022-01-04 23:20:00, INFO: \tRouting agency sjrtd_2015_0127, trip 201399\n",
      "2022-01-04 23:20:14, INFO: \tRouting agency sjrtd_2015_0127, trip 202938\n",
      "2022-01-04 23:20:31, INFO: \tRouting agency sjrtd_2015_0127, trip 202237\n",
      "2022-01-04 23:20:46, INFO: \tRouting agency sjrtd_2015_0127, trip 202259\n",
      "2022-01-04 23:21:03, INFO: \tRouting agency sjrtd_2015_0127, trip 201546\n",
      "2022-01-04 23:21:18, INFO: \tRouting agency sjrtd_2015_0127, trip 202886\n",
      "2022-01-04 23:21:35, INFO: \tRouting agency sjrtd_2015_0127, trip 202354\n",
      "2022-01-04 23:21:50, INFO: \tRouting agency sjrtd_2015_0127, trip 202891\n",
      "2022-01-04 23:22:07, INFO: \tRouting agency sjrtd_2015_0127, trip 201403\n",
      "2022-01-04 23:22:22, INFO: \tRouting agency sjrtd_2015_0127, trip 202369\n",
      "2022-01-04 23:22:39, INFO: \tRouting agency sjrtd_2015_0127, trip 201578\n",
      "2022-01-04 23:22:54, INFO: \tRouting agency sjrtd_2015_0127, trip 202357\n",
      "2022-01-04 23:23:11, INFO: \tRouting agency sjrtd_2015_0127, trip 201420\n",
      "2022-01-04 23:23:26, INFO: \tRouting agency sjrtd_2015_0127, trip 201549\n",
      "2022-01-04 23:23:43, INFO: \tRouting agency sjrtd_2015_0127, trip 201547\n",
      "2022-01-04 23:23:58, INFO: \tRouting agency sjrtd_2015_0127, trip 201526\n",
      "2022-01-04 23:24:15, INFO: \tRouting agency sjrtd_2015_0127, trip 201529\n",
      "2022-01-04 23:24:30, INFO: \tRouting agency sjrtd_2015_0127, trip 201424\n",
      "2022-01-04 23:24:46, INFO: \tRouting agency sjrtd_2015_0127, trip 201385\n",
      "2022-01-04 23:25:01, INFO: \tRouting agency sjrtd_2015_0127, trip 201581\n",
      "2022-01-04 23:25:16, INFO: \tRouting agency sjrtd_2015_0127, trip 202843\n",
      "2022-01-04 23:25:33, INFO: \tRouting agency sjrtd_2015_0127, trip 202331\n",
      "2022-01-04 23:25:48, INFO: \tRouting agency sjrtd_2015_0127, trip 202410\n",
      "2022-01-04 23:26:05, INFO: \tRouting agency sjrtd_2015_0127, trip 202840\n",
      "2022-01-04 23:26:20, INFO: \tRouting agency sjrtd_2015_0127, trip 202957\n",
      "2022-01-04 23:26:37, INFO: \tRouting agency sjrtd_2015_0127, trip 201544\n",
      "2022-01-04 23:26:51, INFO: \tRouting agency sjrtd_2015_0127, trip 201449\n",
      "2022-01-04 23:27:08, INFO: \tRouting agency sjrtd_2015_0127, trip 201439\n",
      "2022-01-04 23:27:23, INFO: \tRouting agency sjrtd_2015_0127, trip 201437\n",
      "2022-01-04 23:27:40, INFO: \tRouting agency sjrtd_2015_0127, trip 201550\n",
      "2022-01-04 23:27:54, INFO: \tRouting agency sjrtd_2015_0127, trip 202291\n",
      "2022-01-04 23:28:11, INFO: \tRouting agency sjrtd_2015_0127, trip 202665\n",
      "2022-01-04 23:28:26, INFO: \tRouting agency sjrtd_2015_0127, trip 202789\n",
      "2022-01-04 23:28:43, INFO: \tRouting agency sjrtd_2015_0127, trip 202372\n",
      "2022-01-04 23:28:57, INFO: \tRouting agency sjrtd_2015_0127, trip 201580\n",
      "2022-01-04 23:29:14, INFO: \tRouting agency sjrtd_2015_0127, trip 202220\n",
      "2022-01-04 23:29:29, INFO: \tRouting agency sjrtd_2015_0127, trip 202433\n",
      "2022-01-04 23:29:46, INFO: \tRouting agency sjrtd_2015_0127, trip 202892\n",
      "2022-01-04 23:30:01, INFO: \tRouting agency sjrtd_2015_0127, trip 202452\n",
      "2022-01-04 23:30:19, INFO: \tRouting agency sjrtd_2015_0127, trip 202794\n",
      "2022-01-04 23:30:33, INFO: \tRouting agency sjrtd_2015_0127, trip 202851\n",
      "2022-01-04 23:30:51, INFO: \tRouting agency sjrtd_2015_0127, trip 202389\n",
      "2022-01-04 23:31:06, INFO: \tRouting agency sjrtd_2015_0127, trip 202810\n",
      "2022-01-04 23:31:23, INFO: \tRouting agency sjrtd_2015_0127, trip 202805\n",
      "2022-01-04 23:31:38, INFO: \tRouting agency sjrtd_2015_0127, trip 202343\n",
      "2022-01-04 23:31:55, INFO: \tRouting agency sjrtd_2015_0127, trip 201554\n",
      "2022-01-04 23:32:10, INFO: \tRouting agency sjrtd_2015_0127, trip 201470\n",
      "2022-01-04 23:32:27, INFO: \tRouting agency sjrtd_2015_0127, trip 202337\n",
      "2022-01-04 23:32:42, INFO: \tRouting agency sjrtd_2015_0127, trip 202461\n",
      "2022-01-04 23:32:56, INFO: \tRouting agency sjrtd_2015_0127, trip 201552\n",
      "2022-01-04 23:33:13, INFO: \tRouting agency sjrtd_2015_0127, trip 202841\n",
      "2022-01-04 23:33:28, INFO: \tRouting agency sjrtd_2015_0127, trip 202686\n",
      "2022-01-04 23:33:45, INFO: \tRouting agency sjrtd_2015_0127, trip 201569\n",
      "2022-01-04 23:34:00, INFO: \tRouting agency sjrtd_2015_0127, trip 202848\n",
      "2022-01-04 23:34:17, INFO: \tRouting agency sjrtd_2015_0127, trip 202398\n",
      "2022-01-04 23:34:31, INFO: \tRouting agency sjrtd_2015_0127, trip 202258\n",
      "2022-01-04 23:34:48, INFO: \tRouting agency sjrtd_2015_0127, trip 202845\n",
      "2022-01-04 23:35:03, INFO: \tRouting agency sjrtd_2015_0127, trip 202405\n",
      "2022-01-04 23:35:20, INFO: \tRouting agency sjrtd_2015_0127, trip 201573\n",
      "2022-01-04 23:35:35, INFO: \tRouting agency sjrtd_2015_0127, trip 202800\n",
      "2022-01-04 23:35:52, INFO: \tRouting agency sjrtd_2015_0127, trip 202826\n",
      "2022-01-04 23:36:07, INFO: \tRouting agency sjrtd_2015_0127, trip 202854\n",
      "2022-01-04 23:36:25, INFO: \tRouting agency sjrtd_2015_0127, trip 202697\n",
      "2022-01-04 23:36:40, INFO: \tRouting agency sjrtd_2015_0127, trip 201490\n",
      "2022-01-04 23:36:57, INFO: \tRouting agency sjrtd_2015_0127, trip 202821\n",
      "2022-01-04 23:37:12, INFO: \tRouting agency sjrtd_2015_0127, trip 202829\n",
      "2022-01-04 23:37:29, INFO: \tRouting agency sjrtd_2015_0127, trip 202285\n",
      "2022-01-04 23:37:44, INFO: \tRouting agency sjrtd_2015_0127, trip 201574\n",
      "2022-01-04 23:38:01, INFO: \tRouting agency sjrtd_2015_0127, trip 202811\n",
      "2022-01-04 23:38:16, INFO: \tRouting agency sjrtd_2015_0127, trip 202807\n",
      "2022-01-04 23:38:33, INFO: \tRouting agency sjrtd_2015_0127, trip 202813\n",
      "2022-01-04 23:38:48, INFO: \tRouting agency sjrtd_2015_0127, trip 202819\n",
      "2022-01-04 23:39:05, INFO: \tRouting agency sjrtd_2015_0127, trip 202668\n",
      "2022-01-04 23:39:20, INFO: \tRouting agency sjrtd_2015_0127, trip 201558\n",
      "2022-01-04 23:39:37, INFO: \tRouting agency sjrtd_2015_0127, trip 201543\n",
      "2022-01-04 23:39:52, INFO: \tRouting agency sjrtd_2015_0127, trip 202690\n",
      "2022-01-04 23:40:09, INFO: \tRouting agency sjrtd_2015_0127, trip 202254\n",
      "2022-01-04 23:40:23, INFO: \tRouting agency sjrtd_2015_0127, trip 201576\n",
      "2022-01-04 23:40:40, INFO: \tRouting agency sjrtd_2015_0127, trip 201485\n",
      "2022-01-04 23:40:55, INFO: \tRouting agency sjrtd_2015_0127, trip 202767\n",
      "2022-01-04 23:41:12, INFO: \tRouting agency sjrtd_2015_0127, trip 201844\n",
      "2022-01-04 23:41:26, INFO: \tRouting agency sjrtd_2015_0127, trip 201553\n",
      "2022-01-04 23:41:43, INFO: \tRouting agency sjrtd_2015_0127, trip 202862\n",
      "2022-01-04 23:41:59, INFO: \tRouting agency sjrtd_2015_0127, trip 202838\n",
      "2022-01-04 23:42:16, INFO: \tRouting agency sjrtd_2015_0127, trip 202681\n",
      "2022-01-04 23:42:30, INFO: \tRouting agency sjrtd_2015_0127, trip 202860\n",
      "2022-01-04 23:42:48, INFO: \tRouting agency sjrtd_2015_0127, trip 202072\n",
      "2022-01-04 23:43:03, INFO: \tRouting agency sjrtd_2015_0127, trip 202856\n",
      "2022-01-04 23:43:20, INFO: \tRouting agency sjrtd_2015_0127, trip 202859\n",
      "2022-01-04 23:43:35, INFO: \tRouting agency sjrtd_2015_0127, trip 201465\n",
      "2022-01-04 23:43:52, INFO: \tRouting agency sjrtd_2015_0127, trip 202302\n",
      "2022-01-04 23:44:07, INFO: \tRouting agency sjrtd_2015_0127, trip 202271\n",
      "2022-01-04 23:44:22, INFO: \tRouting agency sjrtd_2015_0127, trip 202317\n",
      "2022-01-04 23:44:39, INFO: \tRouting agency sjrtd_2015_0127, trip 201536\n",
      "2022-01-04 23:44:53, INFO: \tRouting agency sjrtd_2015_0127, trip 201891\n",
      "2022-01-04 23:45:10, INFO: \tRouting agency sjrtd_2015_0127, trip 201538\n",
      "2022-01-04 23:45:25, INFO: \tRouting agency sjrtd_2015_0127, trip 202779\n",
      "2022-01-04 23:45:42, INFO: \tRouting agency sjrtd_2015_0127, trip 202448\n",
      "2022-01-04 23:45:56, INFO: \tRouting agency sjrtd_2015_0127, trip 201542\n",
      "2022-01-04 23:46:13, INFO: \tRouting agency sjrtd_2015_0127, trip 202888\n",
      "2022-01-04 23:46:28, INFO: \tRouting agency sjrtd_2015_0127, trip 201541\n",
      "2022-01-04 23:46:45, INFO: \tRouting agency sjrtd_2015_0127, trip 202836\n"
     ]
    },
    {
     "name": "stdout",
     "output_type": "stream",
     "text": [
      "2022-01-04 23:47:00, INFO: \tRouting agency sjrtd_2015_0127, trip 201722\n",
      "2022-01-04 23:47:17, INFO: \tRouting agency sjrtd_2015_0127, trip 201582\n",
      "2022-01-04 23:47:31, INFO: \tRouting agency sjrtd_2015_0127, trip 201692\n",
      "2022-01-04 23:47:48, INFO: \tRouting agency sjrtd_2015_0127, trip 202831\n",
      "2022-01-04 23:48:04, INFO: \tRouting agency sjrtd_2015_0127, trip 202025\n",
      "2022-01-04 23:48:21, INFO: \tRouting agency sjrtd_2015_0127, trip 202839\n",
      "2022-01-04 23:48:35, INFO: \tRouting agency sjrtd_2015_0127, trip 202834\n",
      "2022-01-04 23:48:52, INFO: \tRouting agency sjrtd_2015_0127, trip 202828\n",
      "2022-01-04 23:49:07, INFO: \tRouting agency sjrtd_2015_0127, trip 202908\n",
      "2022-01-04 23:49:24, INFO: \tRouting agency sjrtd_2015_0127, trip 201572\n",
      "2022-01-04 23:49:38, INFO: \tRouting agency sjrtd_2015_0127, trip 202062\n",
      "2022-01-04 23:50:58, INFO: Routing bus on roadway network from stop to stop with osmnx...\n",
      "2022-01-04 23:51:13, INFO: \tRouting agency ['sjrtd_2015_0127'], trip ['202920'], between stops\n",
      "2022-01-04 23:51:30, INFO: \tRouting agency ['sjrtd_2015_0127'], trip ['202370'], between stops\n",
      "2022-01-04 23:51:45, INFO: \tRouting agency ['sjrtd_2015_0127'], trip ['202358'], between stops\n",
      "2022-01-04 23:52:02, INFO: \tRouting agency ['sjrtd_2015_0127'], trip ['202906'], between stops\n",
      "2022-01-04 23:52:16, INFO: \tRouting agency ['sjrtd_2015_0127'], trip ['202923'], between stops\n",
      "2022-01-04 23:52:33, INFO: \tRouting agency ['sjrtd_2015_0127'], trip ['202427'], between stops\n",
      "2022-01-04 23:52:48, INFO: \tRouting agency ['sjrtd_2015_0127'], trip ['202954'], between stops\n",
      "2022-01-04 23:53:05, INFO: \tRouting agency ['sjrtd_2015_0127'], trip ['201399'], between stops\n",
      "2022-01-04 23:53:20, INFO: \tRouting agency ['sjrtd_2015_0127'], trip ['202938'], between stops\n",
      "2022-01-04 23:53:37, INFO: \tRouting agency ['sjrtd_2015_0127'], trip ['202237'], between stops\n",
      "2022-01-04 23:53:52, INFO: \tRouting agency ['sjrtd_2015_0127'], trip ['202259'], between stops\n",
      "2022-01-04 23:54:09, INFO: \tRouting agency ['sjrtd_2015_0127'], trip ['201546'], between stops\n",
      "2022-01-04 23:54:24, INFO: \tRouting agency ['sjrtd_2015_0127'], trip ['202886'], between stops\n",
      "2022-01-04 23:54:39, INFO: \tRouting agency ['sjrtd_2015_0127'], trip ['202354'], between stops\n",
      "2022-01-04 23:54:56, INFO: \tRouting agency ['sjrtd_2015_0127'], trip ['202891'], between stops\n",
      "2022-01-04 23:55:11, INFO: \tRouting agency ['sjrtd_2015_0127'], trip ['201403'], between stops\n",
      "2022-01-04 23:55:28, INFO: \tRouting agency ['sjrtd_2015_0127'], trip ['202369'], between stops\n",
      "2022-01-04 23:55:43, INFO: \tRouting agency ['sjrtd_2015_0127'], trip ['201578'], between stops\n",
      "2022-01-04 23:56:00, INFO: \tRouting agency ['sjrtd_2015_0127'], trip ['202357'], between stops\n",
      "2022-01-04 23:56:15, INFO: \tRouting agency ['sjrtd_2015_0127'], trip ['201420'], between stops\n",
      "2022-01-04 23:56:32, INFO: \tRouting agency ['sjrtd_2015_0127'], trip ['201549'], between stops\n",
      "2022-01-04 23:56:46, INFO: \tRouting agency ['sjrtd_2015_0127'], trip ['201547'], between stops\n",
      "2022-01-04 23:57:03, INFO: \tRouting agency ['sjrtd_2015_0127'], trip ['201526'], between stops\n",
      "2022-01-04 23:57:19, INFO: \tRouting agency ['sjrtd_2015_0127'], trip ['201529'], between stops\n",
      "2022-01-04 23:57:36, INFO: \tRouting agency ['sjrtd_2015_0127'], trip ['201424'], between stops\n",
      "2022-01-04 23:57:50, INFO: \tRouting agency ['sjrtd_2015_0127'], trip ['201385'], between stops\n",
      "2022-01-04 23:58:06, INFO: \tRouting agency ['sjrtd_2015_0127'], trip ['201581'], between stops\n",
      "2022-01-04 23:58:20, INFO: \tRouting agency ['sjrtd_2015_0127'], trip ['202843'], between stops\n",
      "2022-01-04 23:58:36, INFO: \tRouting agency ['sjrtd_2015_0127'], trip ['202331'], between stops\n",
      "2022-01-04 23:58:50, INFO: \tRouting agency ['sjrtd_2015_0127'], trip ['202410'], between stops\n",
      "2022-01-04 23:59:05, INFO: \tRouting agency ['sjrtd_2015_0127'], trip ['202840'], between stops\n",
      "2022-01-04 23:59:19, INFO: \tRouting agency ['sjrtd_2015_0127'], trip ['202957'], between stops\n",
      "2022-01-04 23:59:36, INFO: \tRouting agency ['sjrtd_2015_0127'], trip ['201544'], between stops\n",
      "2022-01-04 23:59:49, INFO: \tRouting agency ['sjrtd_2015_0127'], trip ['201449'], between stops\n",
      "2022-01-05 00:00:06, INFO: \tRouting agency ['sjrtd_2015_0127'], trip ['201439'], between stops\n",
      "2022-01-05 00:00:20, INFO: \tRouting agency ['sjrtd_2015_0127'], trip ['201437'], between stops\n",
      "2022-01-05 00:00:36, INFO: \tRouting agency ['sjrtd_2015_0127'], trip ['201550'], between stops\n",
      "2022-01-05 00:00:50, INFO: \tRouting agency ['sjrtd_2015_0127'], trip ['202291'], between stops\n",
      "2022-01-05 00:01:06, INFO: \tRouting agency ['sjrtd_2015_0127'], trip ['202665'], between stops\n",
      "2022-01-05 00:01:20, INFO: \tRouting agency ['sjrtd_2015_0127'], trip ['202789'], between stops\n",
      "2022-01-05 00:01:34, INFO: \tRouting agency ['sjrtd_2015_0127'], trip ['202372'], between stops\n",
      "2022-01-05 00:01:52, INFO: \tRouting agency ['sjrtd_2015_0127'], trip ['201580'], between stops\n",
      "2022-01-05 00:02:06, INFO: \tRouting agency ['sjrtd_2015_0127'], trip ['202220'], between stops\n",
      "2022-01-05 00:02:22, INFO: \tRouting agency ['sjrtd_2015_0127'], trip ['202433'], between stops\n",
      "2022-01-05 00:02:37, INFO: \tRouting agency ['sjrtd_2015_0127'], trip ['202892'], between stops\n",
      "2022-01-05 00:02:53, INFO: \tRouting agency ['sjrtd_2015_0127'], trip ['202452'], between stops\n",
      "2022-01-05 00:03:08, INFO: \tRouting agency ['sjrtd_2015_0127'], trip ['202794'], between stops\n",
      "2022-01-05 00:03:25, INFO: \tRouting agency ['sjrtd_2015_0127'], trip ['202851'], between stops\n",
      "2022-01-05 00:03:40, INFO: \tRouting agency ['sjrtd_2015_0127'], trip ['202389'], between stops\n",
      "2022-01-05 00:03:57, INFO: \tRouting agency ['sjrtd_2015_0127'], trip ['202810'], between stops\n",
      "2022-01-05 00:04:13, INFO: \tRouting agency ['sjrtd_2015_0127'], trip ['202805'], between stops\n",
      "2022-01-05 00:04:30, INFO: \tRouting agency ['sjrtd_2015_0127'], trip ['202343'], between stops\n",
      "2022-01-05 00:04:45, INFO: \tRouting agency ['sjrtd_2015_0127'], trip ['201554'], between stops\n",
      "2022-01-05 00:05:02, INFO: \tRouting agency ['sjrtd_2015_0127'], trip ['201470'], between stops\n",
      "2022-01-05 00:05:17, INFO: \tRouting agency ['sjrtd_2015_0127'], trip ['202337'], between stops\n",
      "2022-01-05 00:05:34, INFO: \tRouting agency ['sjrtd_2015_0127'], trip ['202461'], between stops\n",
      "2022-01-05 00:05:49, INFO: \tRouting agency ['sjrtd_2015_0127'], trip ['201552'], between stops\n",
      "2022-01-05 00:06:07, INFO: \tRouting agency ['sjrtd_2015_0127'], trip ['202841'], between stops\n",
      "2022-01-05 00:06:22, INFO: \tRouting agency ['sjrtd_2015_0127'], trip ['202686'], between stops\n",
      "2022-01-05 00:06:39, INFO: \tRouting agency ['sjrtd_2015_0127'], trip ['201569'], between stops\n",
      "2022-01-05 00:06:54, INFO: \tRouting agency ['sjrtd_2015_0127'], trip ['202848'], between stops\n",
      "2022-01-05 00:07:12, INFO: \tRouting agency ['sjrtd_2015_0127'], trip ['202398'], between stops\n",
      "2022-01-05 00:07:27, INFO: \tRouting agency ['sjrtd_2015_0127'], trip ['202258'], between stops\n",
      "2022-01-05 00:07:44, INFO: \tRouting agency ['sjrtd_2015_0127'], trip ['202845'], between stops\n",
      "2022-01-05 00:08:00, INFO: \tRouting agency ['sjrtd_2015_0127'], trip ['202405'], between stops\n",
      "2022-01-05 00:08:15, INFO: \tRouting agency ['sjrtd_2015_0127'], trip ['201573'], between stops\n",
      "2022-01-05 00:08:32, INFO: \tRouting agency ['sjrtd_2015_0127'], trip ['202800'], between stops\n",
      "2022-01-05 00:08:46, INFO: \tRouting agency ['sjrtd_2015_0127'], trip ['202826'], between stops\n",
      "2022-01-05 00:09:03, INFO: \tRouting agency ['sjrtd_2015_0127'], trip ['202854'], between stops\n",
      "2022-01-05 00:09:19, INFO: \tRouting agency ['sjrtd_2015_0127'], trip ['202697'], between stops\n",
      "2022-01-05 00:09:36, INFO: \tRouting agency ['sjrtd_2015_0127'], trip ['201490'], between stops\n",
      "2022-01-05 00:09:51, INFO: \tRouting agency ['sjrtd_2015_0127'], trip ['202821'], between stops\n",
      "2022-01-05 00:10:08, INFO: \tRouting agency ['sjrtd_2015_0127'], trip ['202829'], between stops\n",
      "2022-01-05 00:10:23, INFO: \tRouting agency ['sjrtd_2015_0127'], trip ['202285'], between stops\n",
      "2022-01-05 00:10:40, INFO: \tRouting agency ['sjrtd_2015_0127'], trip ['201574'], between stops\n",
      "2022-01-05 00:10:55, INFO: \tRouting agency ['sjrtd_2015_0127'], trip ['202811'], between stops\n",
      "2022-01-05 00:11:12, INFO: \tRouting agency ['sjrtd_2015_0127'], trip ['202807'], between stops\n"
     ]
    },
    {
     "name": "stdout",
     "output_type": "stream",
     "text": [
      "2022-01-05 00:11:27, INFO: \tRouting agency ['sjrtd_2015_0127'], trip ['202813'], between stops\n",
      "2022-01-05 00:11:45, INFO: \tRouting agency ['sjrtd_2015_0127'], trip ['202819'], between stops\n",
      "2022-01-05 00:12:00, INFO: \tRouting agency ['sjrtd_2015_0127'], trip ['202668'], between stops\n",
      "2022-01-05 00:12:17, INFO: \tRouting agency ['sjrtd_2015_0127'], trip ['201558'], between stops\n",
      "2022-01-05 00:12:32, INFO: \tRouting agency ['sjrtd_2015_0127'], trip ['201543'], between stops\n",
      "2022-01-05 00:12:50, INFO: \tRouting agency ['sjrtd_2015_0127'], trip ['202690'], between stops\n",
      "2022-01-05 00:13:05, INFO: \tRouting agency ['sjrtd_2015_0127'], trip ['202254'], between stops\n",
      "2022-01-05 00:13:22, INFO: \tRouting agency ['sjrtd_2015_0127'], trip ['201576'], between stops\n",
      "2022-01-05 00:13:36, INFO: \tRouting agency ['sjrtd_2015_0127'], trip ['201485'], between stops\n",
      "2022-01-05 00:13:54, INFO: \tRouting agency ['sjrtd_2015_0127'], trip ['202767'], between stops\n",
      "2022-01-05 00:14:08, INFO: \tRouting agency ['sjrtd_2015_0127'], trip ['201844'], between stops\n",
      "2022-01-05 00:14:26, INFO: \tRouting agency ['sjrtd_2015_0127'], trip ['201553'], between stops\n",
      "2022-01-05 00:14:41, INFO: \tRouting agency ['sjrtd_2015_0127'], trip ['202862'], between stops\n",
      "2022-01-05 00:14:58, INFO: \tRouting agency ['sjrtd_2015_0127'], trip ['202838'], between stops\n",
      "2022-01-05 00:15:13, INFO: \tRouting agency ['sjrtd_2015_0127'], trip ['202681'], between stops\n",
      "2022-01-05 00:15:30, INFO: \tRouting agency ['sjrtd_2015_0127'], trip ['202860'], between stops\n",
      "2022-01-05 00:15:45, INFO: \tRouting agency ['sjrtd_2015_0127'], trip ['202072'], between stops\n",
      "2022-01-05 00:16:03, INFO: \tRouting agency ['sjrtd_2015_0127'], trip ['202856'], between stops\n",
      "2022-01-05 00:16:18, INFO: \tRouting agency ['sjrtd_2015_0127'], trip ['202859'], between stops\n",
      "2022-01-05 00:16:33, INFO: \tRouting agency ['sjrtd_2015_0127'], trip ['201465'], between stops\n",
      "2022-01-05 00:16:50, INFO: \tRouting agency ['sjrtd_2015_0127'], trip ['202302'], between stops\n",
      "2022-01-05 00:17:05, INFO: \tRouting agency ['sjrtd_2015_0127'], trip ['202271'], between stops\n",
      "2022-01-05 00:17:22, INFO: \tRouting agency ['sjrtd_2015_0127'], trip ['202317'], between stops\n",
      "2022-01-05 00:17:37, INFO: \tRouting agency ['sjrtd_2015_0127'], trip ['201536'], between stops\n",
      "2022-01-05 00:17:54, INFO: \tRouting agency ['sjrtd_2015_0127'], trip ['201891'], between stops\n",
      "2022-01-05 00:18:09, INFO: \tRouting agency ['sjrtd_2015_0127'], trip ['201538'], between stops\n",
      "2022-01-05 00:18:26, INFO: \tRouting agency ['sjrtd_2015_0127'], trip ['202779'], between stops\n",
      "2022-01-05 00:18:40, INFO: \tRouting agency ['sjrtd_2015_0127'], trip ['202448'], between stops\n",
      "2022-01-05 00:18:58, INFO: \tRouting agency ['sjrtd_2015_0127'], trip ['201542'], between stops\n",
      "2022-01-05 00:19:13, INFO: \tRouting agency ['sjrtd_2015_0127'], trip ['202888'], between stops\n",
      "2022-01-05 00:19:30, INFO: \tRouting agency ['sjrtd_2015_0127'], trip ['201541'], between stops\n",
      "2022-01-05 00:19:45, INFO: \tRouting agency ['sjrtd_2015_0127'], trip ['202836'], between stops\n",
      "2022-01-05 00:20:02, INFO: \tRouting agency ['sjrtd_2015_0127'], trip ['201722'], between stops\n",
      "2022-01-05 00:20:17, INFO: \tRouting agency ['sjrtd_2015_0127'], trip ['201582'], between stops\n",
      "2022-01-05 00:20:35, INFO: \tRouting agency ['sjrtd_2015_0127'], trip ['201692'], between stops\n",
      "2022-01-05 00:20:50, INFO: \tRouting agency ['sjrtd_2015_0127'], trip ['202831'], between stops\n",
      "2022-01-05 00:21:07, INFO: \tRouting agency ['sjrtd_2015_0127'], trip ['202025'], between stops\n",
      "2022-01-05 00:21:22, INFO: \tRouting agency ['sjrtd_2015_0127'], trip ['202839'], between stops\n",
      "2022-01-05 00:21:39, INFO: \tRouting agency ['sjrtd_2015_0127'], trip ['202834'], between stops\n",
      "2022-01-05 00:21:54, INFO: \tRouting agency ['sjrtd_2015_0127'], trip ['202828'], between stops\n",
      "2022-01-05 00:22:12, INFO: \tRouting agency ['sjrtd_2015_0127'], trip ['202908'], between stops\n",
      "2022-01-05 00:22:26, INFO: \tRouting agency ['sjrtd_2015_0127'], trip ['201572'], between stops\n",
      "2022-01-05 00:22:44, INFO: \tRouting agency ['sjrtd_2015_0127'], trip ['202062'], between stops\n",
      "2022-01-05 00:22:49, INFO: Route bus trips using shst match\n",
      "2022-01-05 00:36:43, INFO: ----------start reading shst extraction data-------------\n",
      "2022-01-05 00:36:43, INFO: reading shst extraction data : D:/sanjoaquin\\data\\external\\gtfs\\2015\\gtfs_shape_for_shst_match\\match.lines_from_shapes_sjrtd_2015_0127_26143.matched.geojson\n",
      "2022-01-05 00:36:43, INFO: reading shst extraction data : D:/sanjoaquin\\data\\external\\gtfs\\2015\\gtfs_shape_for_shst_match\\match.lines_from_shapes_sjrtd_2015_0127_26144.matched.geojson\n",
      "2022-01-05 00:36:43, INFO: reading shst extraction data : D:/sanjoaquin\\data\\external\\gtfs\\2015\\gtfs_shape_for_shst_match\\match.lines_from_shapes_sjrtd_2015_0127_26150.matched.geojson\n",
      "2022-01-05 00:36:43, INFO: reading shst extraction data : D:/sanjoaquin\\data\\external\\gtfs\\2015\\gtfs_shape_for_shst_match\\match.lines_from_shapes_sjrtd_2015_0127_26151.matched.geojson\n",
      "2022-01-05 00:36:43, INFO: reading shst extraction data : D:/sanjoaquin\\data\\external\\gtfs\\2015\\gtfs_shape_for_shst_match\\match.lines_from_shapes_sjrtd_2015_0127_26158.matched.geojson\n",
      "2022-01-05 00:36:43, INFO: reading shst extraction data : D:/sanjoaquin\\data\\external\\gtfs\\2015\\gtfs_shape_for_shst_match\\match.lines_from_shapes_sjrtd_2015_0127_26164.matched.geojson\n",
      "2022-01-05 00:36:43, INFO: reading shst extraction data : D:/sanjoaquin\\data\\external\\gtfs\\2015\\gtfs_shape_for_shst_match\\match.lines_from_shapes_sjrtd_2015_0127_26165.matched.geojson\n",
      "2022-01-05 00:36:43, INFO: reading shst extraction data : D:/sanjoaquin\\data\\external\\gtfs\\2015\\gtfs_shape_for_shst_match\\match.lines_from_shapes_sjrtd_2015_0127_26166.matched.geojson\n",
      "2022-01-05 00:36:43, INFO: reading shst extraction data : D:/sanjoaquin\\data\\external\\gtfs\\2015\\gtfs_shape_for_shst_match\\match.lines_from_shapes_sjrtd_2015_0127_26172.matched.geojson\n",
      "2022-01-05 00:36:43, INFO: reading shst extraction data : D:/sanjoaquin\\data\\external\\gtfs\\2015\\gtfs_shape_for_shst_match\\match.lines_from_shapes_sjrtd_2015_0127_26173.matched.geojson\n",
      "2022-01-05 00:36:43, INFO: reading shst extraction data : D:/sanjoaquin\\data\\external\\gtfs\\2015\\gtfs_shape_for_shst_match\\match.lines_from_shapes_sjrtd_2015_0127_26177.matched.geojson\n",
      "2022-01-05 00:36:43, INFO: reading shst extraction data : D:/sanjoaquin\\data\\external\\gtfs\\2015\\gtfs_shape_for_shst_match\\match.lines_from_shapes_sjrtd_2015_0127_26178.matched.geojson\n",
      "2022-01-05 00:36:43, INFO: reading shst extraction data : D:/sanjoaquin\\data\\external\\gtfs\\2015\\gtfs_shape_for_shst_match\\match.lines_from_shapes_sjrtd_2015_0127_26180.matched.geojson\n",
      "2022-01-05 00:36:43, INFO: reading shst extraction data : D:/sanjoaquin\\data\\external\\gtfs\\2015\\gtfs_shape_for_shst_match\\match.lines_from_shapes_sjrtd_2015_0127_26196.matched.geojson\n",
      "2022-01-05 00:36:43, INFO: reading shst extraction data : D:/sanjoaquin\\data\\external\\gtfs\\2015\\gtfs_shape_for_shst_match\\match.lines_from_shapes_sjrtd_2015_0127_26209.matched.geojson\n",
      "2022-01-05 00:36:43, INFO: reading shst extraction data : D:/sanjoaquin\\data\\external\\gtfs\\2015\\gtfs_shape_for_shst_match\\match.lines_from_shapes_sjrtd_2015_0127_26211.matched.geojson\n",
      "2022-01-05 00:36:43, INFO: reading shst extraction data : D:/sanjoaquin\\data\\external\\gtfs\\2015\\gtfs_shape_for_shst_match\\match.lines_from_shapes_sjrtd_2015_0127_26213.matched.geojson\n",
      "2022-01-05 00:36:43, INFO: reading shst extraction data : D:/sanjoaquin\\data\\external\\gtfs\\2015\\gtfs_shape_for_shst_match\\match.lines_from_shapes_sjrtd_2015_0127_26214.matched.geojson\n",
      "2022-01-05 00:36:43, INFO: reading shst extraction data : D:/sanjoaquin\\data\\external\\gtfs\\2015\\gtfs_shape_for_shst_match\\match.lines_from_shapes_sjrtd_2015_0127_26218.matched.geojson\n",
      "2022-01-05 00:36:43, INFO: reading shst extraction data : D:/sanjoaquin\\data\\external\\gtfs\\2015\\gtfs_shape_for_shst_match\\match.lines_from_shapes_sjrtd_2015_0127_26220.matched.geojson\n",
      "2022-01-05 00:36:43, INFO: reading shst extraction data : D:/sanjoaquin\\data\\external\\gtfs\\2015\\gtfs_shape_for_shst_match\\match.lines_from_shapes_sjrtd_2015_0127_26222.matched.geojson\n",
      "2022-01-05 00:36:43, INFO: reading shst extraction data : D:/sanjoaquin\\data\\external\\gtfs\\2015\\gtfs_shape_for_shst_match\\match.lines_from_shapes_sjrtd_2015_0127_26240.matched.geojson\n"
     ]
    },
    {
     "name": "stdout",
     "output_type": "stream",
     "text": [
      "2022-01-05 00:36:43, INFO: reading shst extraction data : D:/sanjoaquin\\data\\external\\gtfs\\2015\\gtfs_shape_for_shst_match\\match.lines_from_shapes_sjrtd_2015_0127_26269.matched.geojson\n",
      "2022-01-05 00:36:43, INFO: reading shst extraction data : D:/sanjoaquin\\data\\external\\gtfs\\2015\\gtfs_shape_for_shst_match\\match.lines_from_shapes_sjrtd_2015_0127_26322.matched.geojson\n",
      "2022-01-05 00:36:43, INFO: reading shst extraction data : D:/sanjoaquin\\data\\external\\gtfs\\2015\\gtfs_shape_for_shst_match\\match.lines_from_shapes_sjrtd_2015_0127_26323.matched.geojson\n",
      "2022-01-05 00:36:43, INFO: ----------finished reading shst extraction data-------------\n",
      "2022-01-05 00:36:44, INFO: representative trips include 120 bus shapes, 252 bus trips\n",
      "2022-01-05 00:36:44, INFO: shst matched 24 bus shapes, 47 bus trips\n",
      "2022-01-05 00:36:44, INFO: shortest path method matched 96 bus shapes, 205 bus trips\n",
      "2022-01-05 00:36:44, INFO: Updating stop node matching\n",
      "2022-01-05 00:37:28, INFO: representative trips include 0 rail/ferry shapes, which are total of 0 trips\n",
      "2022-01-05 00:37:29, INFO: Creating frequency reference\n"
     ]
    }
   ],
   "source": [
    "# main activities - routing buses, creating rails\n",
    "\n",
    "transit_network.build_standard_transit_network(\n",
    "    multithread_shst_match = True,\n",
    "    multithread_shortest_path = False\n",
    ")"
   ]
  },
  {
   "cell_type": "code",
   "execution_count": 19,
   "id": "02b5f198",
   "metadata": {},
   "outputs": [],
   "source": [
    "# write out\n",
    "\n",
    "transit_network.write_standard_transit(\n",
    "    path = interim_dir\n",
    ")"
   ]
  },
  {
   "cell_type": "markdown",
   "id": "841cd72e",
   "metadata": {},
   "source": [
    "## Step 7 - Build Centroid Connectors\n",
    "\n",
    "builds centroid connectors from TAZ, MAZ"
   ]
  },
  {
   "cell_type": "code",
   "execution_count": null,
   "id": "8854bfc2",
   "metadata": {},
   "outputs": [],
   "source": [
    "taz_polygon_file = os.path.join(\n",
    "    external_dir,\n",
    "    \"taz\",\n",
    "    \"SJ_TAZ_Aug2011.shp\"\n",
    ")"
   ]
  },
  {
   "cell_type": "code",
   "execution_count": null,
   "id": "b6799202",
   "metadata": {},
   "outputs": [],
   "source": [
    "roadway_network.build_centroid_connectors(\n",
    "    build_taz_drive = True,\n",
    "    build_taz_active_modes = True,\n",
    "    input_taz_polygon_file = taz_polygon_file\n",
    ")"
   ]
  },
  {
   "cell_type": "markdown",
   "id": "dffb82fc",
   "metadata": {},
   "source": [
    "## Step 8 - Write out Standard Format"
   ]
  },
  {
   "cell_type": "code",
   "execution_count": 20,
   "id": "64bb7f93",
   "metadata": {},
   "outputs": [
    {
     "name": "stdout",
     "output_type": "stream",
     "text": [
      "2022-01-05 00:45:36, INFO: Starting Step 8 creating roadway standard format\n"
     ]
    }
   ],
   "source": [
    "roadway_network.standard_format(\n",
    "    county_boundary_file = os.path.join(root_dir,\"data\", \"external\",\"cb_2018_us_county_500k\", \"san_joaquin.shp\"),\n",
    "    county_variable_name = 'NAME'\n",
    ")"
   ]
  },
  {
   "cell_type": "code",
   "execution_count": 21,
   "id": "1ebcc592",
   "metadata": {},
   "outputs": [
    {
     "name": "stdout",
     "output_type": "stream",
     "text": [
      "2022-01-05 00:45:49, INFO: write out shape geojson\n",
      "2022-01-05 00:46:03, INFO: write out node geojson\n",
      "2022-01-05 00:46:12, INFO: write out link json\n",
      "2022-01-05 00:46:16, INFO: write out link geojson\n"
     ]
    }
   ],
   "source": [
    "RanchLogger.info(\"write out shape geojson\")\n",
    "\n",
    "shape_prop = ['id', 'fromIntersectionId', 'toIntersectionId', 'forwardReferenceId', 'backReferenceId']\n",
    "shape_geojson = link_df_to_geojson(\n",
    "    roadway_network.shapes_df, \n",
    "    shape_prop\n",
    ")\n",
    "\n",
    "with open(os.path.join(interim_dir,\"step8_shapes.geojson\"), \"w\") as f:\n",
    "    json.dump(shape_geojson, f)\n",
    "\n",
    "RanchLogger.info(\"write out node geojson\")\n",
    "\n",
    "node_prop = roadway_network.nodes_df.drop('geometry', axis = 1).columns.tolist()\n",
    "node_geojson = point_df_to_geojson(\n",
    "    roadway_network.nodes_df, \n",
    "    node_prop\n",
    ")\n",
    "\n",
    "with open(os.path.join(interim_dir,\"step8_nodes.geojson\"), \"w\") as f:\n",
    "    json.dump(node_geojson, f)\n",
    "\n",
    "RanchLogger.info(\"write out link json\")\n",
    "\n",
    "link_prop = roadway_network.links_df.drop(\n",
    "    ['geometry'], \n",
    "    axis = 1\n",
    ").columns.tolist()\n",
    "\n",
    "out = roadway_network.links_df[link_prop].to_json(orient = \"records\")\n",
    "\n",
    "with open(os.path.join(interim_dir,\"step8_links.json\"), 'w') as f:\n",
    "    f.write(out)\n",
    "    \n",
    "# the standard format for links are links.json, without the geometry\n",
    "# here writing out links in links.geojson in case the user wants to visualize links\n",
    "\n",
    "RanchLogger.info(\"write out link geojson\")\n",
    "\n",
    "link_prop = roadway_network.links_df.drop('geometry', axis = 1).columns.tolist()\n",
    "link_geojson = link_df_to_geojson(\n",
    "    roadway_network.links_df, \n",
    "    link_prop\n",
    ")\n",
    "\n",
    "with open(os.path.join(interim_dir,\"step8_links.geojson\"), \"w\") as f:\n",
    "    json.dump(link_geojson, f)"
   ]
  },
  {
   "cell_type": "code",
   "execution_count": null,
   "id": "b53b3b3e",
   "metadata": {},
   "outputs": [],
   "source": []
  }
 ],
 "metadata": {
  "kernelspec": {
   "display_name": "Python 3 (ipykernel)",
   "language": "python",
   "name": "python3"
  },
  "language_info": {
   "codemirror_mode": {
    "name": "ipython",
    "version": 3
   },
   "file_extension": ".py",
   "mimetype": "text/x-python",
   "name": "python",
   "nbconvert_exporter": "python",
   "pygments_lexer": "ipython3",
   "version": "3.7.10"
  }
 },
 "nbformat": 4,
 "nbformat_minor": 5
}
