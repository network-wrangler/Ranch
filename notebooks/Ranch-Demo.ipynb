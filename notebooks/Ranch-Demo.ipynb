{
 "cells": [
  {
   "cell_type": "markdown",
   "id": "e6de6b27",
   "metadata": {},
   "source": [
    "# Ranch Demo Notebook\n",
    "\n",
    "This notebook has examples of how to make Ranch calls to run through the complete network building pipeline to develop standard roadway and transit network from scratch"
   ]
  },
  {
   "cell_type": "code",
   "execution_count": 1,
   "id": "1888781c",
   "metadata": {},
   "outputs": [],
   "source": [
    "import os\n",
    "import pickle\n",
    "import pandas as pd\n",
    "import geopandas as gpd\n",
    "from pyproj import CRS\n",
    "\n",
    "import ranch\n",
    "from ranch import sharedstreets\n",
    "from ranch import Roadway\n",
    "from ranch import Transit\n",
    "from ranch import Parameters\n",
    "from ranch.utils import link_df_to_geojson, point_df_to_geojson\n",
    "from ranch.logger import RanchLogger"
   ]
  },
  {
   "cell_type": "code",
   "execution_count": 2,
   "id": "547c4556",
   "metadata": {},
   "outputs": [],
   "source": [
    "%load_ext autoreload\n",
    "%autoreload 2"
   ]
  },
  {
   "cell_type": "markdown",
   "id": "1b7b28ec",
   "metadata": {},
   "source": [
    "# Remote I/O\n",
    "\n",
    "User to update, does not necessarily be the ranch directory"
   ]
  },
  {
   "cell_type": "code",
   "execution_count": 3,
   "id": "32776279",
   "metadata": {},
   "outputs": [],
   "source": [
    "# project directory\n",
    "root_dir = os.path.join(\"D:/sanjoaquin\")\n",
    "\n",
    "external_dir = os.path.join(root_dir, \"data\", \"external\")\n",
    "interim_dir = os.path.join(root_dir, \"data\", \"interim\")\n",
    "\n",
    "# software directory\n",
    "ranch_dir = os.path.join(\"D:/github/Ranch\")"
   ]
  },
  {
   "cell_type": "code",
   "execution_count": 4,
   "id": "aee58ea9",
   "metadata": {},
   "outputs": [
    {
     "name": "stdout",
     "output_type": "stream",
     "text": [
      "2021-12-14 15:22:49, INFO: Lasso base directory set as: D:/github/Ranch\n"
     ]
    }
   ],
   "source": [
    "parameters = Parameters(ranch_base_dir = ranch_dir)"
   ]
  },
  {
   "cell_type": "markdown",
   "id": "2f34ef1f",
   "metadata": {},
   "source": [
    "## Step 1 - SharedStreets Extraction\n",
    "\n",
    "Extracts sharedstreets representation of OSM links.\n",
    "The input for this step is the polygon boundary file for the area.\n",
    "The output for this step is geojson files from SharedStreets API."
   ]
  },
  {
   "cell_type": "code",
   "execution_count": 5,
   "id": "1419f3e9",
   "metadata": {},
   "outputs": [],
   "source": [
    "# the polygon file for the area\n",
    "\n",
    "input_polygon_file = os.path.join(\n",
    "    external_dir,\n",
    "    \"sharedstreets_extract\", \n",
    "    \"sanjoaquin.shp\"\n",
    ")"
   ]
  },
  {
   "cell_type": "code",
   "execution_count": 6,
   "id": "ad619098",
   "metadata": {},
   "outputs": [],
   "source": [
    "# the folder where SharedStreets extractions live\n",
    "\n",
    "shst_extract_dir = os.path.join(external_dir, \"sharedstreets_extract\")"
   ]
  },
  {
   "cell_type": "code",
   "execution_count": 18,
   "id": "fbaa1430",
   "metadata": {},
   "outputs": [
    {
     "name": "stdout",
     "output_type": "stream",
     "text": [
      "2021-12-14 16:45:29, INFO: Exporting boundry file D:/sanjoaquin\\data\\external\\sharedstreets_extract\\boundary.0.geojson\n",
      "2021-12-14 16:45:29, INFO: extracting for polygon 0\n"
     ]
    }
   ],
   "source": [
    "# the SharedStreets extraction file is saved to the 'output_dir' argument\n",
    "\n",
    "ranch.run_shst_extraction(\n",
    "    input_polygon_file = input_polygon_file,\n",
    "    output_dir = shst_extract_dir\n",
    ")"
   ]
  },
  {
   "cell_type": "markdown",
   "id": "c8dde97b",
   "metadata": {},
   "source": [
    "## Step 2 - OSMNX Extraction\n",
    "\n",
    "Extracts complete OSM attributes using OSMNX.\n",
    "The input for this step is the polygon boundary file for the area.\n",
    "The output for this step is geojson files from OSMNX."
   ]
  },
  {
   "cell_type": "code",
   "execution_count": 12,
   "id": "79abecc2",
   "metadata": {},
   "outputs": [],
   "source": [
    "# the folder where OSMNX extractions live\n",
    "\n",
    "osm_extract_dir = os.path.join(external_dir, \"osmnx_extract\")"
   ]
  },
  {
   "cell_type": "code",
   "execution_count": 13,
   "id": "907f8227",
   "metadata": {},
   "outputs": [],
   "source": [
    "# the OSMNX extraction file is saved to the 'output_dir' argument\n",
    "\n",
    "ranch.run_osmnx_extraction(\n",
    "    input_polygon_file = input_polygon_file,\n",
    "    output_dir = os.path.join(external_dir, \"osmnx_extract\")\n",
    ")"
   ]
  },
  {
   "cell_type": "markdown",
   "id": "3678b58c",
   "metadata": {},
   "source": [
    "## Step 3 - Consolidate SharedStreets and OSMNX exractions\n",
    "\n",
    "consolidates raw roadway data and create initial roadway networks"
   ]
  },
  {
   "cell_type": "code",
   "execution_count": 15,
   "id": "b97db4db",
   "metadata": {},
   "outputs": [
    {
     "name": "stdout",
     "output_type": "stream",
     "text": [
      "2021-12-14 16:20:22, INFO: Reading sharedstreets data\n",
      "2021-12-14 16:20:22, INFO: ----------start reading shst extraction data-------------\n",
      "2021-12-14 16:20:22, INFO: reading shst extraction data : D:/sanjoaquin\\data\\external\\sharedstreets_extract\\extract.boundary.0.out.geojson\n",
      "2021-12-14 16:20:55, INFO: reading shst extraction data : D:/sanjoaquin\\data\\external\\sharedstreets_extract\\out.out.geojson\n",
      "2021-12-14 16:20:55, INFO: ----------finished reading shst extraction data-------------\n",
      "2021-12-14 16:20:55, INFO: Removing duplicates in shst extraction data\n",
      "2021-12-14 16:20:55, INFO: ...before removing duplicates, shst extraction has 99961 geometries.\n",
      "2021-12-14 16:20:55, INFO: ...after removing duplicates, shst extraction has 99961 geometries.\n",
      "2021-12-14 16:20:55, INFO: Reading osmnx data\n",
      "2021-12-14 16:22:38, INFO: Extracting corresponding osm ways for every shst geometry\n",
      "2021-12-14 16:24:35, INFO: shst extraction has 99961 geometries\n",
      "2021-12-14 16:24:35, INFO: shst extraction has 107067 osm links\n",
      "2021-12-14 16:24:35, INFO: ---joining osm shst with osmnx data---\n",
      "2021-12-14 16:24:36, INFO: shst extraction has 97984 two-way osm links\n",
      "2021-12-14 16:24:36, INFO: and they are 92308 geometrys\n",
      "2021-12-14 16:24:37, INFO: after join, ther are 205051 osm links from shst extraction,     out of which there are 84918 links that do not have osm info,     due to shst extraction (default tile 181224) contains 19099 osm ids that are not included in latest OSM extraction,     e.g. private streets, closed streets.\n",
      "2021-12-14 16:24:38, INFO: after join, there are 192269 shst referencies\n",
      "2021-12-14 16:24:38, INFO: numeric columns: ['wayId', 'u', 'v', 'osmid', 'key', 'reverse_out']\n",
      "2021-12-14 16:24:38, INFO: str columns: \n",
      "2021-12-14 16:24:39, INFO: Start aggregating osm segments to one shst link for forward links\n",
      "2021-12-14 16:25:08, INFO: Start aggregating osm segments to one shst link for backward links\n",
      "2021-12-14 16:25:35, INFO: all\n"
     ]
    },
    {
     "name": "stderr",
     "output_type": "stream",
     "text": [
      "C:\\Users\\wangs1\\AppData\\Local\\Continuum\\anaconda3\\envs\\ranch\\lib\\site-packages\\pyproj\\crs\\crs.py:131: FutureWarning: '+init=<authority>:<code>' syntax is deprecated. '<authority>:<code>' is the preferred initialization method. When making the change, be mindful of axis order changes: https://pyproj4.github.io/pyproj/stable/gotchas.html#axis-order-changes-in-proj-6\n",
      "  in_crs_string = _prepare_from_proj_string(in_crs_string)\n"
     ]
    },
    {
     "name": "stdout",
     "output_type": "stream",
     "text": [
      "2021-12-14 16:25:43, INFO: Start creating shst nodes\n"
     ]
    },
    {
     "name": "stderr",
     "output_type": "stream",
     "text": [
      "C:\\Users\\wangs1\\AppData\\Local\\Continuum\\anaconda3\\envs\\ranch\\lib\\site-packages\\pyproj\\crs\\crs.py:131: FutureWarning: '+init=<authority>:<code>' syntax is deprecated. '<authority>:<code>' is the preferred initialization method. When making the change, be mindful of axis order changes: https://pyproj4.github.io/pyproj/stable/gotchas.html#axis-order-changes-in-proj-6\n",
      "  in_crs_string = _prepare_from_proj_string(in_crs_string)\n",
      "C:\\Users\\wangs1\\AppData\\Local\\Continuum\\anaconda3\\envs\\ranch\\lib\\site-packages\\pyproj\\crs\\crs.py:131: FutureWarning: '+init=<authority>:<code>' syntax is deprecated. '<authority>:<code>' is the preferred initialization method. When making the change, be mindful of axis order changes: https://pyproj4.github.io/pyproj/stable/gotchas.html#axis-order-changes-in-proj-6\n",
      "  in_crs_string = _prepare_from_proj_string(in_crs_string)\n"
     ]
    },
    {
     "name": "stdout",
     "output_type": "stream",
     "text": [
      "2021-12-14 16:25:57, INFO: Lasso base directory set as: D:/github/Ranch\n"
     ]
    }
   ],
   "source": [
    "# build and returns roaday network object from extraction files\n",
    "\n",
    "roadway_network = Roadway.create_roadway_network_from_extracts(\n",
    "    shst_extract_dir = shst_extract_dir,\n",
    "    osm_extract_dir = osm_extract_dir,\n",
    "    parameters = parameters,\n",
    ")"
   ]
  },
  {
   "cell_type": "code",
   "execution_count": 16,
   "id": "55ca86d3",
   "metadata": {},
   "outputs": [
    {
     "name": "stdout",
     "output_type": "stream",
     "text": [
      "2021-12-14 16:42:31, INFO: Initial network has 192247 links\n",
      "2021-12-14 16:42:31, INFO: Initial network has 73049 nodes\n",
      "2021-12-14 16:42:31, INFO: Initial network has 99961 shapes\n"
     ]
    }
   ],
   "source": [
    "RanchLogger.info(\"Initial network has {} links\".format(roadway_network.links_df.shape[0]))\n",
    "RanchLogger.info(\"Initial network has {} nodes\".format(roadway_network.nodes_df.shape[0]))\n",
    "RanchLogger.info(\"Initial network has {} shapes\".format(roadway_network.shapes_df.shape[0]))"
   ]
  },
  {
   "cell_type": "markdown",
   "id": "0723b67f",
   "metadata": {},
   "source": [
    "### Optional: If user wants to write out the roadway network in standard format, they can do the following, otherwise no need to write out"
   ]
  },
  {
   "cell_type": "code",
   "execution_count": null,
   "id": "f372a815",
   "metadata": {},
   "outputs": [],
   "source": [
    "RanchLogger.info(\"write out shape geojson\")\n",
    "\n",
    "shape_prop = ['id', 'fromIntersectionId', 'toIntersectionId', 'forwardReferenceId', 'backReferenceId']\n",
    "shape_geojson = link_df_to_geojson(\n",
    "    roadway_network.shapes_df, \n",
    "    shape_prop\n",
    ")\n",
    "\n",
    "with open(os.path.join(interim_dir,\"step3_shapes.geojson\"), \"w\") as f:\n",
    "    json.dump(shape_geojson, f)\n",
    "\n",
    "RanchLogger.info(\"write out node geojson\")\n",
    "\n",
    "node_prop = roadway_network.nodes_df.drop('geometry', axis = 1).columns.tolist()\n",
    "node_geojson = point_df_to_geojson(\n",
    "    roadway_network.nodes_df, \n",
    "    node_prop\n",
    ")\n",
    "\n",
    "with open(os.path.join(interim_dir,\"step3_nodes.geojson\"), \"w\") as f:\n",
    "    json.dump(node_geojson, f)\n",
    "\n",
    "RanchLogger.info(\"write out link geojson\")\n",
    "\n",
    "link_prop = roadway_network.links_df.drop('geometry', axis = 1).columns.tolist()\n",
    "link_geojson = link_df_to_geojson(\n",
    "    roadway_network.links_df, \n",
    "    link_prop\n",
    ")\n",
    "\n",
    "with open(os.path.join(root_dir,\"data\", \"interim\",\"step3_links.geojson\"), \"w\") as f:\n",
    "    json.dump(link_geojson, f)\n"
   ]
  },
  {
   "cell_type": "markdown",
   "id": "652257b6",
   "metadata": {},
   "source": [
    "## Step 4 - Third-Party Roadway Data Conflation\n",
    "\n",
    "Conflates e.g. county network with roadway network using SharedStreets.\n",
    "The input for this step is the 3rd-party geodatabases to conflate.\n",
    "The output of this step is the SharedStreets conflation outputs in geojson."
   ]
  },
  {
   "cell_type": "code",
   "execution_count": 19,
   "id": "b374b7a2",
   "metadata": {},
   "outputs": [],
   "source": [
    "# define the input 3rd-party file, either shapefile or geojson\n",
    "\n",
    "input_network_file = os.path.join(external_dir, \"sjmodel\", \"Network\", \"2015\",\"TCM_MASTER_2A22_102717.shp\")"
   ]
  },
  {
   "cell_type": "code",
   "execution_count": 20,
   "id": "08ebd12c",
   "metadata": {},
   "outputs": [],
   "source": [
    "# if the CRS is undefined in the input network file, user needs to specify:\n",
    "\n",
    "input_crs = CRS(\"ESRI:102643\")"
   ]
  },
  {
   "cell_type": "code",
   "execution_count": 21,
   "id": "38959822",
   "metadata": {},
   "outputs": [
    {
     "name": "stdout",
     "output_type": "stream",
     "text": [
      "2021-12-14 16:47:54, INFO: input network D:/sanjoaquin\\data\\external\\sjmodel\\Network\\2015\\TCM_MASTER_2A22_102717.shp has crs : None\n",
      "2021-12-14 16:47:56, INFO: Input network for shst match does not have unique IDs, generating unique IDs\n",
      "2021-12-14 16:47:56, INFO: Generated 49910 unique IDs for 49910 links in the input network\n",
      "2021-12-14 16:47:56, INFO: Exporting shst match input - ID-ed geometry file D:/sanjoaquin\\data\\external\\sjmodel\\shst_match\\TCM_MASTER_2A22_102717.geojson\n",
      "2021-12-14 16:48:00, INFO: Exporting ID-ed network file D:/sanjoaquin\\data\\external\\sjmodel\\shst_match\\TCM_MASTER_2A22_102717.full.geojson\n"
     ]
    }
   ],
   "source": [
    "# the output is saved to the 'output_dir' argument\n",
    "# user can specify the match option (reference here) \n",
    "# by 'custom_match_option'\n",
    "# if not specified, use the default\n",
    "# match option would vary by the input network\n",
    "\n",
    "ranch.run_shst_match(\n",
    "    input_network_file = input_network_file,\n",
    "    input_crs = input_crs,\n",
    "    output_dir = os.path.join(external_dir, \"sjmodel\", \"shst_match\"),\n",
    "    custom_match_option = '--tile-hierarchy=8 --search-radius=50 --snap-intersections'\n",
    ")"
   ]
  },
  {
   "cell_type": "markdown",
   "id": "c4622c9e",
   "metadata": {},
   "source": [
    "## Step 5 - Tidy Up Roadway\n",
    "\n",
    "Identifies drive dead-ends, cul-de-secs, numbering links and nodes, etc.\n",
    "The input for this step is the polygon file with subregion identifier, e.g. county.\n",
    "This step labels each link and node with the county name, and assign model IDs for links and nodes."
   ]
  },
  {
   "cell_type": "code",
   "execution_count": null,
   "id": "a63ecd48",
   "metadata": {},
   "outputs": [],
   "source": [
    "# this is the input county polygon file with county names\n",
    "\n",
    "county_boundary_file = os.path.join(\n",
    "    external_dir,\n",
    "    \"cb_2018_us_county_500k\", \n",
    "    \"san_joaquin.shp\"\n",
    ")\n",
    "\n",
    "# specify the column to look for county name\n",
    "\n",
    "county_variable_name = 'NAME'"
   ]
  },
  {
   "cell_type": "code",
   "execution_count": null,
   "id": "8f19719a",
   "metadata": {},
   "outputs": [],
   "source": [
    "roadway_network.tidy_roadway(\n",
    "    county_boundary_file = county_boundary_file,\n",
    "    county_variable_name = county_variable_name\n",
    ")"
   ]
  },
  {
   "cell_type": "markdown",
   "id": "869ccb49",
   "metadata": {},
   "source": [
    "## Step 6 - Build Transit Network from GTFS\n",
    "\n",
    "Build standard transit network from GTFS"
   ]
  },
  {
   "cell_type": "code",
   "execution_count": null,
   "id": "057582a4",
   "metadata": {},
   "outputs": [],
   "source": [
    "gtfs_dir = os.path.join(external_dir, \"gtfs\", \"2015\")"
   ]
  },
  {
   "cell_type": "code",
   "execution_count": null,
   "id": "11192b0c",
   "metadata": {},
   "outputs": [],
   "source": [
    "# read gtfs into transit object\n",
    "\n",
    "transit_network = Transit.load_all_gtfs_feeds(\n",
    "    path = gtfs_dir,\n",
    "    roadway_network= roadway_network,\n",
    "    parameters=parameters\n",
    ")"
   ]
  },
  {
   "cell_type": "code",
   "execution_count": null,
   "id": "75f35bcc",
   "metadata": {},
   "outputs": [],
   "source": [
    "# main activities - routing buses, creating rails\n",
    "\n",
    "transit_network.build_standard_transit_network()"
   ]
  },
  {
   "cell_type": "code",
   "execution_count": null,
   "id": "203fd1ad",
   "metadata": {},
   "outputs": [],
   "source": [
    "# write out\n",
    "\n",
    "transit_network.write_standard_transit(\n",
    "    path = interim_dir\n",
    ")"
   ]
  },
  {
   "cell_type": "markdown",
   "id": "71ef1704",
   "metadata": {},
   "source": [
    "## Step 7 - Build Centroid Connectors\n",
    "\n",
    "builds centroid connectors from TAZ, MAZ"
   ]
  },
  {
   "cell_type": "code",
   "execution_count": null,
   "id": "ada6a519",
   "metadata": {},
   "outputs": [],
   "source": [
    "taz_polygon_file = os.path.join(\n",
    "    external_dir,\n",
    "    \"taz\",\n",
    "    \"SJ_TAZ_Aug2011.shp\"\n",
    ")"
   ]
  },
  {
   "cell_type": "code",
   "execution_count": null,
   "id": "3a2c5ddf",
   "metadata": {},
   "outputs": [],
   "source": [
    "roadway_network.build_centroid_connectors(\n",
    "    build_taz_drive = True,\n",
    "    build_taz_active_modes = True,\n",
    "    input_taz_polygon_file = taz_polygon_file\n",
    ")"
   ]
  },
  {
   "cell_type": "markdown",
   "id": "f4370321",
   "metadata": {},
   "source": [
    "## Step 8 - Write out Standard Format"
   ]
  },
  {
   "cell_type": "code",
   "execution_count": null,
   "id": "b4390141",
   "metadata": {},
   "outputs": [],
   "source": [
    "roadway_network.standard_format(\n",
    "    county_boundary_file = os.path.join(root_dir,\"data\", \"external\",\"cb_2018_us_county_500k\", \"san_joaquin.shp\"),\n",
    "    county_variable_name = 'NAME'\n",
    ")"
   ]
  },
  {
   "cell_type": "code",
   "execution_count": null,
   "id": "ba5195ee",
   "metadata": {},
   "outputs": [],
   "source": [
    "RanchLogger.info(\"write out shape geojson\")\n",
    "\n",
    "shape_prop = ['id', 'fromIntersectionId', 'toIntersectionId', 'forwardReferenceId', 'backReferenceId']\n",
    "shape_geojson = link_df_to_geojson(\n",
    "    roadway_network.shapes_df, \n",
    "    shape_prop\n",
    ")\n",
    "\n",
    "with open(os.path.join(interim_dir,\"step8_shapes.geojson\"), \"w\") as f:\n",
    "    json.dump(shape_geojson, f)\n",
    "\n",
    "RanchLogger.info(\"write out node geojson\")\n",
    "\n",
    "node_prop = roadway_network.nodes_df.drop('geometry', axis = 1).columns.tolist()\n",
    "node_geojson = point_df_to_geojson(\n",
    "    roadway_network.nodes_df, \n",
    "    node_prop\n",
    ")\n",
    "\n",
    "with open(os.path.join(interim_dir,\"step8_nodes.geojson\"), \"w\") as f:\n",
    "    json.dump(node_geojson, f)\n",
    "\n",
    "RanchLogger.info(\"write out link geojson\")\n",
    "\n",
    "link_prop = roadway_network.links_df.drop('geometry', axis = 1).columns.tolist()\n",
    "link_geojson = link_df_to_geojson(\n",
    "    roadway_network.links_df, \n",
    "    link_prop\n",
    ")\n",
    "\n",
    "with open(os.path.join(interim_dir,\"step8_links.geojson\"), \"w\") as f:\n",
    "    json.dump(link_geojson, f)\n"
   ]
  }
 ],
 "metadata": {
  "kernelspec": {
   "display_name": "Python 3 (ipykernel)",
   "language": "python",
   "name": "python3"
  },
  "language_info": {
   "codemirror_mode": {
    "name": "ipython",
    "version": 3
   },
   "file_extension": ".py",
   "mimetype": "text/x-python",
   "name": "python",
   "nbconvert_exporter": "python",
   "pygments_lexer": "ipython3",
   "version": "3.7.10"
  }
 },
 "nbformat": 4,
 "nbformat_minor": 5
}
