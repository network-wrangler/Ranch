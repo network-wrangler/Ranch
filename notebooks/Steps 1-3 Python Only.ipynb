{
 "cells": [
  {
   "cell_type": "code",
   "execution_count": 1,
   "metadata": {},
   "outputs": [],
   "source": [
    "import json\n",
    "import os\n",
    "from os.path import isdir\n",
    "import pandas as pd\n",
    "import geopandas as gpd\n",
    "from pyproj import CRS\n",
    "\n",
    "from osmnx.geocoder import geocode_to_gdf\n",
    "\n",
    "import ranch\n",
    "from ranch import sharedstreets\n",
    "from ranch import Roadway\n",
    "from ranch import Transit\n",
    "from ranch import Parameters\n",
    "from ranch.utils import link_df_to_geojson, point_df_to_geojson\n",
    "from ranch.logger import RanchLogger\n",
    "\n",
    "import sharedstreets.dataframe"
   ]
  },
  {
   "cell_type": "code",
   "execution_count": 7,
   "metadata": {},
   "outputs": [
    {
     "name": "stdout",
     "output_type": "stream",
     "text": [
      "2022-01-07 17:04:51, INFO: Lasso base directory set as: c:/apps/cowboy/Ranch\n"
     ]
    }
   ],
   "source": [
    "# project directory\n",
    "root_dir = os.path.join(r\"C:\\Users\\uscd675041\\WSP O365\\BART-TDLU - Documents\\Networks\")\n",
    "# software directory\n",
    "ranch_dir = os.path.join(\"c:/apps/cowboy/Ranch\")\n",
    "parameters = Parameters(ranch_base_dir = ranch_dir)"
   ]
  },
  {
   "cell_type": "code",
   "execution_count": 3,
   "metadata": {},
   "outputs": [],
   "source": [
    "counties = pd.read_csv(os.path.join(root_dir, '..', 'data', 'counties.csv'))"
   ]
  },
  {
   "cell_type": "code",
   "execution_count": 6,
   "metadata": {},
   "outputs": [],
   "source": [
    "with open(os.path.join(root_dir, 'Alameda', 'external', \"sharedstreets_extract\", 'extract.boundary.0.out.geojson'), 'r') as f:\n",
    "    j = json.load(f)\n",
    "    shst = gpd.GeoDataFrame.from_features(j)"
   ]
  },
  {
   "cell_type": "code",
   "execution_count": null,
   "metadata": {},
   "outputs": [
    {
     "name": "stdout",
     "output_type": "stream",
     "text": [
      "C:\\Users\\uscd675041\\WSP O365\\BART-TDLU - Documents\\Networks exists!\n",
      "C:\\Users\\uscd675041\\WSP O365\\BART-TDLU - Documents\\Networks\\Alameda\\external exists!\n",
      "C:\\Users\\uscd675041\\WSP O365\\BART-TDLU - Documents\\Networks\\Alameda\\interim exists!\n",
      "c:/apps/cowboy/Ranch exists!\n",
      "C:\\Users\\uscd675041\\WSP O365\\BART-TDLU - Documents\\Networks\\Alameda\\external\\sharedstreets_extract exists!\n",
      "C:\\Users\\uscd675041\\WSP O365\\BART-TDLU - Documents\\Networks\\Alameda\\external\\osmnx_extract exists!\n"
     ]
    },
    {
     "name": "stderr",
     "output_type": "stream",
     "text": [
      "C:\\Users\\USCD67~1\\AppData\\Local\\Temp/ipykernel_96844/3448158815.py:25: UserWarning: Column names longer than 10 characters will be truncated when saved to ESRI Shapefile.\n",
      "  cnty.to_file(os.path.join(root_dir, alias, f'cnty_boundary_{alias}.shp'))\n"
     ]
    },
    {
     "name": "stdout",
     "output_type": "stream",
     "text": [
      "2022-01-07 17:17:08, INFO: Removing duplicates in shst extraction data\n",
      "2022-01-07 17:17:08, INFO: ...before removing duplicates, shst extraction has 89305 geometries.\n",
      "2022-01-07 17:17:08, INFO: ...after removing duplicates, shst extraction has 89305 geometries.\n",
      "2022-01-07 17:17:08, INFO: Extracting corresponding osm ways for every shst geometry\n",
      "2022-01-07 17:18:53, INFO: shst extraction has 89305 geometries\n",
      "2022-01-07 17:18:53, INFO: shst extraction has 102252 osm links\n",
      "2022-01-07 17:18:53, INFO: ---joining osm shst with osmnx data---\n",
      "2022-01-07 17:18:54, INFO: shst extraction has 0 two-way osm links\n",
      "2022-01-07 17:18:54, INFO: and they are 0 geometrys\n",
      "2022-01-07 17:18:54, INFO: after join, ther are 102252 osm links from shst extraction,     out of which there are 37459 links that do not have osm info,     due to shst extraction (default tile 181224) contains 20599 osm ids that are not included in latest OSM extraction,     e.g. private streets, closed streets.\n",
      "2022-01-07 17:18:54, INFO: after join, there are 89305 shst referencies\n",
      "2022-01-07 17:18:54, INFO: numeric columns: ['wayId', 'index', 'u', 'v', 'osmid', 'reverse_out']\n",
      "2022-01-07 17:18:54, INFO: str columns: \n",
      "2022-01-07 17:18:55, INFO: Start aggregating osm segments to one shst link for forward links\n"
     ]
    }
   ],
   "source": [
    "for county_name in list(counties['COUNTY_NAME']):\n",
    "    if county_name != 'Alameda':\n",
    "        continue\n",
    "    alias = county_name.replace(' ', '')\n",
    "    external_dir = os.path.join(root_dir, alias, 'external')\n",
    "    interim_dir = os.path.join(root_dir, alias, 'interim')\n",
    "\n",
    "\n",
    "    # the folder where SharedStreets extractions live\n",
    "    shst_extract_dir = os.path.join(external_dir, \"sharedstreets_extract\")\n",
    "    osm_extract_dir = os.path.join(external_dir, \"osmnx_extract\")\n",
    "\n",
    "    for d in [root_dir, external_dir, interim_dir, ranch_dir, shst_extract_dir, osm_extract_dir]:\n",
    "        if isdir(d):\n",
    "            print(f\"{d} exists!\")\n",
    "            continue\n",
    "\n",
    "        print(f\"creating {d}\")\n",
    "        os.makedirs(d)\n",
    "    \n",
    "    if county_name == 'San Francisco': # Because San Francisco is a city and a county / OSMNX gets confused.\n",
    "        cnty = geocode_to_gdf(f\"{county_name}, California, USA\").to_crs(epsg=4326)\n",
    "    else:\n",
    "        cnty = geocode_to_gdf(f\"{county_name} County, California, USA\").to_crs(epsg=4326)\n",
    "    cnty.to_file(os.path.join(root_dir, alias, f'cnty_boundary_{alias}.shp'))\n",
    "\n",
    "    county_boundary_file = os.path.join(root_dir, alias, f'cnty_boundary_{alias}.shp')\n",
    "    \n",
    "    #shst = ranch.run_shst_extraction(cnty, output_dir=shst_extract_dir, pylib=True)\n",
    "\n",
    "    # the OSMNX extraction file is saved to the 'output_dir' argument\n",
    "    osm_links, osm_nodes = ranch.run_osmnx_extraction(\n",
    "        input_polygon_file = cnty,\n",
    "        output_dir = osm_extract_dir\n",
    "    )\n",
    "\n",
    "    # build and returns roaday network object from extraction files\n",
    "    roadway_network = Roadway.create_roadway_network_from_extracts(\n",
    "        shst.reset_index(),\n",
    "        osm_links,\n",
    "        osm_nodes,\n",
    "        parameters\n",
    "    )\n",
    "\n",
    "    RanchLogger.info(\"write out shape geojson\")\n",
    "\n",
    "    shape_prop = ['id', 'fromIntersectionId', 'toIntersectionId', 'forwardReferenceId', 'backReferenceId']\n",
    "    shape_geojson = link_df_to_geojson(\n",
    "        roadway_network.shapes_df, \n",
    "        shape_prop\n",
    "    )\n",
    "\n",
    "    with open(os.path.join(interim_dir,\"step3_shapes.geojson\"), \"w\") as f:\n",
    "        json.dump(shape_geojson, f)\n",
    "\n",
    "    RanchLogger.info(\"write out node geojson\")\n",
    "\n",
    "    node_prop = roadway_network.nodes_df.drop('geometry', axis = 1).columns.tolist()\n",
    "    node_geojson = point_df_to_geojson(\n",
    "        roadway_network.nodes_df, \n",
    "        node_prop\n",
    "    )\n",
    "\n",
    "    with open(os.path.join(interim_dir,\"step3_nodes.geojson\"), \"w\") as f:\n",
    "        json.dump(node_geojson, f)\n",
    "\n",
    "    RanchLogger.info(\"write out link geojson\")\n",
    "\n",
    "    link_prop = roadway_network.links_df.drop('geometry', axis = 1).columns.tolist()\n",
    "    link_geojson = link_df_to_geojson(\n",
    "        roadway_network.links_df, \n",
    "        link_prop\n",
    "    )\n",
    "\n",
    "    with open(os.path.join(interim_dir,\"step3_links.geojson\"), \"w\") as f:\n",
    "        json.dump(link_geojson, f)"
   ]
  }
 ],
 "metadata": {
  "kernelspec": {
   "display_name": "Ranch (ranch)",
   "language": "python",
   "name": "ranch"
  },
  "language_info": {
   "codemirror_mode": {
    "name": "ipython",
    "version": 3
   },
   "file_extension": ".py",
   "mimetype": "text/x-python",
   "name": "python",
   "nbconvert_exporter": "python",
   "pygments_lexer": "ipython3",
   "version": "3.9.7"
  }
 },
 "nbformat": 4,
 "nbformat_minor": 4
}
