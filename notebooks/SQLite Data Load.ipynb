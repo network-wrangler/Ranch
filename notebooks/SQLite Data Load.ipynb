{
 "cells": [
  {
   "cell_type": "code",
   "execution_count": 1,
   "metadata": {},
   "outputs": [],
   "source": [
    "import os\n",
    "import json\n",
    "import geopandas as gpd\n",
    "import numpy as np\n",
    "import pandas as pd\n",
    "import shapely\n",
    "from sqlalchemy import create_engine, event\n",
    "from sqlite3 import dbapi2 as sqlite"
   ]
  },
  {
   "cell_type": "markdown",
   "metadata": {},
   "source": [
    "Setup Paths"
   ]
  },
  {
   "cell_type": "code",
   "execution_count": 3,
   "metadata": {},
   "outputs": [],
   "source": [
    "cwd = r'C:\\Users\\uscd675041\\WSP O365\\BART-TDLU - Documents'\n",
    "\n",
    "networks = os.path.join(cwd, 'networks')\n",
    "data = os.path.join(cwd, 'data')"
   ]
  },
  {
   "cell_type": "markdown",
   "metadata": {},
   "source": [
    "Create connection to SQLite (Spatialite) Database"
   ]
  },
  {
   "cell_type": "code",
   "execution_count": 2,
   "metadata": {},
   "outputs": [],
   "source": [
    "shared_lib = r'C:\\Program Files\\spatialite'\n",
    "os.environ[\"PATH\"] = shared_lib + \";\" + os.environ[\"PATH\"]\n",
    "\n",
    "#if os.path.exists(os.path.join(networks, 'l21.sqlite')):\n",
    "#    os.remove(os.path.join(networks, 'l21.sqlite'))\n",
    "\n",
    "engine = create_engine(f'sqlite:///{os.path.join(networks, \"l21.sqlite\")}', module=sqlite)"
   ]
  },
  {
   "cell_type": "markdown",
   "metadata": {},
   "source": [
    "Helper Methods"
   ]
  },
  {
   "cell_type": "code",
   "execution_count": 6,
   "metadata": {},
   "outputs": [],
   "source": [
    "@event.listens_for(engine, 'connect')\n",
    "def connect(dbapi_connection, connection_rec):\n",
    "    dbapi_connection.enable_load_extension(True)\n",
    "    dbapi_connection.execute('SELECT load_extension(\"mod_spatialite\")')\n",
    "    \n",
    "def simplify(x):\n",
    "    if isinstance(x, list):\n",
    "        return ','.join([i for i in set(x) if i and i != 'nan'])\n",
    "    if x in ['nan', '', np.nan]:\n",
    "        return None\n",
    "    return x"
   ]
  },
  {
   "cell_type": "markdown",
   "metadata": {},
   "source": [
    "If the database is new, enable spatial feature."
   ]
  },
  {
   "cell_type": "code",
   "execution_count": 7,
   "metadata": {},
   "outputs": [
    {
     "name": "stdout",
     "output_type": "stream",
     "text": [
      "creating spatial metadata...\n"
     ]
    },
    {
     "data": {
      "text/plain": [
       "<sqlalchemy.engine.cursor.LegacyCursorResult at 0x1be7ef34820>"
      ]
     },
     "execution_count": 7,
     "metadata": {},
     "output_type": "execute_result"
    }
   ],
   "source": [
    "# create spatialite metadata\n",
    "print('creating spatial metadata...')\n",
    "engine.execute(\"SELECT InitSpatialMetaData(1);\")"
   ]
  },
  {
   "cell_type": "markdown",
   "metadata": {},
   "source": [
    "Read in list of counties"
   ]
  },
  {
   "cell_type": "code",
   "execution_count": 8,
   "metadata": {},
   "outputs": [],
   "source": [
    "counties = pd.read_csv(os.path.join(data, 'counties.csv'))\n"
   ]
  },
  {
   "cell_type": "markdown",
   "metadata": {},
   "source": [
    "Write to Spatialite"
   ]
  },
  {
   "cell_type": "code",
   "execution_count": 13,
   "metadata": {},
   "outputs": [
    {
     "name": "stdout",
     "output_type": "stream",
     "text": [
      "SanJoaquin:True\n"
     ]
    },
    {
     "name": "stderr",
     "output_type": "stream",
     "text": [
      "C:\\Anaconda3\\envs\\ranch\\lib\\site-packages\\geopandas\\geodataframe.py:1350: UserWarning: Geometry column does not contain geometry.\n",
      "  warnings.warn(\"Geometry column does not contain geometry.\")\n"
     ]
    }
   ],
   "source": [
    "count = 0\n",
    "for sfips, cfips, county_name in zip(counties['STATE_FIPS'], counties['COUNTY_FIPS'], counties['COUNTY_NAME']):\n",
    "    \n",
    "    county_name = county_name.replace(' ', '')\n",
    "    exists = False\n",
    "    \n",
    "    for ext in ['', f'_{county_name}']:\n",
    "        file_name = os.path.join(networks, county_name, f'step8_links{ext}.geojson')\n",
    "        if os.path.exists(file_name):\n",
    "            exists = True\n",
    "            break\n",
    "    \n",
    "    print(f'{county_name}:{exists}')\n",
    "    \n",
    "    if not exists:\n",
    "        continue\n",
    "    \n",
    "    \n",
    "    \n",
    "    \n",
    "    with open(file_name, 'r') as f:\n",
    "        j = json.load(f)\n",
    "    links = gpd.GeoDataFrame.from_features(j)\n",
    "    links['geometry'] = links['geometry'].apply(lambda x: shapely.wkb.dumps(x))\n",
    "\n",
    "\n",
    "    for col in ['roadClass', 'ref', 'name', 'service', 'lanes', 'maxspeed', 'roadway']:\n",
    "        links[col] = links[col].apply(simplify)\n",
    "\n",
    "    links['state_fips'] = sfips\n",
    "    links['county_fips'] = cfips\n",
    "    links['county_name'] = county_name\n",
    "        \n",
    "    use_cols = ['geometry', 'shstReferenceId', 'shstGeometryId',\n",
    "                'fromIntersectionId', 'toIntersectionId', 'u', 'v',\n",
    "                'roadClass','name', 'service', 'ref', 'lanes', 'maxspeed',\n",
    "                'roadway','drive_access', 'walk_access', 'bike_access',\n",
    "                'state_fips', 'county_fips', 'county_name'\n",
    "               ]\n",
    "\n",
    "    \n",
    "    #if count == 0:\n",
    "    #    links[use_cols].to_sql('links_step8', engine, if_exists='replace', index=False)\n",
    "    else:\n",
    "        links[use_cols].to_sql('links_step8', engine, if_exists='append', index=False)\n",
    "    \n",
    "    count = count + 1"
   ]
  },
  {
   "cell_type": "markdown",
   "metadata": {},
   "source": [
    "Create the geometry column"
   ]
  },
  {
   "cell_type": "code",
   "execution_count": 14,
   "metadata": {},
   "outputs": [
    {
     "data": {
      "text/plain": [
       "<sqlalchemy.engine.cursor.LegacyCursorResult at 0x1be0fef3550>"
      ]
     },
     "execution_count": 14,
     "metadata": {},
     "output_type": "execute_result"
    }
   ],
   "source": [
    "engine.execute(\"SELECT AddGeometryColumn('links_step8', 'geom', 4326, 'LINESTRING', 'XY');\")\n",
    "engine.execute(\"UPDATE links_step8 SET geom=GeomFromWKB(geometry, 4326) WHERE geom is null;\")"
   ]
  },
  {
   "cell_type": "markdown",
   "metadata": {},
   "source": [
    "Create indexes"
   ]
  },
  {
   "cell_type": "code",
   "execution_count": 15,
   "metadata": {},
   "outputs": [
    {
     "data": {
      "text/plain": [
       "<sqlalchemy.engine.cursor.LegacyCursorResult at 0x1be0fef33d0>"
      ]
     },
     "execution_count": 15,
     "metadata": {},
     "output_type": "execute_result"
    }
   ],
   "source": [
    "engine.execute(\"CREATE INDEX ix_links_step8_fips ON links_step8(state_fips, county_fips);\")\n",
    "engine.execute(\"SELECT CreateSpatialIndex('links_step8', 'geom');\")"
   ]
  }
 ],
 "metadata": {
  "kernelspec": {
   "display_name": "Ranch (ranch)",
   "language": "python",
   "name": "ranch"
  },
  "language_info": {
   "codemirror_mode": {
    "name": "ipython",
    "version": 3
   },
   "file_extension": ".py",
   "mimetype": "text/x-python",
   "name": "python",
   "nbconvert_exporter": "python",
   "pygments_lexer": "ipython3",
   "version": "3.9.7"
  }
 },
 "nbformat": 4,
 "nbformat_minor": 4
}
